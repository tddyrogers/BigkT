{
 "cells": [
  {
   "cell_type": "markdown",
   "metadata": {},
   "source": [
    "# Code generator"
   ]
  },
  {
   "cell_type": "code",
   "execution_count": 1,
   "metadata": {
    "collapsed": true
   },
   "outputs": [],
   "source": [
    "import sys,os\n",
    "import numpy as np\n",
    "import sympy as sp\n",
    "import pylab as py\n",
    "from qgraf.qgraf import QGRAF\n",
    "from form.form import FORM\n",
    "from tools.tools import load\n",
    "from scipy.integrate import quad\n",
    "from sympy.parsing.sympy_parser import parse_expr\n",
    "%matplotlib inline"
   ]
  },
  {
   "cell_type": "code",
   "execution_count": 2,
   "metadata": {
    "collapsed": true
   },
   "outputs": [],
   "source": [
    "def to_sympy(exp):\n",
    "    ATOMS=[]\n",
    "    exp=exp.replace('^','**')\n",
    "    atoms=exp.replace('*',' ').replace('+',' ').replace('-',' ')\n",
    "    atoms=atoms.replace('/',' ').replace('(',' ').replace(')',' ').split()\n",
    "    atoms=sorted(set(atoms))\n",
    "    for a in atoms:\n",
    "        try: \n",
    "            int(a)\n",
    "        except:\n",
    "            ATOMS.append(a)\n",
    "    ATOMS=sorted(set(ATOMS))\n",
    "    for a in ATOMS:\n",
    "        exec '%s=sp.Symbol(\"%s\")'%(a,a)\n",
    "    return parse_expr(exp)"
   ]
  },
  {
   "cell_type": "markdown",
   "metadata": {},
   "source": [
    "## Create sympy symbols to be use across the notebook"
   ]
  },
  {
   "cell_type": "code",
   "execution_count": 3,
   "metadata": {
    "collapsed": true
   },
   "outputs": [],
   "source": [
    "CF=sp.S('CF')\n",
    "gs2=sp.S('gs2')\n",
    "gu2=sp.S('gu2')\n",
    "gd2=sp.S('gd2')\n",
    "Q2=sp.S('Q2')\n",
    "s=sp.S('s')\n",
    "s12=sp.S('s12')\n",
    "t1=sp.S('t1')\n",
    "u1=sp.S('u1')\n",
    "t2=sp.S('t2')\n",
    "u2=sp.S('u2')\n",
    "qT2=sp.S('qT2')\n",
    "xh=sp.S('xh')\n",
    "zh=sp.S('zh')\n",
    "z=sp.S('z')"
   ]
  },
  {
   "cell_type": "markdown",
   "metadata": {},
   "source": [
    "## generate amps and sqamps with qgraf\n",
    "\n",
    "- A, B, C and D now correspond to the figures in the paper\n"
   ]
  },
  {
   "cell_type": "code",
   "execution_count": 4,
   "metadata": {
    "collapsed": true
   },
   "outputs": [],
   "source": [
    "process={}\n",
    "process['bornA']={'in':'A[p1],u[p2]','out':'u[q1],G[q2]'}\n",
    "process['bornB']={'in':'A[p1],u[p2]','out':'G[q1],u[q2]'}\n",
    "process['bornC']={'in':'A[p1],G[p2]','out':'u[q1],ub[q2]'}\n",
    "process['bornD']={'in':'A[p1],G[p2]','out':'ub[q1],u[q2]'}"
   ]
  },
  {
   "cell_type": "code",
   "execution_count": 5,
   "metadata": {
    "collapsed": true
   },
   "outputs": [],
   "source": [
    "for k in process:\n",
    "    conf={}                          \n",
    "    conf['path2qgraf']='./qgraf/'          \n",
    "    conf['label']=k           \n",
    "    conf['style']='array.sty'        \n",
    "    conf['model']='SM'               \n",
    "    conf['in']=process[k]['in']        \n",
    "    conf['out']=process[k]['out']       \n",
    "    conf['loops']=0;                 \n",
    "    conf['loop_momentum']=''     \n",
    "    conf['extra']=[]\n",
    "    conf['options']='notadpole'      \n",
    "    process[k]['qgraf']=QGRAF(conf).data"
   ]
  },
  {
   "cell_type": "code",
   "execution_count": 6,
   "metadata": {
    "collapsed": false,
    "scrolled": false
   },
   "outputs": [
    {
     "name": "stdout",
     "output_type": "stream",
     "text": [
      "bornB [a0*ca0] :\n",
      "\t(+1)*eps(A,p1,s1,MA,o1)*eps(G,q1,r1,MG,o2,j2)*(+1)*epsB(A,p1,s1,MA,o1001)*epsB(G,q1,r1,MG,o1002,j1002)*U(sc1,u,q2,r2,Mu)*UB(sc1,u,q2,r2,Mu)*(-i_)*gs^1*gI_(sc1,o2)*i_*(g_(sc1,p1)+g_(sc1,+p2)+g_(sc1)*Mu)*den(p1+p2,Mu)*(-i_)*gu^1*gI_(sc1,o1)*U(sc1,u,p2,s2,Mu)*UB(sc1,u,p2,s2,Mu)*(i_)*gu^1*gI_(sc1,o1001)*(-i_)*(g_(sc1,p1)+g_(sc1,+p2)+g_(sc1)*Mu)*den(p1+p2,Mu)*(i_)*gs^1*gI_(sc1,o1002)*Tr(j2,j1002)\n",
      "bornB [a0*ca1] :\n",
      "\t(+1)*eps(A,p1,s1,MA,o1)*eps(G,q1,r1,MG,o2,j2)*(+1)*epsB(A,p1,s1,MA,o1001)*epsB(G,q1,r1,MG,o1002,j1002)*U(sc1,u,q2,r2,Mu)*UB(sc1,u,q2,r2,Mu)*(-i_)*gs^1*gI_(sc1,o2)*i_*(g_(sc1,p1)+g_(sc1,+p2)+g_(sc1)*Mu)*den(p1+p2,Mu)*(-i_)*gu^1*gI_(sc1,o1)*U(sc1,u,p2,s2,Mu)*UB(sc1,u,p2,s2,Mu)*(i_)*gs^1*gI_(sc1,o1002)*(-i_)*(g_(sc1,-p1)+g_(sc1,+q2)+g_(sc1)*Mu)*den(-p1+q2,Mu)*(i_)*gu^1*gI_(sc1,o1001)*Tr(j2,j1002)\n",
      "bornB [a1*ca1] :\n",
      "\t(+1)*eps(A,p1,s1,MA,o1)*eps(G,q1,r1,MG,o2,j2)*(+1)*epsB(A,p1,s1,MA,o1001)*epsB(G,q1,r1,MG,o1002,j1002)*U(sc1,u,q2,r2,Mu)*UB(sc1,u,q2,r2,Mu)*(-i_)*gu^1*gI_(sc1,o1)*i_*(g_(sc1,-p1)+g_(sc1,+q2)+g_(sc1)*Mu)*den(-p1+q2,Mu)*(-i_)*gs^1*gI_(sc1,o2)*U(sc1,u,p2,s2,Mu)*UB(sc1,u,p2,s2,Mu)*(i_)*gs^1*gI_(sc1,o1002)*(-i_)*(g_(sc1,-p1)+g_(sc1,+q2)+g_(sc1)*Mu)*den(-p1+q2,Mu)*(i_)*gu^1*gI_(sc1,o1001)*Tr(j2,j1002)\n",
      "bornB [a1*ca0] :\n",
      "\t(+1)*eps(A,p1,s1,MA,o1)*eps(G,q1,r1,MG,o2,j2)*(+1)*epsB(A,p1,s1,MA,o1001)*epsB(G,q1,r1,MG,o1002,j1002)*U(sc1,u,q2,r2,Mu)*UB(sc1,u,q2,r2,Mu)*(-i_)*gu^1*gI_(sc1,o1)*i_*(g_(sc1,-p1)+g_(sc1,+q2)+g_(sc1)*Mu)*den(-p1+q2,Mu)*(-i_)*gs^1*gI_(sc1,o2)*U(sc1,u,p2,s2,Mu)*UB(sc1,u,p2,s2,Mu)*(i_)*gu^1*gI_(sc1,o1001)*(-i_)*(g_(sc1,p1)+g_(sc1,+p2)+g_(sc1)*Mu)*den(p1+p2,Mu)*(i_)*gs^1*gI_(sc1,o1002)*Tr(j2,j1002)\n",
      "bornC [a0*ca0] :\n",
      "\t(+1)*eps(A,p1,s1,MA,o1)*eps(G,p2,s2,MG,o2,j2)*(+1)*epsB(A,p1,s1,MA,o1001)*epsB(G,p2,s2,MG,o1002,j1002)*U(sc1,u,q1,r1,Mu)*UB(sc1,u,q1,r1,Mu)*(-i_)*gu^1*gI_(sc1,o1)*i_*(g_(sc1,-p1)+g_(sc1,+q1)+g_(sc1)*Mu)*den(-p1+q1,Mu)*(-i_)*gs^1*gI_(sc1,o2)*V(sc1,ub,q2,r2,Mu)*VB(sc1,ub,q2,r2,Mu)*(i_)*gs^1*gI_(sc1,o1002)*(-i_)*(g_(sc1,-p1)+g_(sc1,+q1)+g_(sc1)*Mu)*den(-p1+q1,Mu)*(i_)*gu^1*gI_(sc1,o1001)*Tr(j2,j1002)\n",
      "bornC [a0*ca1] :\n",
      "\t(+1)*eps(A,p1,s1,MA,o1)*eps(G,p2,s2,MG,o2,j2)*(+1)*epsB(A,p1,s1,MA,o1001)*epsB(G,p2,s2,MG,o1002,j1002)*U(sc1,u,q1,r1,Mu)*UB(sc1,u,q1,r1,Mu)*(-i_)*gu^1*gI_(sc1,o1)*i_*(g_(sc1,-p1)+g_(sc1,+q1)+g_(sc1)*Mu)*den(-p1+q1,Mu)*(-i_)*gs^1*gI_(sc1,o2)*V(sc1,ub,q2,r2,Mu)*VB(sc1,ub,q2,r2,Mu)*(i_)*gu^1*gI_(sc1,o1001)*(-i_)*(g_(sc1,p1)+g_(sc1,-q2)+g_(sc1)*Mu)*den(p1-q2,Mu)*(i_)*gs^1*gI_(sc1,o1002)*Tr(j2,j1002)\n",
      "bornC [a1*ca1] :\n",
      "\t(+1)*eps(A,p1,s1,MA,o1)*eps(G,p2,s2,MG,o2,j2)*(+1)*epsB(A,p1,s1,MA,o1001)*epsB(G,p2,s2,MG,o1002,j1002)*U(sc1,u,q1,r1,Mu)*UB(sc1,u,q1,r1,Mu)*(-i_)*gs^1*gI_(sc1,o2)*i_*(g_(sc1,p1)+g_(sc1,-q2)+g_(sc1)*Mu)*den(p1-q2,Mu)*(-i_)*gu^1*gI_(sc1,o1)*V(sc1,ub,q2,r2,Mu)*VB(sc1,ub,q2,r2,Mu)*(i_)*gu^1*gI_(sc1,o1001)*(-i_)*(g_(sc1,p1)+g_(sc1,-q2)+g_(sc1)*Mu)*den(p1-q2,Mu)*(i_)*gs^1*gI_(sc1,o1002)*Tr(j2,j1002)\n",
      "bornC [a1*ca0] :\n",
      "\t(+1)*eps(A,p1,s1,MA,o1)*eps(G,p2,s2,MG,o2,j2)*(+1)*epsB(A,p1,s1,MA,o1001)*epsB(G,p2,s2,MG,o1002,j1002)*U(sc1,u,q1,r1,Mu)*UB(sc1,u,q1,r1,Mu)*(-i_)*gs^1*gI_(sc1,o2)*i_*(g_(sc1,p1)+g_(sc1,-q2)+g_(sc1)*Mu)*den(p1-q2,Mu)*(-i_)*gu^1*gI_(sc1,o1)*V(sc1,ub,q2,r2,Mu)*VB(sc1,ub,q2,r2,Mu)*(i_)*gs^1*gI_(sc1,o1002)*(-i_)*(g_(sc1,-p1)+g_(sc1,+q1)+g_(sc1)*Mu)*den(-p1+q1,Mu)*(i_)*gu^1*gI_(sc1,o1001)*Tr(j2,j1002)\n",
      "bornA [a0*ca0] :\n",
      "\t(+1)*eps(A,p1,s1,MA,o1)*eps(G,q2,r2,MG,o2,j2)*(+1)*epsB(A,p1,s1,MA,o1001)*epsB(G,q2,r2,MG,o1002,j1002)*U(sc1,u,q1,r1,Mu)*UB(sc1,u,q1,r1,Mu)*(-i_)*gs^1*gI_(sc1,o2)*i_*(g_(sc1,p1)+g_(sc1,+p2)+g_(sc1)*Mu)*den(p1+p2,Mu)*(-i_)*gu^1*gI_(sc1,o1)*U(sc1,u,p2,s2,Mu)*UB(sc1,u,p2,s2,Mu)*(i_)*gu^1*gI_(sc1,o1001)*(-i_)*(g_(sc1,p1)+g_(sc1,+p2)+g_(sc1)*Mu)*den(p1+p2,Mu)*(i_)*gs^1*gI_(sc1,o1002)*Tr(j2,j1002)\n",
      "bornA [a0*ca1] :\n",
      "\t(+1)*eps(A,p1,s1,MA,o1)*eps(G,q2,r2,MG,o2,j2)*(+1)*epsB(A,p1,s1,MA,o1001)*epsB(G,q2,r2,MG,o1002,j1002)*U(sc1,u,q1,r1,Mu)*UB(sc1,u,q1,r1,Mu)*(-i_)*gs^1*gI_(sc1,o2)*i_*(g_(sc1,p1)+g_(sc1,+p2)+g_(sc1)*Mu)*den(p1+p2,Mu)*(-i_)*gu^1*gI_(sc1,o1)*U(sc1,u,p2,s2,Mu)*UB(sc1,u,p2,s2,Mu)*(i_)*gs^1*gI_(sc1,o1002)*(-i_)*(g_(sc1,-p1)+g_(sc1,+q1)+g_(sc1)*Mu)*den(-p1+q1,Mu)*(i_)*gu^1*gI_(sc1,o1001)*Tr(j2,j1002)\n",
      "bornA [a1*ca1] :\n",
      "\t(+1)*eps(A,p1,s1,MA,o1)*eps(G,q2,r2,MG,o2,j2)*(+1)*epsB(A,p1,s1,MA,o1001)*epsB(G,q2,r2,MG,o1002,j1002)*U(sc1,u,q1,r1,Mu)*UB(sc1,u,q1,r1,Mu)*(-i_)*gu^1*gI_(sc1,o1)*i_*(g_(sc1,-p1)+g_(sc1,+q1)+g_(sc1)*Mu)*den(-p1+q1,Mu)*(-i_)*gs^1*gI_(sc1,o2)*U(sc1,u,p2,s2,Mu)*UB(sc1,u,p2,s2,Mu)*(i_)*gs^1*gI_(sc1,o1002)*(-i_)*(g_(sc1,-p1)+g_(sc1,+q1)+g_(sc1)*Mu)*den(-p1+q1,Mu)*(i_)*gu^1*gI_(sc1,o1001)*Tr(j2,j1002)\n",
      "bornA [a1*ca0] :\n",
      "\t(+1)*eps(A,p1,s1,MA,o1)*eps(G,q2,r2,MG,o2,j2)*(+1)*epsB(A,p1,s1,MA,o1001)*epsB(G,q2,r2,MG,o1002,j1002)*U(sc1,u,q1,r1,Mu)*UB(sc1,u,q1,r1,Mu)*(-i_)*gu^1*gI_(sc1,o1)*i_*(g_(sc1,-p1)+g_(sc1,+q1)+g_(sc1)*Mu)*den(-p1+q1,Mu)*(-i_)*gs^1*gI_(sc1,o2)*U(sc1,u,p2,s2,Mu)*UB(sc1,u,p2,s2,Mu)*(i_)*gu^1*gI_(sc1,o1001)*(-i_)*(g_(sc1,p1)+g_(sc1,+p2)+g_(sc1)*Mu)*den(p1+p2,Mu)*(i_)*gs^1*gI_(sc1,o1002)*Tr(j2,j1002)\n",
      "bornD [a0*ca0] :\n",
      "\t(-1)*eps(A,p1,s1,MA,o1)*eps(G,p2,s2,MG,o2,j2)*(-1)*epsB(A,p1,s1,MA,o1001)*epsB(G,p2,s2,MG,o1002,j1002)*U(sc1,u,q2,r2,Mu)*UB(sc1,u,q2,r2,Mu)*(-i_)*gs^1*gI_(sc1,o2)*i_*(g_(sc1,p1)+g_(sc1,-q1)+g_(sc1)*Mu)*den(p1-q1,Mu)*(-i_)*gu^1*gI_(sc1,o1)*V(sc1,ub,q1,r1,Mu)*VB(sc1,ub,q1,r1,Mu)*(i_)*gu^1*gI_(sc1,o1001)*(-i_)*(g_(sc1,p1)+g_(sc1,-q1)+g_(sc1)*Mu)*den(p1-q1,Mu)*(i_)*gs^1*gI_(sc1,o1002)*Tr(j2,j1002)\n",
      "bornD [a0*ca1] :\n",
      "\t(-1)*eps(A,p1,s1,MA,o1)*eps(G,p2,s2,MG,o2,j2)*(-1)*epsB(A,p1,s1,MA,o1001)*epsB(G,p2,s2,MG,o1002,j1002)*U(sc1,u,q2,r2,Mu)*UB(sc1,u,q2,r2,Mu)*(-i_)*gs^1*gI_(sc1,o2)*i_*(g_(sc1,p1)+g_(sc1,-q1)+g_(sc1)*Mu)*den(p1-q1,Mu)*(-i_)*gu^1*gI_(sc1,o1)*V(sc1,ub,q1,r1,Mu)*VB(sc1,ub,q1,r1,Mu)*(i_)*gs^1*gI_(sc1,o1002)*(-i_)*(g_(sc1,-p1)+g_(sc1,+q2)+g_(sc1)*Mu)*den(-p1+q2,Mu)*(i_)*gu^1*gI_(sc1,o1001)*Tr(j2,j1002)\n",
      "bornD [a1*ca1] :\n",
      "\t(-1)*eps(A,p1,s1,MA,o1)*eps(G,p2,s2,MG,o2,j2)*(-1)*epsB(A,p1,s1,MA,o1001)*epsB(G,p2,s2,MG,o1002,j1002)*U(sc1,u,q2,r2,Mu)*UB(sc1,u,q2,r2,Mu)*(-i_)*gu^1*gI_(sc1,o1)*i_*(g_(sc1,-p1)+g_(sc1,+q2)+g_(sc1)*Mu)*den(-p1+q2,Mu)*(-i_)*gs^1*gI_(sc1,o2)*V(sc1,ub,q1,r1,Mu)*VB(sc1,ub,q1,r1,Mu)*(i_)*gs^1*gI_(sc1,o1002)*(-i_)*(g_(sc1,-p1)+g_(sc1,+q2)+g_(sc1)*Mu)*den(-p1+q2,Mu)*(i_)*gu^1*gI_(sc1,o1001)*Tr(j2,j1002)\n",
      "bornD [a1*ca0] :\n",
      "\t(-1)*eps(A,p1,s1,MA,o1)*eps(G,p2,s2,MG,o2,j2)*(-1)*epsB(A,p1,s1,MA,o1001)*epsB(G,p2,s2,MG,o1002,j1002)*U(sc1,u,q2,r2,Mu)*UB(sc1,u,q2,r2,Mu)*(-i_)*gu^1*gI_(sc1,o1)*i_*(g_(sc1,-p1)+g_(sc1,+q2)+g_(sc1)*Mu)*den(-p1+q2,Mu)*(-i_)*gs^1*gI_(sc1,o2)*V(sc1,ub,q1,r1,Mu)*VB(sc1,ub,q1,r1,Mu)*(i_)*gu^1*gI_(sc1,o1001)*(-i_)*(g_(sc1,p1)+g_(sc1,-q1)+g_(sc1)*Mu)*den(p1-q1,Mu)*(i_)*gs^1*gI_(sc1,o1002)*Tr(j2,j1002)\n"
     ]
    }
   ],
   "source": [
    "for k in process: \n",
    "    for sqamp in process[k]['qgraf']['SQAMPS']: \n",
    "        print k,sqamp,':'\n",
    "        print '\\t',process[k]['qgraf']['SQAMPS'][sqamp]"
   ]
  },
  {
   "cell_type": "markdown",
   "metadata": {},
   "source": [
    "## use form to compute traces and convert expression into sympy expression"
   ]
  },
  {
   "cell_type": "code",
   "execution_count": 7,
   "metadata": {
    "collapsed": true,
    "scrolled": false
   },
   "outputs": [],
   "source": [
    "for k in process:\n",
    "    process[k]['Pg']=None\n",
    "    process[k]['Ppp']=None\n",
    "    for kk in ['Pg','Ppp']:\n",
    "        conf={}\n",
    "        conf['label']=k\n",
    "        conf['path2form']='./form'\n",
    "        conf['qgraf']=process[k]['qgraf']\n",
    "        conf['projection']='%s.frm'%kk\n",
    "        terms=FORM(conf).data['total']\n",
    "        combine=0\n",
    "        for term in terms:\n",
    "            term=to_sympy(term)\n",
    "            term=term.replace('gs**2',gs2)\n",
    "            term=term.replace('gu**2',gu2)\n",
    "            term=term.replace('gd**2',gd2)\n",
    "            term=term.replace(s12,s)\n",
    "            term=term.replace(u2,t1)\n",
    "            term=term.replace(t2,u1)\n",
    "            combine+=term\n",
    "        process[k][kk]=sp.simplify(combine)"
   ]
  },
  {
   "cell_type": "markdown",
   "metadata": {},
   "source": [
    "## Display squared amplituds"
   ]
  },
  {
   "cell_type": "code",
   "execution_count": 8,
   "metadata": {
    "collapsed": false
   },
   "outputs": [
    {
     "name": "stdout",
     "output_type": "stream",
     "text": [
      "bornA Pg :\n",
      "\t8*ave*gs2*gu2*(Q2*s**2*(D**2*Q2 + D**2*s + D**2*u1 - 4*D*Q2 - 4*D*s - 4*D*u1 + 4*Q2 + 4*s + 4*u1) + Q2*t1**2*(D**2*Q2 + D**2*t1 + D**2*u1 - 4*D*Q2 - 4*D*t1 - 4*D*u1 + 4*Q2 + 4*t1 + 4*u1) + 2*s**2*t1**2*(D**2 - 6*D + 8) + s**2*t1*(3*D**2*Q2 + D**2*s - 16*D*Q2 - 4*D*s + 4*D*u1 + 20*Q2 + 4*s - 8*u1) + s*t1**2*(3*D**2*Q2 + D**2*t1 - 16*D*Q2 - 4*D*t1 + 4*D*u1 + 20*Q2 + 4*t1 - 8*u1) + 2*s*t1*(D**2*Q2**2 + D**2*Q2*u1 - 6*D*Q2**2 - 6*D*Q2*u1 + 2*D*u1**2 + 8*Q2**2 + 8*Q2*u1 - 4*u1**2))/(s**2*t1**2)\n",
      "bornA Ppp :\n",
      "\t8*ave*gs2*gu2*u1*(-D*Q2**2 - 2*D*Q2*s - 2*D*Q2*u1 - D*s**2 - 2*D*s*u1 - D*u1**2 + 2*Q2**2 + 4*Q2*s + 4*Q2*u1 + 2*s**2 + 4*s*u1 + 2*u1**2)/t1**2\n",
      "bornB Pg :\n",
      "\t8*ave*gs2*gu2*(Q2*s**2*(D**2*Q2 + D**2*s + D**2*t1 - 4*D*Q2 - 4*D*s - 4*D*t1 + 4*Q2 + 4*s + 4*t1) + Q2*u1**2*(D**2*Q2 + D**2*t1 + D**2*u1 - 4*D*Q2 - 4*D*t1 - 4*D*u1 + 4*Q2 + 4*t1 + 4*u1) + 2*s**2*u1**2*(D**2 - 6*D + 8) + s**2*u1*(3*D**2*Q2 + D**2*s - 16*D*Q2 - 4*D*s + 4*D*t1 + 20*Q2 + 4*s - 8*t1) + s*u1**2*(3*D**2*Q2 + D**2*u1 - 16*D*Q2 + 4*D*t1 - 4*D*u1 + 20*Q2 - 8*t1 + 4*u1) + 2*s*u1*(D**2*Q2**2 + D**2*Q2*t1 - 6*D*Q2**2 - 6*D*Q2*t1 + 2*D*t1**2 + 8*Q2**2 + 8*Q2*t1 - 4*t1**2))/(s**2*u1**2)\n",
      "bornB Ppp :\n",
      "\t8*ave*gs2*gu2*t1*(-D*Q2**2 - 2*D*Q2*s - 2*D*Q2*t1 - D*s**2 - 2*D*s*t1 - D*t1**2 + 2*Q2**2 + 4*Q2*s + 4*Q2*t1 + 2*s**2 + 4*s*t1 + 2*t1**2)/u1**2\n",
      "bornC Pg :\n",
      "\t8*ave*gs2*gu2*(Q2*t1**2*(-D**2*Q2 - D**2*s - D**2*t1 + 4*D*Q2 + 4*D*s + 4*D*t1 - 4*Q2 - 4*s - 4*t1) + Q2*u1**2*(-D**2*Q2 - D**2*s - D**2*u1 + 4*D*Q2 + 4*D*s + 4*D*u1 - 4*Q2 - 4*s - 4*u1) + 2*t1**2*u1**2*(-D**2 + 6*D - 8) + t1**2*u1*(-3*D**2*Q2 - D**2*t1 + 16*D*Q2 - 4*D*s + 4*D*t1 - 20*Q2 + 8*s - 4*t1) + t1*u1**2*(-3*D**2*Q2 - D**2*u1 + 16*D*Q2 - 4*D*s + 4*D*u1 - 20*Q2 + 8*s - 4*u1) + 2*t1*u1*(-D**2*Q2**2 - D**2*Q2*s + 6*D*Q2**2 + 6*D*Q2*s - 2*D*s**2 - 8*Q2**2 - 8*Q2*s + 4*s**2))/(t1**2*u1**2)\n",
      "bornC Ppp :\n",
      "\t8*ave*gs2*gu2*(s*t1*u1*(-D*Q2**2 - 2*D*Q2*s - D*s**2 + 4*Q2**2 + 8*Q2*s + 4*s**2) + t1**3*(D*Q2**2 + 2*D*Q2*s + 2*D*Q2*t1 + D*s**2 + 2*D*s*t1 + D*t1**2 - 2*Q2**2 - 4*Q2*s - 4*Q2*t1 - 2*s**2 - 4*s*t1 - 2*t1**2) + 2*t1**2*u1**2*(-D*s - D*t1 - D*u1 - 2*Q2 + 2*s + 2*t1 + 2*u1) + t1**2*u1*(D*Q2**2 + 2*D*Q2*t1 - D*s**2 + D*s*t1 + D*t1**2 - 4*Q2**2 - 2*Q2*s - 6*Q2*t1 + 2*s**2 - 4*s*t1 - 2*t1**2) + t1*u1**2*(D*Q2**2 + 2*D*Q2*u1 - D*s**2 + D*s*u1 + D*u1**2 - 4*Q2**2 - 2*Q2*s - 6*Q2*u1 + 2*s**2 - 4*s*u1 - 2*u1**2) + u1**3*(D*Q2**2 + 2*D*Q2*s + 2*D*Q2*u1 + D*s**2 + 2*D*s*u1 + D*u1**2 - 2*Q2**2 - 4*Q2*s - 4*Q2*u1 - 2*s**2 - 4*s*u1 - 2*u1**2))/(t1**2*u1**2)\n",
      "bornD Pg :\n",
      "\t8*ave*gs2*gu2*(Q2*t1**2*(-D**2*Q2 - D**2*s - D**2*t1 + 4*D*Q2 + 4*D*s + 4*D*t1 - 4*Q2 - 4*s - 4*t1) + Q2*u1**2*(-D**2*Q2 - D**2*s - D**2*u1 + 4*D*Q2 + 4*D*s + 4*D*u1 - 4*Q2 - 4*s - 4*u1) + 2*t1**2*u1**2*(-D**2 + 6*D - 8) + t1**2*u1*(-3*D**2*Q2 - D**2*t1 + 16*D*Q2 - 4*D*s + 4*D*t1 - 20*Q2 + 8*s - 4*t1) + t1*u1**2*(-3*D**2*Q2 - D**2*u1 + 16*D*Q2 - 4*D*s + 4*D*u1 - 20*Q2 + 8*s - 4*u1) + 2*t1*u1*(-D**2*Q2**2 - D**2*Q2*s + 6*D*Q2**2 + 6*D*Q2*s - 2*D*s**2 - 8*Q2**2 - 8*Q2*s + 4*s**2))/(t1**2*u1**2)\n",
      "bornD Ppp :\n",
      "\t8*ave*gs2*gu2*(s*t1*u1*(-D*Q2**2 - 2*D*Q2*s - D*s**2 + 4*Q2**2 + 8*Q2*s + 4*s**2) + t1**3*(D*Q2**2 + 2*D*Q2*s + 2*D*Q2*t1 + D*s**2 + 2*D*s*t1 + D*t1**2 - 2*Q2**2 - 4*Q2*s - 4*Q2*t1 - 2*s**2 - 4*s*t1 - 2*t1**2) + 2*t1**2*u1**2*(-D*s - D*t1 - D*u1 - 2*Q2 + 2*s + 2*t1 + 2*u1) + t1**2*u1*(D*Q2**2 + 2*D*Q2*t1 - D*s**2 + D*s*t1 + D*t1**2 - 4*Q2**2 - 2*Q2*s - 6*Q2*t1 + 2*s**2 - 4*s*t1 - 2*t1**2) + t1*u1**2*(D*Q2**2 + 2*D*Q2*u1 - D*s**2 + D*s*u1 + D*u1**2 - 4*Q2**2 - 2*Q2*s - 6*Q2*u1 + 2*s**2 - 4*s*u1 - 2*u1**2) + u1**3*(D*Q2**2 + 2*D*Q2*s + 2*D*Q2*u1 + D*s**2 + 2*D*s*u1 + D*u1**2 - 2*Q2**2 - 4*Q2*s - 4*Q2*u1 - 2*s**2 - 4*s*u1 - 2*u1**2))/(t1**2*u1**2)\n"
     ]
    }
   ],
   "source": [
    "for k in ['bornA','bornB','bornC','bornD']:\n",
    "    for kk in ['Pg','Ppp']:\n",
    "        print k,kk,':'\n",
    "        print '\\t',process[k][kk]"
   ]
  },
  {
   "cell_type": "markdown",
   "metadata": {},
   "source": [
    "## Special treatment at LO.  \n",
    "- We convert 4/3 to CF, \n",
    "- set strong coupling gs2 =1\n",
    "- set charge factor gu2=gd2=1 \n",
    "- save the results at sqamps\n",
    "- convert s,t,u -> xh,zh,Q2,qT2"
   ]
  },
  {
   "cell_type": "code",
   "execution_count": 16,
   "metadata": {
    "collapsed": false
   },
   "outputs": [],
   "source": [
    "sqamps={}\n",
    "for k in ['bornA','bornB','bornC','bornD']:\n",
    "    sqamps[k]={}\n",
    "    for kk in ['Pg','Ppp']:\n",
    "        sqamps[k][kk]=process[k][kk].subs(\"D\",sp.S(4))\n",
    "        #sqamps[k][kk]=sqamps[k][kk]*CF/(sp.S(4)/sp.S(3))\n",
    "        if k=='bornA' or k=='bornB': sqamps[k][kk]=sqamps[k][kk].subs(\"ave\",1/sp.S(2*3))        \n",
    "        if k=='bornC' or k=='bornD': sqamps[k][kk]=sqamps[k][kk].subs(\"ave\",1/sp.S(2*8))\n",
    "        sqamps[k][kk]=sqamps[k][kk].subs(gs2,1).subs(gu2,1)\n",
    "        sqamps[k][kk]=sqamps[k][kk].subs(u1,-Q2-t1-s).simplify()\n",
    "        sqamps[k][kk]=sqamps[k][kk].subs(s,Q2*(1/xh-1))\n",
    "        sqamps[k][kk]=sqamps[k][kk].subs(t1,-Q2*(1-zh)-zh*qT2).simplify()"
   ]
  },
  {
   "cell_type": "markdown",
   "metadata": {},
   "source": [
    "## Example"
   ]
  },
  {
   "cell_type": "code",
   "execution_count": 17,
   "metadata": {
    "collapsed": false
   },
   "outputs": [
    {
     "data": {
      "text/plain": [
       "16*(2*Q2**2*xh*(-xh + 1) + Q2**2*(xh - 1)**2 + xh**2*(2*Q2**2 - 2*Q2*(-Q2*(zh - 1) + qT2*zh) + (-Q2*(zh - 1) + qT2*zh)**2))/(3*Q2*xh*(xh - 1)*(-Q2*(zh - 1) + qT2*zh))"
      ]
     },
     "execution_count": 17,
     "metadata": {},
     "output_type": "execute_result"
    }
   ],
   "source": [
    "sqamps['bornA']['Pg']#.expand()"
   ]
  },
  {
   "cell_type": "markdown",
   "metadata": {},
   "source": [
    "## Construct LO partonic structure functions"
   ]
  },
  {
   "cell_type": "code",
   "execution_count": 18,
   "metadata": {
    "collapsed": true
   },
   "outputs": [],
   "source": [
    "#partialps=1/sp.S(8)/sp.pi**3/Q2/zh\n",
    "ampave = lambda channel,projection: sqamps[channel][projection]#/(2*sp.pi)**3"
   ]
  },
  {
   "cell_type": "markdown",
   "metadata": {},
   "source": [
    "##  Example"
   ]
  },
  {
   "cell_type": "code",
   "execution_count": 19,
   "metadata": {
    "collapsed": true
   },
   "outputs": [],
   "source": [
    "def convert(exp):\n",
    "    sexp=str(exp)#.replace('sqrt','np.sqrt')\n",
    "    #sexp=sexp.replace('log','np.log')\n",
    "    sexp=sexp.replace('pi','np.pi')\n",
    "    #sexp=sexp.replace('Abs','np.abs')\n",
    "    #sexp=sexp.replace('polylog','fp.polylog')    \n",
    "    return sexp\n",
    "\n",
    "code=[]\n",
    "code.append(r'#!/usr/bin/env python')\n",
    "code.append(r'import numpy as np')\n",
    "code.append(r'from mpmath import fp')\n",
    "code.append(r'import numpy as np')\n",
    "\n",
    "for _ in ['A','B','C','D']:\n",
    "    code.append(r'def Pg%s(xh,zh,qT2,Q2):'%_)\n",
    "    code.append('    return %s'%convert(ampave('born%s'%_,'Pg')))\n",
    "for _ in ['A','B','C','D']:\n",
    "    code.append(r'def Ppp%s(xh,zh,qT2,Q2):'%_)\n",
    "    code.append('    return %s'%convert(ampave('born%s'%_,'Ppp')))\n",
    "\n",
    "code=[l+'\\n' for l in code]\n",
    "F=open('LO.py','w')\n",
    "F.writelines(code)\n",
    "F.close()"
   ]
  },
  {
   "cell_type": "code",
   "execution_count": null,
   "metadata": {
    "collapsed": true
   },
   "outputs": [],
   "source": []
  }
 ],
 "metadata": {
  "kernelspec": {
   "display_name": "Python 2",
   "language": "python",
   "name": "python2"
  },
  "language_info": {
   "codemirror_mode": {
    "name": "ipython",
    "version": 2
   },
   "file_extension": ".py",
   "mimetype": "text/x-python",
   "name": "python",
   "nbconvert_exporter": "python",
   "pygments_lexer": "ipython2",
   "version": "2.7.14"
  }
 },
 "nbformat": 4,
 "nbformat_minor": 2
}
