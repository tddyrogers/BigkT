{
 "cells": [
  {
   "cell_type": "markdown",
   "metadata": {},
   "source": [
    "# NSY benchmark"
   ]
  },
  {
   "cell_type": "code",
   "execution_count": 23,
   "metadata": {
    "collapsed": false
   },
   "outputs": [],
   "source": [
    "import sys,os\n",
    "import numpy as np\n",
    "import sympy as sp\n",
    "import pylab as py\n",
    "from qgraf.qgraf import QGRAF\n",
    "from form.form import FORM\n",
    "from tools.tools import load\n",
    "from scipy.integrate import quad\n",
    "from sympy.parsing.sympy_parser import parse_expr\n",
    "lprint=lambda expression: display(Math(sp.latex(expression)))\n",
    "%matplotlib inline\n",
    "sp.init_printing()"
   ]
  },
  {
   "cell_type": "code",
   "execution_count": 3,
   "metadata": {
    "collapsed": true
   },
   "outputs": [],
   "source": [
    "def to_sympy(exp):\n",
    "    ATOMS=[]\n",
    "    exp=exp.replace('^','**')\n",
    "    atoms=exp.replace('*',' ').replace('+',' ').replace('-',' ')\n",
    "    atoms=atoms.replace('/',' ').replace('(',' ').replace(')',' ').split()\n",
    "    atoms=sorted(set(atoms))\n",
    "    for a in atoms:\n",
    "        try: \n",
    "            int(a)\n",
    "        except:\n",
    "            ATOMS.append(a)\n",
    "    ATOMS=sorted(set(ATOMS))\n",
    "    for a in ATOMS:\n",
    "        exec '%s=sp.Symbol(\"%s\")'%(a,a)\n",
    "    return parse_expr(exp)"
   ]
  },
  {
   "cell_type": "markdown",
   "metadata": {},
   "source": [
    "## Create sympy symbols to be use across the notebook"
   ]
  },
  {
   "cell_type": "code",
   "execution_count": 55,
   "metadata": {
    "collapsed": false
   },
   "outputs": [],
   "source": [
    "CF=4/sp.S(3)\n",
    "#gs2=sp.Symbol('gs2')\n",
    "#gu2=sp.Symbol('gu2')\n",
    "#gd2=sp.Symbol('gd2')\n",
    "Q=sp.Symbol('Q')\n",
    "s=sp.Symbol('s')\n",
    "s12=sp.Symbol('s_12')\n",
    "t1=sp.Symbol('t_1')\n",
    "u1=sp.Symbol('u_1')\n",
    "t2=sp.Symbol('t_2')\n",
    "u2=sp.Symbol('u_2')\n",
    "qT=sp.Symbol('q_T')\n",
    "xh=sp.Symbol('\\hat{x}')\n",
    "zh=sp.Symbol('\\hat{z}')\n",
    "x=sp.Symbol('x')\n",
    "z=sp.Symbol('z')\n",
    "y=sp.Symbol('y')"
   ]
  },
  {
   "cell_type": "code",
   "execution_count": null,
   "metadata": {
    "collapsed": true
   },
   "outputs": [],
   "source": []
  },
  {
   "cell_type": "code",
   "execution_count": null,
   "metadata": {
    "collapsed": true
   },
   "outputs": [],
   "source": []
  },
  {
   "cell_type": "markdown",
   "metadata": {},
   "source": [
    "## generate amps and sqamps with qgraf\n",
    "\n",
    "- A, B, C and D now correspond to the figures in the paper\n"
   ]
  },
  {
   "cell_type": "code",
   "execution_count": 56,
   "metadata": {
    "collapsed": true
   },
   "outputs": [],
   "source": [
    "process={}\n",
    "process['bornA']={'in':'A[p1],u[p2]','out':'u[q1],G[q2]'}\n",
    "process['bornB']={'in':'A[p1],u[p2]','out':'G[q1],u[q2]'}\n",
    "process['bornC']={'in':'A[p1],G[p2]','out':'u[q1],ub[q2]'}\n",
    "process['bornD']={'in':'A[p1],G[p2]','out':'ub[q1],u[q2]'}"
   ]
  },
  {
   "cell_type": "code",
   "execution_count": 57,
   "metadata": {
    "collapsed": false
   },
   "outputs": [],
   "source": [
    "for k in process:\n",
    "    conf={}                          \n",
    "    conf['path2qgraf']='./qgraf/'          \n",
    "    conf['label']=k           \n",
    "    conf['style']='array.sty'        \n",
    "    conf['model']='SM'               \n",
    "    conf['in']=process[k]['in']        \n",
    "    conf['out']=process[k]['out']       \n",
    "    conf['loops']=0;                 \n",
    "    conf['loop_momentum']=''     \n",
    "    conf['extra']=[]\n",
    "    conf['options']='notadpole'      \n",
    "    process[k]['qgraf']=QGRAF(conf).data"
   ]
  },
  {
   "cell_type": "code",
   "execution_count": 112,
   "metadata": {
    "collapsed": false,
    "scrolled": false
   },
   "outputs": [
    {
     "name": "stdout",
     "output_type": "stream",
     "text": [
      "bornC [a0*ca0] :\n",
      "\t(+1)*eps(A,p1,s1,MA,o1)*eps(G,p2,s2,MG,o2,j2)*(+1)*epsB(A,p1,s1,MA,o1001)*epsB(G,p2,s2,MG,o1002,j1002)*U(sc1,u,q1,r1,Mu)*UB(sc1,u,q1,r1,Mu)*(-i_)*gu^1*gI_(sc1,o1)*i_*(g_(sc1,-p1)+g_(sc1,+q1)+g_(sc1)*Mu)*den(-p1+q1,Mu)*(-i_)*gs^1*gI_(sc1,o2)*V(sc1,ub,q2,r2,Mu)*VB(sc1,ub,q2,r2,Mu)*(i_)*gs^1*gI_(sc1,o1002)*(-i_)*(g_(sc1,-p1)+g_(sc1,+q1)+g_(sc1)*Mu)*den(-p1+q1,Mu)*(i_)*gu^1*gI_(sc1,o1001)*Tr(j2,j1002)\n",
      "bornC [a0*ca1] :\n",
      "\t(+1)*eps(A,p1,s1,MA,o1)*eps(G,p2,s2,MG,o2,j2)*(+1)*epsB(A,p1,s1,MA,o1001)*epsB(G,p2,s2,MG,o1002,j1002)*U(sc1,u,q1,r1,Mu)*UB(sc1,u,q1,r1,Mu)*(-i_)*gu^1*gI_(sc1,o1)*i_*(g_(sc1,-p1)+g_(sc1,+q1)+g_(sc1)*Mu)*den(-p1+q1,Mu)*(-i_)*gs^1*gI_(sc1,o2)*V(sc1,ub,q2,r2,Mu)*VB(sc1,ub,q2,r2,Mu)*(i_)*gu^1*gI_(sc1,o1001)*(-i_)*(g_(sc1,p1)+g_(sc1,-q2)+g_(sc1)*Mu)*den(p1-q2,Mu)*(i_)*gs^1*gI_(sc1,o1002)*Tr(j2,j1002)\n",
      "bornC [a1*ca1] :\n",
      "\t(+1)*eps(A,p1,s1,MA,o1)*eps(G,p2,s2,MG,o2,j2)*(+1)*epsB(A,p1,s1,MA,o1001)*epsB(G,p2,s2,MG,o1002,j1002)*U(sc1,u,q1,r1,Mu)*UB(sc1,u,q1,r1,Mu)*(-i_)*gs^1*gI_(sc1,o2)*i_*(g_(sc1,p1)+g_(sc1,-q2)+g_(sc1)*Mu)*den(p1-q2,Mu)*(-i_)*gu^1*gI_(sc1,o1)*V(sc1,ub,q2,r2,Mu)*VB(sc1,ub,q2,r2,Mu)*(i_)*gu^1*gI_(sc1,o1001)*(-i_)*(g_(sc1,p1)+g_(sc1,-q2)+g_(sc1)*Mu)*den(p1-q2,Mu)*(i_)*gs^1*gI_(sc1,o1002)*Tr(j2,j1002)\n",
      "bornC [a1*ca0] :\n",
      "\t(+1)*eps(A,p1,s1,MA,o1)*eps(G,p2,s2,MG,o2,j2)*(+1)*epsB(A,p1,s1,MA,o1001)*epsB(G,p2,s2,MG,o1002,j1002)*U(sc1,u,q1,r1,Mu)*UB(sc1,u,q1,r1,Mu)*(-i_)*gs^1*gI_(sc1,o2)*i_*(g_(sc1,p1)+g_(sc1,-q2)+g_(sc1)*Mu)*den(p1-q2,Mu)*(-i_)*gu^1*gI_(sc1,o1)*V(sc1,ub,q2,r2,Mu)*VB(sc1,ub,q2,r2,Mu)*(i_)*gs^1*gI_(sc1,o1002)*(-i_)*(g_(sc1,-p1)+g_(sc1,+q1)+g_(sc1)*Mu)*den(-p1+q1,Mu)*(i_)*gu^1*gI_(sc1,o1001)*Tr(j2,j1002)\n"
     ]
    }
   ],
   "source": [
    "for k in process: \n",
    "    if k!='bornC': continue\n",
    "    for sqamp in process[k]['qgraf']['SQAMPS']: \n",
    "        print k,sqamp,':'\n",
    "        print '\\t',process[k]['qgraf']['SQAMPS'][sqamp]"
   ]
  },
  {
   "cell_type": "markdown",
   "metadata": {},
   "source": [
    "## use form to compute traces and convert expression into sympy expression"
   ]
  },
  {
   "cell_type": "code",
   "execution_count": 135,
   "metadata": {
    "collapsed": false,
    "scrolled": false
   },
   "outputs": [],
   "source": [
    "for k in process:\n",
    "    process[k]['Pg']=None\n",
    "    process[k]['Ppp']=None\n",
    "    for kk in ['Pg','Ppp']:\n",
    "        conf={}\n",
    "        conf['label']=k\n",
    "        conf['path2form']='./form'\n",
    "        conf['qgraf']=process[k]['qgraf']\n",
    "        conf['projection']='%s.frm'%kk\n",
    "        terms=FORM(conf).data['total']\n",
    "        combine=0\n",
    "        for term in terms:\n",
    "            term=to_sympy(term)\n",
    "            term=term.subs('gs**2',1)\n",
    "            term=term.subs('gu**2',1)\n",
    "            term=term.subs('gd**2',1)\n",
    "            term=term.subs('D',4)\n",
    "            term=term.subs(s12,s)\n",
    "            term=term.subs(\"t1\",t1)\n",
    "            term=term.subs(\"u1\",u1)\n",
    "            term=term.subs(\"u2\",t1)\n",
    "            term=term.subs(\"t2\",u1)\n",
    "            term=term.subs(\"Q2\",Q**2)\n",
    "            combine+=term\n",
    "        process[k][kk]=sp.simplify(combine)"
   ]
  },
  {
   "cell_type": "markdown",
   "metadata": {},
   "source": [
    "## Display squared amplituds"
   ]
  },
  {
   "cell_type": "code",
   "execution_count": 168,
   "metadata": {
    "collapsed": false
   },
   "outputs": [
    {
     "name": "stdout",
     "output_type": "stream",
     "text": [
      "bornA Pg :\n",
      "\t32*ave*(Q**2*s**2*(Q**2 + s + u_1) + Q**2*t_1**2*(Q**2 + t_1 + u_1) + s**2*t_1*(Q**2 + s + 2*u_1) + s*t_1**2*(Q**2 + t_1 + 2*u_1) + 2*s*t_1*u_1**2)/(s**2*t_1**2)\n",
      "bornA Ppp :\n",
      "\t-16*ave*u_1*(Q**4 + 2*Q**2*s + 2*Q**2*u_1 + s**2 + 2*s*u_1 + u_1**2)/t_1**2\n",
      "bornB Pg :\n",
      "\t32*ave*(Q**2*s**2*(Q**2 + s + t_1) + Q**2*u_1**2*(Q**2 + t_1 + u_1) + s**2*u_1*(Q**2 + s + 2*t_1) + 2*s*t_1**2*u_1 + s*u_1**2*(Q**2 + 2*t_1 + u_1))/(s**2*u_1**2)\n",
      "bornB Ppp :\n",
      "\t-16*ave*t_1*(Q**4 + 2*Q**2*s + 2*Q**2*t_1 + s**2 + 2*s*t_1 + t_1**2)/u_1**2\n",
      "bornC Pg :\n",
      "\t-32*ave*(Q**2*t_1**2*(Q**2 + s12 + t_1) + Q**2*u_1**2*(Q**2 + s12 + u_1) + 2*s12**2*t_1*u_1 + t_1**2*u_1*(Q**2 + 2*s12 + t_1) + t_1*u_1**2*(Q**2 + 2*s12 + u_1))/(t_1**2*u_1**2)\n",
      "bornC Ppp :\n",
      "\t16*ave*(t_1**3*(Q**4 + Q**2*s + Q**2*s12 + 2*Q**2*t_1 + s*s12 + s*t_1 + s12*t_1 + t_1**2) - 2*t_1**2*u_1**2*(Q**2 + s12 + t_1 + u_1) + t_1**2*u_1*(-Q**2*s12 + Q**2*t_1 - s*s12 + t_1**2) + t_1*u_1**2*(-Q**2*s12 + Q**2*u_1 - s*s12 + u_1**2) + u_1**3*(Q**4 + Q**2*s + Q**2*s12 + 2*Q**2*u_1 + s*s12 + s*u_1 + s12*u_1 + u_1**2))/(t_1**2*u_1**2)\n",
      "bornD Pg :\n",
      "\t-32*ave*(Q**2*t_1**2*(Q**2 + s12 + t_1) + Q**2*u_1**2*(Q**2 + s12 + u_1) + 2*s12**2*t_1*u_1 + t_1**2*u_1*(Q**2 + 2*s12 + t_1) + t_1*u_1**2*(Q**2 + 2*s12 + u_1))/(t_1**2*u_1**2)\n",
      "bornD Ppp :\n",
      "\t16*ave*(t_1**3*(Q**4 + Q**2*s + Q**2*s12 + 2*Q**2*t_1 + s*s12 + s*t_1 + s12*t_1 + t_1**2) - 2*t_1**2*u_1**2*(Q**2 + s12 + t_1 + u_1) + t_1**2*u_1*(-Q**2*s12 + Q**2*t_1 - s*s12 + t_1**2) + t_1*u_1**2*(-Q**2*s12 + Q**2*u_1 - s*s12 + u_1**2) + u_1**3*(Q**4 + Q**2*s + Q**2*s12 + 2*Q**2*u_1 + s*s12 + s*u_1 + s12*u_1 + u_1**2))/(t_1**2*u_1**2)\n"
     ]
    }
   ],
   "source": [
    "for k in ['bornA','bornB','bornC','bornD']:\n",
    "    for kk in ['Pg','Ppp']:\n",
    "        print k,kk,':'\n",
    "        print '\\t',process[k][kk]"
   ]
  },
  {
   "cell_type": "code",
   "execution_count": 148,
   "metadata": {
    "collapsed": true
   },
   "outputs": [],
   "source": [
    "sqamps={}\n",
    "for k in ['bornA','bornB','bornC','bornD']:\n",
    "    sqamps[k]={}\n",
    "    for kk in ['Pg','Ppp']:\n",
    "        sqamps[k][kk]=process[k][kk].subs(\"D\",sp.S(4))\n",
    "        #sqamps[k][kk]=sqamps[k][kk]*CF/(sp.S(4)/sp.S(3))\n",
    "        if k=='bornA' or k=='bornB': sqamps[k][kk]=process[k][kk].subs(\"ave\",1/sp.S(2*3))        \n",
    "        if k=='bornC' or k=='bornD': sqamps[k][kk]=process[k][kk].subs(\"ave\",1/sp.S(2*8))"
   ]
  },
  {
   "cell_type": "code",
   "execution_count": 149,
   "metadata": {
    "collapsed": false
   },
   "outputs": [],
   "source": [
    "M2g=sqamps['bornA']['Pg'].simplify()\n",
    "M2pp=sqamps['bornA']['Ppp'].simplify()"
   ]
  },
  {
   "cell_type": "code",
   "execution_count": null,
   "metadata": {
    "collapsed": true
   },
   "outputs": [],
   "source": []
  },
  {
   "cell_type": "code",
   "execution_count": 150,
   "metadata": {
    "collapsed": false
   },
   "outputs": [
    {
     "data": {
      "image/png": "[encoded data removed]",
      "text/latex": [
       "$$- \\frac{20 Q^{2}}{3 t_{1}} + \\frac{4}{3} + \\frac{2 t_{1}}{9 Q^{2}}$$"
      ],
      "text/plain": [
       "      2           \n",
       "  20⋅Q    4   2⋅t₁\n",
       "- ───── + ─ + ────\n",
       "   3⋅t₁   3      2\n",
       "              9⋅Q "
      ]
     },
     "execution_count": 150,
     "metadata": {},
     "output_type": "execute_result"
    }
   ],
   "source": [
    "f1GWRS=(-M2g+12*xh**2/Q**2*M2pp)/sp.S(4)\n",
    "f1GWRS=f1GWRS.subs(u1,-Q**2-s-t1)\n",
    "f1GWRS=f1GWRS.subs(xh,Q**2/(s+Q**2))\n",
    "f1GWRS=f1GWRS.subs(s,2*Q**2)\n",
    "f1GWRS.simplify()"
   ]
  },
  {
   "cell_type": "code",
   "execution_count": 151,
   "metadata": {
    "collapsed": false
   },
   "outputs": [
    {
     "data": {
      "image/png": "[encoded data removed]",
      "text/latex": [
       "$$- \\frac{20 Q^{2}}{3 t_{1}} + \\frac{4}{3} + \\frac{2 t_{1}}{9 Q^{2}}$$"
      ],
      "text/plain": [
       "      2           \n",
       "  20⋅Q    4   2⋅t₁\n",
       "- ───── + ─ + ────\n",
       "   3⋅t₁   3      2\n",
       "              9⋅Q "
      ]
     },
     "execution_count": 151,
     "metadata": {},
     "output_type": "execute_result"
    }
   ],
   "source": [
    "f1NSY=2*CF*xh*zh*(1/qT**2*(Q**4/xh**2/zh**2+(Q**2-qT**2)**2)+6*Q**2) / (2*Q**2)\n",
    "f1NSY=f1NSY.subs(qT**2,(-t1-Q**2*(1-zh))/zh)\n",
    "f1NSY=f1NSY.subs(zh,-u1*xh/Q**2)\n",
    "f1NSY=f1NSY.subs(u1,-Q**2-s-t1)\n",
    "f1NSY=f1NSY.subs(xh,Q**2/(s+Q**2))\n",
    "f1NSY=f1NSY.subs(s,2*Q**2)\n",
    "f1NSY.simplify()"
   ]
  },
  {
   "cell_type": "code",
   "execution_count": 152,
   "metadata": {
    "collapsed": false
   },
   "outputs": [
    {
     "data": {
      "image/png": "[encoded data removed]",
      "text/latex": [
       "$$\\frac{16}{9} + \\frac{16 t_{1}}{27 Q^{2}}$$"
      ],
      "text/plain": [
       "16   16⋅t₁\n",
       "── + ─────\n",
       "9        2\n",
       "     27⋅Q "
      ]
     },
     "execution_count": 152,
     "metadata": {},
     "output_type": "execute_result"
    }
   ],
   "source": [
    "f2GWRS=2*xh**2/Q**2*M2pp\n",
    "f2GWRS=f2GWRS.subs(u1,-Q**2-s-t1)\n",
    "f2GWRS=f2GWRS.subs(xh,Q**2/(s+Q**2))\n",
    "f2GWRS=f2GWRS.subs(s,2*Q**2)\n",
    "f2GWRS.simplify()"
   ]
  },
  {
   "cell_type": "code",
   "execution_count": 153,
   "metadata": {
    "collapsed": false
   },
   "outputs": [
    {
     "data": {
      "image/png": "[encoded data removed]",
      "text/latex": [
       "$$\\frac{16}{9} + \\frac{16 t_{1}}{27 Q^{2}}$$"
      ],
      "text/plain": [
       "16   16⋅t₁\n",
       "── + ─────\n",
       "9        2\n",
       "     27⋅Q "
      ]
     },
     "execution_count": 153,
     "metadata": {},
     "output_type": "execute_result"
    }
   ],
   "source": [
    "f2NSY=2*CF*xh*zh*4*Q**2/(2*Q**2)\n",
    "f2NSY=f2NSY.subs(qT**2,(-t1-Q**2*(1-zh))/zh)\n",
    "f2NSY=f2NSY.subs(zh,-u1*xh/Q**2)\n",
    "f2NSY=f2NSY.subs(u1,-Q**2-s-t1)\n",
    "f2NSY=f2NSY.subs(xh,Q**2/(s+Q**2))\n",
    "f2NSY=f2NSY.subs(s,2*Q**2)\n",
    "f2NSY.simplify()"
   ]
  },
  {
   "cell_type": "code",
   "execution_count": null,
   "metadata": {
    "collapsed": true
   },
   "outputs": [],
   "source": []
  },
  {
   "cell_type": "code",
   "execution_count": 154,
   "metadata": {
    "collapsed": true
   },
   "outputs": [],
   "source": [
    "M2g=sqamps['bornB']['Pg'].simplify()\n",
    "M2pp=sqamps['bornB']['Ppp'].simplify()"
   ]
  },
  {
   "cell_type": "code",
   "execution_count": 155,
   "metadata": {
    "collapsed": false
   },
   "outputs": [
    {
     "data": {
      "image/png": "[encoded data removed]",
      "text/latex": [
       "$$\\frac{78 Q^{4} - 2 t_{1}^{2}}{9 Q^{2} \\left(3 Q^{2} + t_{1}\\right)}$$"
      ],
      "text/plain": [
       "  ⎛    4     2⎞ \n",
       "2⋅⎝39⋅Q  - t₁ ⎠ \n",
       "────────────────\n",
       "   2 ⎛   2     ⎞\n",
       "9⋅Q ⋅⎝3⋅Q  + t₁⎠"
      ]
     },
     "execution_count": 155,
     "metadata": {},
     "output_type": "execute_result"
    }
   ],
   "source": [
    "f1GWRS=(-M2g+12*xh**2/Q**2*M2pp)/sp.S(4)\n",
    "f1GWRS=f1GWRS.subs(u1,-Q**2-s-t1)\n",
    "f1GWRS=f1GWRS.subs(xh,Q**2/(s+Q**2))\n",
    "f1GWRS=f1GWRS.subs(s,2*Q**2)\n",
    "f1GWRS.simplify()"
   ]
  },
  {
   "cell_type": "code",
   "execution_count": 156,
   "metadata": {
    "collapsed": false
   },
   "outputs": [
    {
     "data": {
      "image/png": "[encoded data removed]",
      "text/latex": [
       "$$\\frac{78 Q^{4} - 2 t_{1}^{2}}{9 Q^{2} \\left(3 Q^{2} + t_{1}\\right)}$$"
      ],
      "text/plain": [
       "  ⎛    4     2⎞ \n",
       "2⋅⎝39⋅Q  - t₁ ⎠ \n",
       "────────────────\n",
       "   2 ⎛   2     ⎞\n",
       "9⋅Q ⋅⎝3⋅Q  + t₁⎠"
      ]
     },
     "execution_count": 156,
     "metadata": {},
     "output_type": "execute_result"
    }
   ],
   "source": [
    "qTt=zh*qT/(1-zh)\n",
    "f1NSY=2*CF*xh*(1-zh)*(1/qTt**2*(Q**4/xh**2/(1-zh)**2+(Q**2-qTt**2)**2)+6*Q**2) / (2*Q**2)\n",
    "f1NSY=f1NSY.subs(qT**2,(-t1-Q**2*(1-zh))/zh)\n",
    "f1NSY=f1NSY.subs(zh,-u1*xh/Q**2)\n",
    "f1NSY=f1NSY.subs(u1,-Q**2-s-t1)\n",
    "f1NSY=f1NSY.subs(xh,Q**2/(s+Q**2))\n",
    "f1NSY=f1NSY.subs(s,2*Q**2)\n",
    "f1NSY.simplify()"
   ]
  },
  {
   "cell_type": "code",
   "execution_count": 157,
   "metadata": {
    "collapsed": false
   },
   "outputs": [
    {
     "data": {
      "image/png": "[encoded data removed]",
      "text/latex": [
       "$$- \\frac{16 t_{1}}{27 Q^{2}}$$"
      ],
      "text/plain": [
       "-16⋅t₁ \n",
       "───────\n",
       "     2 \n",
       " 27⋅Q  "
      ]
     },
     "execution_count": 157,
     "metadata": {},
     "output_type": "execute_result"
    }
   ],
   "source": [
    "f2GWRS=2*xh**2/Q**2*M2pp\n",
    "f2GWRS=f2GWRS.subs(u1,-Q**2-s-t1)\n",
    "f2GWRS=f2GWRS.subs(xh,Q**2/(s+Q**2))\n",
    "f2GWRS=f2GWRS.subs(s,2*Q**2)\n",
    "f2GWRS.simplify()"
   ]
  },
  {
   "cell_type": "code",
   "execution_count": 158,
   "metadata": {
    "collapsed": false
   },
   "outputs": [
    {
     "data": {
      "image/png": "[encoded data removed]",
      "text/latex": [
       "$$- \\frac{16 t_{1}}{27 Q^{2}}$$"
      ],
      "text/plain": [
       "-16⋅t₁ \n",
       "───────\n",
       "     2 \n",
       " 27⋅Q  "
      ]
     },
     "execution_count": 158,
     "metadata": {},
     "output_type": "execute_result"
    }
   ],
   "source": [
    "f2NSY=2*CF*xh*(1-zh)*4*Q**2/(2*Q**2)\n",
    "f2NSY=f2NSY.subs(qT**2,(-t1-Q**2*(1-zh))/zh)\n",
    "f2NSY=f2NSY.subs(zh,-u1*xh/Q**2)\n",
    "f2NSY=f2NSY.subs(u1,-Q**2-s-t1)\n",
    "f2NSY=f2NSY.subs(xh,Q**2/(s+Q**2))\n",
    "f2NSY=f2NSY.subs(s,2*Q**2)\n",
    "f2NSY.simplify()"
   ]
  },
  {
   "cell_type": "code",
   "execution_count": null,
   "metadata": {
    "collapsed": true
   },
   "outputs": [],
   "source": []
  },
  {
   "cell_type": "code",
   "execution_count": 159,
   "metadata": {
    "collapsed": true
   },
   "outputs": [],
   "source": [
    "M2g=sqamps['bornC']['Pg'].simplify()\n",
    "M2pp=sqamps['bornC']['Ppp'].simplify()"
   ]
  },
  {
   "cell_type": "code",
   "execution_count": null,
   "metadata": {
    "collapsed": true
   },
   "outputs": [],
   "source": []
  },
  {
   "cell_type": "code",
   "execution_count": 164,
   "metadata": {
    "collapsed": false
   },
   "outputs": [
    {
     "data": {
      "image/png": "[encoded data removed]",
      "text/latex": [
       "$$\\frac{- \\frac{5 Q^{4}}{2} + Q^{2} t_{1} + \\frac{t_{1}^{2}}{3}}{t_{1} \\left(3 Q^{2} + t_{1}\\right)}$$"
      ],
      "text/plain": [
       "     4             2\n",
       "  5⋅Q     2      t₁ \n",
       "- ──── + Q ⋅t₁ + ───\n",
       "   2              3 \n",
       "────────────────────\n",
       "      ⎛   2     ⎞   \n",
       "   t₁⋅⎝3⋅Q  + t₁⎠   "
      ]
     },
     "execution_count": 164,
     "metadata": {},
     "output_type": "execute_result"
    }
   ],
   "source": [
    "f1GWRS=(-M2g+12*xh**2/Q**2*M2pp)/sp.S(4)\n",
    "f1GWRS=f1GWRS.subs(u1,-Q**2-s-t1)\n",
    "f1GWRS=f1GWRS.subs(xh,Q**2/(s+Q**2))\n",
    "f1GWRS=f1GWRS.subs(\"s12\",s)\n",
    "f1GWRS=f1GWRS.subs(s,2*Q**2)\n",
    "#f1GWRS=f1GWRS.subs(t1,-Q**2/2)\n",
    "\n",
    "f1GWRS.simplify()"
   ]
  },
  {
   "cell_type": "code",
   "execution_count": 165,
   "metadata": {
    "collapsed": false
   },
   "outputs": [
    {
     "data": {
      "image/png": "[encoded data removed]",
      "text/latex": [
       "$$\\frac{- \\frac{5 Q^{4}}{2} + Q^{2} t_{1} + \\frac{t_{1}^{2}}{3}}{t_{1} \\left(3 Q^{2} + t_{1}\\right)}$$"
      ],
      "text/plain": [
       "     4             2\n",
       "  5⋅Q     2      t₁ \n",
       "- ──── + Q ⋅t₁ + ───\n",
       "   2              3 \n",
       "────────────────────\n",
       "      ⎛   2     ⎞   \n",
       "   t₁⋅⎝3⋅Q  + t₁⎠   "
      ]
     },
     "execution_count": 165,
     "metadata": {},
     "output_type": "execute_result"
    }
   ],
   "source": [
    "f1NSY=xh*(1-xh)*(Q**4/qT**2*(1/xh**2/zh**2-2/xh/zh+2)+2*Q**2*(5-1/xh-1/zh)) / (2*Q**2)\n",
    "f1NSY=f1NSY.subs(qT**2,(-t1-Q**2*(1-zh))/zh)\n",
    "f1NSY=f1NSY.subs(zh,-u1*xh/Q**2)\n",
    "f1NSY=f1NSY.subs(u1,-Q**2-s-t1)\n",
    "f1NSY=f1NSY.subs(xh,Q**2/(s+Q**2))\n",
    "f1NSY=f1NSY.subs(s,2*Q**2)\n",
    "#f1NSY=f1NSY.subs(t1,-Q**2/2)\n",
    "f1NSY.simplify()"
   ]
  },
  {
   "cell_type": "code",
   "execution_count": 166,
   "metadata": {
    "collapsed": false
   },
   "outputs": [
    {
     "data": {
      "image/png": "[encoded data removed]",
      "text/latex": [
       "$$\\frac{4 Q^{2} s}{Q^{4} + 2 Q^{2} s + s^{2}}$$"
      ],
      "text/plain": [
       "        2       \n",
       "     4⋅Q ⋅s     \n",
       "────────────────\n",
       " 4      2      2\n",
       "Q  + 2⋅Q ⋅s + s "
      ]
     },
     "execution_count": 166,
     "metadata": {},
     "output_type": "execute_result"
    }
   ],
   "source": [
    "f2GWRS=2*xh**2/Q**2*M2pp\n",
    "f2GWRS=f2GWRS.subs(u1,-Q**2-s-t1)\n",
    "f2GWRS=f2GWRS.subs(xh,Q**2/(s+Q**2))\n",
    "#f2GWRS=f2GWRS.subs(s,2*Q**2)\n",
    "f2GWRS.simplify()"
   ]
  },
  {
   "cell_type": "code",
   "execution_count": 167,
   "metadata": {
    "collapsed": false
   },
   "outputs": [
    {
     "data": {
      "image/png": "[encoded data removed]",
      "text/latex": [
       "$$\\frac{4 Q^{2} s}{\\left(Q^{2} + s\\right)^{2}}$$"
      ],
      "text/plain": [
       "     2   \n",
       "  4⋅Q ⋅s \n",
       "─────────\n",
       "        2\n",
       "⎛ 2    ⎞ \n",
       "⎝Q  + s⎠ "
      ]
     },
     "execution_count": 167,
     "metadata": {},
     "output_type": "execute_result"
    }
   ],
   "source": [
    "f2NSY=xh*(1-xh)*4*Q**2*2/(2*Q**2)\n",
    "f2NSY=f2NSY.subs(qT**2,(-t1-Q**2*(1-zh))/zh)\n",
    "f2NSY=f2NSY.subs(zh,-u1*xh/Q**2)\n",
    "f2NSY=f2NSY.subs(u1,-Q**2-s-t1)\n",
    "f2NSY=f2NSY.subs(xh,Q**2/(s+Q**2))\n",
    "#f2NSY=f2NSY.subs(s,2*Q**2)\n",
    "f2NSY.simplify()"
   ]
  },
  {
   "cell_type": "code",
   "execution_count": null,
   "metadata": {
    "collapsed": true
   },
   "outputs": [],
   "source": []
  },
  {
   "cell_type": "code",
   "execution_count": null,
   "metadata": {
    "collapsed": true
   },
   "outputs": [],
   "source": []
  }
 ],
 "metadata": {
  "kernelspec": {
   "display_name": "Python 2",
   "language": "python",
   "name": "python2"
  },
  "language_info": {
   "codemirror_mode": {
    "name": "ipython",
    "version": 2
   },
   "file_extension": ".py",
   "mimetype": "text/x-python",
   "name": "python",
   "nbconvert_exporter": "python",
   "pygments_lexer": "ipython2",
   "version": "2.7.14"
  }
 },
 "nbformat": 4,
 "nbformat_minor": 2
}
