{
 "cells": [
  {
   "cell_type": "markdown",
   "metadata": {},
   "source": [
    "# code gen"
   ]
  },
  {
   "cell_type": "code",
   "execution_count": 22,
   "metadata": {
    "collapsed": false
   },
   "outputs": [],
   "source": [
    "import sys,os\n",
    "import copy\n",
    "import numpy as np\n",
    "import sympy as sp\n",
    "import pylab as py\n",
    "%matplotlib inline\n",
    "from tools.tools import load,save\n",
    "from IPython.display import display, Math, Latex\n",
    "sp.init_printing()\n",
    "from sympy.parsing.sympy_parser import parse_expr\n",
    "lprint=lambda expression: display(Math(sp.latex(expression)))\n",
    "from tools.bar import BAR\n",
    "import re\n",
    "import mpmath as mp\n",
    "from mpmath import fp"
   ]
  },
  {
   "cell_type": "code",
   "execution_count": 23,
   "metadata": {
    "collapsed": false
   },
   "outputs": [],
   "source": [
    "nf   = sp.Symbol('nf')\n",
    "s   = sp.Symbol('s')\n",
    "t  = sp.Symbol('t')\n",
    "u  = sp.Symbol('u')\n",
    "mu  = sp.Symbol('mu')\n",
    "\n",
    "s23 = sp.Symbol('s23')\n",
    "Q   = sp.Symbol('Q')\n",
    "delta=sp.Function('delta')\n",
    "Plus1B=sp.Function('Plus1B')\n",
    "Plus2B=sp.Function('Plus2B')\n",
    "PolyLOG=sp.Function('PolyLOG')\n",
    "\n",
    "epsilon=sp.Symbol('epsilon')\n",
    "\n",
    "B=sp.Symbol('B')\n",
    "g=sp.Symbol('g')\n",
    "gp=sp.Symbol('gp')\n",
    "\n",
    "a=sp.Wild('a')\n",
    "b=sp.Wild('b')"
   ]
  },
  {
   "cell_type": "code",
   "execution_count": 24,
   "metadata": {
    "collapsed": false,
    "scrolled": false
   },
   "outputs": [],
   "source": [
    "def gen_ps(s23val):\n",
    "    ps={}\n",
    "    ps['x']=0.01\n",
    "    ps['z']=0.3\n",
    "    ps['Q']=5.0\n",
    "    ps['qT']=3.0\n",
    "    ps['s23']=s23val\n",
    "    ps['xi']=0.4\n",
    "    ps['xh']=ps['x']/ps['xi']\n",
    "    ps['zh']=(-ps['s23']+ps['Q']**2*(1-ps['xh'])/ps['xh'])/(ps['qT']**2+ps['Q']**2*(1-ps['xh'])/ps['xh'])\n",
    "    ps['zeta']=ps['z']/ps['zh']\n",
    "    ps['s']=(1-ps['xh'])/ps['xh']*ps['Q']**2\n",
    "    ps['t']=-(1-ps['zh'])*ps['Q']**2-ps['zh']*ps['qT']**2\n",
    "    ps['nf']=4.0\n",
    "    ps['B']=ps['Q']**2*(1/ps['xh']-1)*(1-ps['z'])-ps['z']*ps['qT']**2\n",
    "    return ps\n",
    "\n",
    "def evaluate(exp,s23val,verb=False):\n",
    "    ps=gen_ps(s23val)\n",
    "    test=exp.subs(g,1.)\n",
    "    test=test.subs(Q,ps['Q'])\n",
    "    test=test.subs(s23,ps['s23'])\n",
    "    test=test.subs(s,ps['s'])\n",
    "    test=test.subs(t,ps['t'])\n",
    "    test=test.subs(mu,ps['Q'])\n",
    "    test=test.subs(sp.EulerGamma,np.euler_gamma)\n",
    "    test=test.subs(B,ps['B'])\n",
    "    test=test.subs(nf,ps['nf'])\n",
    "    test=test.subs(sp.pi,np.pi)\n",
    "    if verb:\n",
    "        print ps['x']\n",
    "        print ps['z']\n",
    "        print ps['Q']\n",
    "        print ps['qT']\n",
    "        print ps['s23']\n",
    "        print ps['xi']\n",
    "        print ps['xh']\n",
    "        print ps['zh']\n",
    "        print ps['zeta']\n",
    "        print ps['s']\n",
    "        print ps['t']\n",
    "        print ps['B']\n",
    "    return test"
   ]
  },
  {
   "cell_type": "code",
   "execution_count": 25,
   "metadata": {
    "collapsed": true
   },
   "outputs": [],
   "source": [
    "def convert(exp):\n",
    "    sexp=str(exp).replace('sqrt','np.sqrt')\n",
    "    sexp=sexp.replace('log','np.log')\n",
    "    sexp=sexp.replace('pi','np.pi')\n",
    "    sexp=sexp.replace('Abs','np.abs')\n",
    "    sexp=sexp.replace('polylog','fp.polylog')\n",
    "    return sexp\n",
    "\n",
    "\n",
    "def gen_code(channel,exp1,exp20,exp3,exp30,exp4,exp40):\n",
    "    code=[]\n",
    "    code.append(r'#!/usr/bin/env python')\n",
    "    code.append(r'import numpy as np')\n",
    "    code.append(r'from mpmath import fp')\n",
    "    code.append(r'import numpy as np')\n",
    "    code.append(r'EulerGamma=np.euler_gamma')\n",
    "    code.append(r'PolyLOG=lambda a,b: fp.polylog(a,b)')\n",
    "\n",
    "    code.append(r'def regular(g=None,gp=None,s=None,t=None,Q=None,s23=None,mu=None,nf=None):')\n",
    "    code.append('    return %s'%convert(exp1))\n",
    "    code.append(r'def delta(g=None,gp=None,s=None,t=None,Q=None,s23=None,mu=None,B=None,nf=None):')\n",
    "    code.append('    return %s'%convert(exp20))\n",
    "    code.append(r'def plus1B(g=None,gp=None,s=None,t=None,Q=None,s23=None,mu=None,B=None,nf=None):')\n",
    "    code.append('    return %s'%convert(exp3))\n",
    "    code.append(r'def plus2B(g=None,gp=None,s=None,t=None,Q=None,s23=None,mu=None,B=None,nf=None):')\n",
    "    code.append('    return %s'%convert(exp4))\n",
    "    code.append(r'def plus1B0(g=None,gp=None,s=None,t=None,Q=None,s23=None,mu=None,B=None,nf=None):')\n",
    "    code.append('    return %s'%convert(exp30))\n",
    "    code.append(r'def plus2B0(g=None,gp=None,s=None,t=None,Q=None,s23=None,mu=None,B=None,nf=None):')\n",
    "    code.append('    return %s'%convert(exp40))\n",
    "\n",
    "    code=[l+'\\n' for l in code]\n",
    "    F=open('chn%d.py'%channel,'w')\n",
    "    F.writelines(code)\n",
    "    F.close()\n",
    "    os.system('chmod +x chn%d.py'%channel);"
   ]
  },
  {
   "cell_type": "code",
   "execution_count": 26,
   "metadata": {
    "collapsed": true
   },
   "outputs": [],
   "source": [
    "def get_s23zero_limit(exp):\n",
    "\n",
    "    lexp=(exp.subs(s23,0)).as_ordered_terms()\n",
    "    new_exp=0\n",
    "    bar=BAR(\"proceesing\",len(lexp))\n",
    "    for term in lexp:\n",
    "        dummy1=1\n",
    "        for f in term.as_ordered_factors():\n",
    "            dummy2=0\n",
    "            for ft in f.as_ordered_terms():\n",
    "                dummy2+=sp.powdenest(ft,force=True).simplify()\n",
    "            dummy1*=dummy2\n",
    "        new_exp+=dummy1\n",
    "        bar.next()\n",
    "    bar.finish()\n",
    "    \n",
    "    lexp=new_exp.as_ordered_terms()\n",
    "    new_exp=sp.S(0)\n",
    "    for term in lexp:\n",
    "        if evaluate(term,0,verb=False)==0: continue\n",
    "        new_exp+=term.replace(sp.log(a),sp.log(sp.Abs(a)))\n",
    "    \n",
    "    return new_exp"
   ]
  },
  {
   "cell_type": "code",
   "execution_count": 27,
   "metadata": {
    "collapsed": false
   },
   "outputs": [],
   "source": [
    "def load_exp(ch,part):\n",
    "    L=open('channels/ch%d.%s'%(ch,part)).readlines()\n",
    "    L=[l.strip() for l in L]\n",
    "    L=[l.replace(r'&\\n','') for l in L]\n",
    "    expression=''\n",
    "    for i in range(len(L)):\n",
    "        l=L[i]\n",
    "        l=l.replace('\\\\[Mu]','mu')\n",
    "        l=l.replace('[','(')\n",
    "        l=l.replace(']',')')\n",
    "        l=l.replace('^','**')\n",
    "        l=l.replace('E4Pi','(EulerGamma - sp.log(4*sp.pi))')\n",
    "        l=l.replace('PolyLog','PolyLOG')\n",
    "        l=l.replace('Log','sp.log')\n",
    "        l=l.replace('Pi','sp.pi')\n",
    "        l=l.replace('EulerGamma','sp.EulerGamma')\n",
    "        l=l.replace('Sqrt','sp.sqrt')\n",
    "        l=l.rstrip('\\\\')\n",
    "        l=l.replace('\\\"','')\n",
    "        l=l.strip()\n",
    "        if l!='': expression+=l\n",
    "    exec 'exp=%s'%expression\n",
    "    return exp"
   ]
  },
  {
   "cell_type": "code",
   "execution_count": 29,
   "metadata": {
    "collapsed": false,
    "scrolled": false
   },
   "outputs": [],
   "source": [
    "chn=2\n",
    "exp1=load_exp(chn,'regular')\n",
    "exp2=load_exp(chn,'delta')\n",
    "exp3=load_exp(chn,'plus1B')\n",
    "exp4=load_exp(chn,'plus2B')"
   ]
  },
  {
   "cell_type": "code",
   "execution_count": 30,
   "metadata": {
    "collapsed": false
   },
   "outputs": [
    {
     "name": "stdout",
     "output_type": "stream",
     "text": [
      "proceesing [68/68]\n"
     ]
    }
   ],
   "source": [
    "exp20=get_s23zero_limit(exp2)"
   ]
  },
  {
   "cell_type": "code",
   "execution_count": 31,
   "metadata": {
    "collapsed": false
   },
   "outputs": [
    {
     "name": "stdout",
     "output_type": "stream",
     "text": [
      "proceesing [44/44]\n"
     ]
    }
   ],
   "source": [
    "exp30=get_s23zero_limit(exp3)"
   ]
  },
  {
   "cell_type": "code",
   "execution_count": 32,
   "metadata": {
    "collapsed": false
   },
   "outputs": [
    {
     "name": "stdout",
     "output_type": "stream",
     "text": [
      "proceesing [14/14]\n"
     ]
    }
   ],
   "source": [
    "exp40=get_s23zero_limit(exp4)"
   ]
  },
  {
   "cell_type": "code",
   "execution_count": 33,
   "metadata": {
    "collapsed": true
   },
   "outputs": [],
   "source": [
    "gen_code(chn,exp1,exp20,exp3,exp30,exp4,exp40)"
   ]
  },
  {
   "cell_type": "code",
   "execution_count": null,
   "metadata": {
    "collapsed": true
   },
   "outputs": [],
   "source": []
  },
  {
   "cell_type": "code",
   "execution_count": null,
   "metadata": {
    "collapsed": true
   },
   "outputs": [],
   "source": []
  },
  {
   "cell_type": "code",
   "execution_count": 21,
   "metadata": {
    "collapsed": false
   },
   "outputs": [],
   "source": [
    "#print sp.N(evaluate(exp1,1.0))\n",
    "#print sp.N(evaluate(exp4.replace(PolyLOG(a,b),sp.polylog(a,b)),0.0001))\n",
    "#print sp.N(evaluate(exp1B.replace(PolyLOG(a,b),sp.polylog(a,b)),1e-10))"
   ]
  },
  {
   "cell_type": "code",
   "execution_count": null,
   "metadata": {
    "collapsed": true
   },
   "outputs": [],
   "source": []
  },
  {
   "cell_type": "code",
   "execution_count": null,
   "metadata": {
    "collapsed": true
   },
   "outputs": [],
   "source": []
  },
  {
   "cell_type": "code",
   "execution_count": null,
   "metadata": {
    "collapsed": true
   },
   "outputs": [],
   "source": []
  }
 ],
 "metadata": {
  "kernelspec": {
   "display_name": "Python 2",
   "language": "python",
   "name": "python2"
  },
  "language_info": {
   "codemirror_mode": {
    "name": "ipython",
    "version": 2
   },
   "file_extension": ".py",
   "mimetype": "text/x-python",
   "name": "python",
   "nbconvert_exporter": "python",
   "pygments_lexer": "ipython2",
   "version": "2.7.13"
  }
 },
 "nbformat": 4,
 "nbformat_minor": 2
}
