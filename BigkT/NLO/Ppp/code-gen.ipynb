{
 "cells": [
  {
   "cell_type": "markdown",
   "metadata": {},
   "source": [
    "# code gen"
   ]
  },
  {
   "cell_type": "code",
   "execution_count": 1,
   "metadata": {
    "collapsed": false
   },
   "outputs": [],
   "source": [
    "import sys,os\n",
    "import copy\n",
    "import numpy as np\n",
    "import sympy as sp\n",
    "import pylab as py\n",
    "%matplotlib inline\n",
    "from tools.tools import load,save\n",
    "from IPython.display import display, Math, Latex\n",
    "sp.init_printing()\n",
    "from sympy.parsing.sympy_parser import parse_expr\n",
    "lprint=lambda expression: display(Math(sp.latex(expression)))\n",
    "from tools.bar import BAR\n",
    "import re\n",
    "import mpmath as mp\n",
    "from mpmath import fp"
   ]
  },
  {
   "cell_type": "code",
   "execution_count": 2,
   "metadata": {
    "collapsed": false
   },
   "outputs": [],
   "source": [
    "nf   = sp.Symbol('nf')\n",
    "s   = sp.Symbol('s')\n",
    "t  = sp.Symbol('t')\n",
    "u  = sp.Symbol('u')\n",
    "mu  = sp.Symbol('mu')\n",
    "\n",
    "s23 = sp.Symbol('s23')\n",
    "Q   = sp.Symbol('Q')\n",
    "delta=sp.Function('delta')\n",
    "Plus1B=sp.Function('Plus1B')\n",
    "Plus2B=sp.Function('Plus2B')\n",
    "PolyLOG=sp.Function('PolyLOG')\n",
    "\n",
    "epsilon=sp.Symbol('epsilon')\n",
    "\n",
    "B=sp.Symbol('B')\n",
    "g=sp.Symbol('g')\n",
    "gp=sp.Symbol('gp')\n",
    "\n",
    "a=sp.Wild('a')\n",
    "b=sp.Wild('b')"
   ]
  },
  {
   "cell_type": "code",
   "execution_count": 3,
   "metadata": {
    "collapsed": false,
    "scrolled": false
   },
   "outputs": [],
   "source": [
    "def gen_ps(s23val):\n",
    "    ps={}\n",
    "    ps['x']=0.01\n",
    "    ps['z']=0.3\n",
    "    ps['Q']=5.0\n",
    "    ps['qT']=3.0\n",
    "    ps['s23']=s23val\n",
    "    ps['xi']=0.4\n",
    "    ps['xh']=ps['x']/ps['xi']\n",
    "    ps['zh']=(-ps['s23']+ps['Q']**2*(1-ps['xh'])/ps['xh'])/(ps['qT']**2+ps['Q']**2*(1-ps['xh'])/ps['xh'])\n",
    "    ps['zeta']=ps['z']/ps['zh']\n",
    "    ps['s']=(1-ps['xh'])/ps['xh']*ps['Q']**2\n",
    "    ps['t']=-(1-ps['zh'])*ps['Q']**2-ps['zh']*ps['qT']**2\n",
    "    ps['nf']=4.0\n",
    "    ps['B']=ps['Q']**2*(1/ps['xh']-1)*(1-ps['z'])-ps['z']*ps['qT']**2\n",
    "    return ps\n",
    "\n",
    "def evaluate(exp,s23val,verb=False):\n",
    "    ps=gen_ps(s23val)\n",
    "    test=exp.subs(g,1.)\n",
    "    test=test.subs(Q,ps['Q'])\n",
    "    test=test.subs(s23,ps['s23'])\n",
    "    test=test.subs(s,ps['s'])\n",
    "    test=test.subs(t,ps['t'])\n",
    "    test=test.subs(mu,ps['Q'])\n",
    "    test=test.subs(sp.EulerGamma,np.euler_gamma)\n",
    "    test=test.subs(B,ps['B'])\n",
    "    test=test.subs(nf,ps['nf'])\n",
    "    test=test.subs(sp.pi,np.pi)\n",
    "    if verb:\n",
    "        print ps['x']\n",
    "        print ps['z']\n",
    "        print ps['Q']\n",
    "        print ps['qT']\n",
    "        print ps['s23']\n",
    "        print ps['xi']\n",
    "        print ps['xh']\n",
    "        print ps['zh']\n",
    "        print ps['zeta']\n",
    "        print ps['s']\n",
    "        print ps['t']\n",
    "        print ps['B']\n",
    "    return test"
   ]
  },
  {
   "cell_type": "code",
   "execution_count": 4,
   "metadata": {
    "collapsed": true
   },
   "outputs": [],
   "source": [
    "def convert(exp):\n",
    "    sexp=str(exp).replace('sqrt','np.sqrt')\n",
    "    sexp=sexp.replace('log','np.log')\n",
    "    sexp=sexp.replace('pi','np.pi')\n",
    "    sexp=sexp.replace('Abs','np.abs')\n",
    "    sexp=sexp.replace('polylog','fp.polylog')\n",
    "    return sexp\n",
    "\n",
    "\n",
    "def gen_code(channel,exp1,exp20,exp3,exp30,exp4,exp40):\n",
    "    code=[]\n",
    "    code.append(r'#!/usr/bin/env python')\n",
    "    code.append(r'import numpy as np')\n",
    "    code.append(r'from mpmath import fp')\n",
    "    code.append(r'import numpy as np')\n",
    "    code.append(r'EulerGamma=np.euler_gamma')\n",
    "    code.append(r'PolyLOG=lambda a,b: fp.polylog(a,b)')\n",
    "\n",
    "    code.append(r'def regular(g=None,gp=None,s=None,t=None,Q=None,s23=None,mu=None,nf=None):')\n",
    "    code.append('    return %s'%convert(exp1))\n",
    "    code.append(r'def delta(g=None,gp=None,s=None,t=None,Q=None,s23=None,mu=None,B=None,nf=None):')\n",
    "    code.append('    return %s'%convert(exp20))\n",
    "    code.append(r'def plus1B(g=None,gp=None,s=None,t=None,Q=None,s23=None,mu=None,B=None,nf=None):')\n",
    "    code.append('    return %s'%convert(exp3))\n",
    "    code.append(r'def plus2B(g=None,gp=None,s=None,t=None,Q=None,s23=None,mu=None,B=None,nf=None):')\n",
    "    code.append('    return %s'%convert(exp4))\n",
    "    code.append(r'def plus1B0(g=None,gp=None,s=None,t=None,Q=None,s23=None,mu=None,B=None,nf=None):')\n",
    "    code.append('    return %s'%convert(exp30))\n",
    "    code.append(r'def plus2B0(g=None,gp=None,s=None,t=None,Q=None,s23=None,mu=None,B=None,nf=None):')\n",
    "    code.append('    return %s'%convert(exp40))\n",
    "\n",
    "    code=[l+'\\n' for l in code]\n",
    "    F=open('chn%d.py'%channel,'w')\n",
    "    F.writelines(code)\n",
    "    F.close()\n",
    "    os.system('chmod +x chn%d.py'%channel);"
   ]
  },
  {
   "cell_type": "code",
   "execution_count": 5,
   "metadata": {
    "collapsed": true
   },
   "outputs": [],
   "source": [
    "def get_s23zero_limit(exp):\n",
    "\n",
    "    lexp=(exp.subs(s23,0)).as_ordered_terms()\n",
    "    new_exp=0\n",
    "    bar=BAR(\"proceesing\",len(lexp))\n",
    "    for term in lexp:\n",
    "        dummy1=1\n",
    "        for f in term.as_ordered_factors():\n",
    "            dummy2=0\n",
    "            for ft in f.as_ordered_terms():\n",
    "                dummy2+=sp.powdenest(ft,force=True).simplify()\n",
    "            dummy1*=dummy2\n",
    "        new_exp+=dummy1\n",
    "        bar.next()\n",
    "    bar.finish()\n",
    "    \n",
    "    lexp=new_exp.as_ordered_terms()\n",
    "    new_exp=sp.S(0)\n",
    "    for term in lexp:\n",
    "        if evaluate(term,0,verb=False)==0: continue\n",
    "        new_exp+=term.replace(sp.log(a),sp.log(sp.Abs(a)))\n",
    "    \n",
    "    return new_exp"
   ]
  },
  {
   "cell_type": "code",
   "execution_count": 6,
   "metadata": {
    "collapsed": true
   },
   "outputs": [],
   "source": [
    "def get_s23zero_limit2(exp):\n",
    "\n",
    "    lexp=exp.as_ordered_terms()\n",
    "    new_exp=0\n",
    "    bar=BAR(\"proceesing\",len(lexp))\n",
    "    for term in lexp:\n",
    "        dummy1=1\n",
    "        for f in term.as_ordered_factors():\n",
    "            dummy2=0\n",
    "            for ft in f.as_ordered_terms():\n",
    "                if 'zoo' in str(ft.subs(s23,0)):\n",
    "                    dummy2+=ft.simplify()\n",
    "                else: \n",
    "                    dummy2+=ft\n",
    "            dummy1*=dummy2\n",
    "        new_exp+=dummy1.subs(s23,0)\n",
    "        bar.next()\n",
    "    bar.finish()\n",
    "    \n",
    "    lexp=new_exp.as_ordered_terms()\n",
    "    new_exp=sp.S(0)\n",
    "    for term in lexp:\n",
    "        #if evaluate(term,0,verb=False)==0: continue\n",
    "        new_exp+=term.replace(sp.log(a),sp.log(sp.Abs(a)))\n",
    "    return new_exp"
   ]
  },
  {
   "cell_type": "code",
   "execution_count": null,
   "metadata": {
    "collapsed": true
   },
   "outputs": [],
   "source": []
  },
  {
   "cell_type": "code",
   "execution_count": 7,
   "metadata": {
    "collapsed": false
   },
   "outputs": [],
   "source": [
    "def load_exp(ch,part):\n",
    "    L=open('channels/ch%d.%s'%(ch,part)).readlines()\n",
    "    L=[l.strip() for l in L]\n",
    "    L=[l.replace(r'&\\n','') for l in L]\n",
    "    expression=''\n",
    "    for i in range(len(L)):\n",
    "        l=L[i]\n",
    "        l=l.replace('\\\\[Mu]','mu')\n",
    "        l=l.replace('[','(')\n",
    "        l=l.replace(']',')')\n",
    "        l=l.replace('^','**')\n",
    "        l=l.replace('E4Pi','(EulerGamma - sp.log(4*sp.pi))')\n",
    "        l=l.replace('PolyLog','PolyLOG')\n",
    "        l=l.replace('Log','sp.log')\n",
    "        l=l.replace('Pi','sp.pi')\n",
    "        l=l.replace('EulerGamma','sp.EulerGamma')\n",
    "        l=l.replace('Sqrt','sp.sqrt')\n",
    "        l=l.rstrip('\\\\')\n",
    "        l=l.replace('\\\"','')\n",
    "        l=l.strip()\n",
    "        if l!='': expression+=l\n",
    "    exec 'exp=%s'%expression\n",
    "    return exp"
   ]
  },
  {
   "cell_type": "code",
   "execution_count": 8,
   "metadata": {
    "collapsed": false,
    "scrolled": false
   },
   "outputs": [],
   "source": [
    "chn=1\n",
    "exp1=load_exp(chn,'regular')\n",
    "exp2=load_exp(chn,'delta')\n",
    "exp3=load_exp(chn,'plus1B')\n",
    "exp4=load_exp(chn,'plus2B')"
   ]
  },
  {
   "cell_type": "code",
   "execution_count": 10,
   "metadata": {
    "collapsed": false
   },
   "outputs": [
    {
     "name": "stdout",
     "output_type": "stream",
     "text": [
      "1.98147666859023\n"
     ]
    }
   ],
   "source": [
    "print sp.N(evaluate(exp2.replace(PolyLOG(a,b),sp.polylog(a,b)),0.00000001))\n",
    "#print sp.N(evaluate(exp20.replace(PolyLOG(a,b),sp.polylog(a,b)),0.000000001))\n"
   ]
  },
  {
   "cell_type": "code",
   "execution_count": 188,
   "metadata": {
    "collapsed": true
   },
   "outputs": [],
   "source": [
    "lexp2=exp2.as_ordered_terms()"
   ]
  },
  {
   "cell_type": "code",
   "execution_count": 195,
   "metadata": {
    "collapsed": false,
    "scrolled": false
   },
   "outputs": [
    {
     "name": "stdout",
     "output_type": "stream",
     "text": [
      "((18*Q**2 + 9*s + 9*t)/sqrt(4*Q**2*s23 + (s + t)**2) - 24*(2*Q**2*s23 + s**2 + s*t)*(Q**2 + s - s23 + t)**3*(10*Q**4*s23**2 + 10*Q**2*s*s23*t + s**4 + 2*s**3*t + s**2*(4*Q**2*s23 + t**2))*log((2*Q**2 + s + t - sqrt(4*Q**2*s23 + (s + t)**2))/(2*Q**2 + s + t + sqrt(4*Q**2*s23 + (s + t)**2)))/((s - s23)**3*(4*Q**2*s23 + (s + t)**2)**3) - (-s**2 + s*(s23 - t) - s23*(2*Q**2 + t))*(24 + (54*Q**2 + 27*s + 27*t)*(s**2 + s*(-s23 + t) + s23*(2*Q**2 + t))/((s - s23)*(4*Q**2*s23 + (s + t)**2)) - 4*(s**2 + s*(-s23 + t) + s23*(2*Q**2 + t))**2/((s - s23)**2*(4*Q**2*s23 + (s + t)**2)) + 3*(-3 + 5*(s**2 + s*(-s23 + t) + s23*(2*Q**2 + t))**2/((s - s23)**2*(4*Q**2*s23 + (s + t)**2)))*(Q**2 + 0.5*s + 0.5*t)**2/(s23*(Q**2 + 0.25*(s + t)**2/s23)))/((-s + s23)*sqrt(4*Q**2*s23 + (s + t)**2)))*(-0.0029296875*log(mu)/pi**5 - 0.0029296875*log(2)/pi**5 - 0.00146484375*log(pi)/pi**5 - 0.00146484375/pi**5 + 0.00146484375*EulerGamma/pi**5)\n",
      "0.00146484375*((18*Q**2 + 9*s + 9*t)/sqrt(4*Q**2*s23 + (s + t)**2) - 24*(2*Q**2*s23 + s**2 + s*t)*(Q**2 + s - s23 + t)**3*(10*Q**4*s23**2 + 10*Q**2*s*s23*t + s**4 + 2*s**3*t + s**2*(4*Q**2*s23 + t**2))*log((2*Q**2 + s + t - sqrt(4*Q**2*s23 + (s + t)**2))/(2*Q**2 + s + t + sqrt(4*Q**2*s23 + (s + t)**2)))/((s - s23)**3*(4*Q**2*s23 + (s + t)**2)**3) - (-s**2 + s*(s23 - t) - s23*(2*Q**2 + t))*(24 + (54*Q**2 + 27*s + 27*t)*(s**2 + s*(-s23 + t) + s23*(2*Q**2 + t))/((s - s23)*(4*Q**2*s23 + (s + t)**2)) - 4*(s**2 + s*(-s23 + t) + s23*(2*Q**2 + t))**2/((s - s23)**2*(4*Q**2*s23 + (s + t)**2)) + 3*(-3 + 5*(s**2 + s*(-s23 + t) + s23*(2*Q**2 + t))**2/((s - s23)**2*(4*Q**2*s23 + (s + t)**2)))*(Q**2 + 0.5*s + 0.5*t)**2/(s23*(Q**2 + 0.25*(s + t)**2/s23)))/((-s + s23)*sqrt(4*Q**2*s23 + (s + t)**2)))*log(B)/pi**5\n",
      "-((18*Q**2 + 9*s + 9*t)/sqrt(4*Q**2*s23 + (s + t)**2) - (-2*Q**2*s23 - s*(s23 + t) + t*(s23 - t))*(24 - (54*Q**2 + 27*s + 27*t)*(2*Q**2*s23 + s*(s23 + t) + t*(-s23 + t))/((s23 - t)*(4*Q**2*s23 + (s + t)**2)) - 4*(2*Q**2*s23 + s*(s23 + t) + t*(-s23 + t))**2/((s23 - t)**2*(4*Q**2*s23 + (s + t)**2)) + 3*(-3 + 5*(2*Q**2*s23 + s*(s23 + t) + t*(-s23 + t))**2/((s23 - t)**2*(4*Q**2*s23 + (s + t)**2)))*(Q**2 + 0.5*s + 0.5*t)**2/(s23*(Q**2 + 0.25*(s + t)**2/s23)))/((s23 - t)*sqrt(4*Q**2*s23 + (s + t)**2)) + 24*(2*Q**2*s23 + t*(s + t))*(10*Q**4*s23**2 + 2*Q**2*s23*t*(5*s + 2*t) + t**2*(s + t)**2)*(Q**2 + s - s23 + t)**3*log((2*Q**2 + s + t - sqrt(4*Q**2*s23 + (s + t)**2))/(2*Q**2 + s + t + sqrt(4*Q**2*s23 + (s + t)**2)))/((s23 - t)**3*(4*Q**2*s23 + (s + t)**2)**3))*(-0.0029296875*log(mu)/pi**5 - 0.0029296875*log(2)/pi**5 - 0.00146484375*log(pi)/pi**5 + 0.00146484375*EulerGamma/pi**5)\n",
      "-0.00146484375*((18*Q**2 + 9*s + 9*t)/sqrt(4*Q**2*s23 + (s + t)**2) - (-2*Q**2*s23 - s*(s23 + t) + t*(s23 - t))*(24 - (54*Q**2 + 27*s + 27*t)*(2*Q**2*s23 + s*(s23 + t) + t*(-s23 + t))/((s23 - t)*(4*Q**2*s23 + (s + t)**2)) - 4*(2*Q**2*s23 + s*(s23 + t) + t*(-s23 + t))**2/((s23 - t)**2*(4*Q**2*s23 + (s + t)**2)) + 3*(-3 + 5*(2*Q**2*s23 + s*(s23 + t) + t*(-s23 + t))**2/((s23 - t)**2*(4*Q**2*s23 + (s + t)**2)))*(Q**2 + 0.5*s + 0.5*t)**2/(s23*(Q**2 + 0.25*(s + t)**2/s23)))/((s23 - t)*sqrt(4*Q**2*s23 + (s + t)**2)) + 24*(2*Q**2*s23 + t*(s + t))*(10*Q**4*s23**2 + 2*Q**2*s23*t*(5*s + 2*t) + t**2*(s + t)**2)*(Q**2 + s - s23 + t)**3*log((2*Q**2 + s + t - sqrt(4*Q**2*s23 + (s + t)**2))/(2*Q**2 + s + t + sqrt(4*Q**2*s23 + (s + t)**2)))/((s23 - t)**3*(4*Q**2*s23 + (s + t)**2)**3))*log(B)/pi**5\n",
      "0.00048828125*(-432*Q**2*s23*(Q**2*s23 + s*t)*(2*Q**2*s23 + t*(s + t))*(Q**2 + s - s23 + t)**3*log((2*Q**2 + s + t + sqrt(4*Q**2*s23 + (s + t)**2))/(2*Q**2 + s + t - sqrt(4*Q**2*s23 + (s + t)**2)))/((s23 - t)**3*(4*Q**2*s23 + (s + t)**2)**3) + (-39 + 8*(2*Q**2*s23 + s*(s23 + t) + t*(-s23 + t))**2/((s23 - t)**2*(4*Q**2*s23 + (s + t)**2)))*(-8*Q**2*s23 - 4*s*(s23 + t) + 4*t*(s23 - t))/((s23 - t)*sqrt(4*Q**2*s23 + (s + t)**2)) - (-3 + 7*(2*Q**2*s23 + s*(s23 + t) + t*(-s23 + t))**2/((s23 - t)**2*(4*Q**2*s23 + (s + t)**2)))*(54*Q**2 + 27.0*s + 27.0*t)/sqrt(4*Q**2*s23 + (s + t)**2) - 36*(2*Q**2*s23 + t*(s + t))*(4*PolyLOG(2, 2/(1 + (2*Q**2 + s + t)/sqrt(4*Q**2*s23 + (s + t)**2))) + log((2*Q**2 + s + t - sqrt(4*Q**2*s23 + (s + t)**2))/(2*Q**2 + s + t + sqrt(4*Q**2*s23 + (s + t)**2)))**2)*(10*Q**4*s23**2 + 2*Q**2*s23*t*(5*s + 2*t) + t**2*(s + t)**2)*(Q**2 + s - s23 + t)**3/((s23 - t)**3*(4*Q**2*s23 + (s + t)**2)**3) + 9*(9 - 13*(2*Q**2*s23 + s*(s23 + t) + t*(-s23 + t))**2/((s23 - t)**2*(4*Q**2*s23 + (s + t)**2)))*(Q**2 + 0.5*s + 0.5*t)**2*(-2*Q**2*s23 - s*(s23 + t) + t*(s23 - t))/(s23*(Q**2 + 0.25*(s + t)**2/s23)*(s23 - t)*sqrt(4*Q**2*s23 + (s + t)**2)))/pi**5\n",
      "-((-3 - 3*(2*Q**2 + s + t)*(2*Q**2*s23 + s*(s23 + t) + t*(-s23 + t))/((s23 - t)*(4*Q**2*s23 + (s + t)**2)))*(5 - 3*(2*Q**2 + s + t)**2/(4*Q**2*s23 + (s + t)**2) + 2*(10*Q**4 + 2*Q**2*(5*s - 3*s23 + 5*t) + (s + t)**2)*(2*Q**2*s23 + s*(s23 + t) + t*(-s23 + t))**2/((s23 - t)**2*(4*Q**2*s23 + (s + t)**2)**2) - (8*Q**2 + 4*s + 4*t)*(2*Q**2*s23 + s*(s23 + t) + t*(-s23 + t))/((-s23 + t)*(4*Q**2*s23 + (s + t)**2)))*log((2*Q**2 + s + t - sqrt(4*Q**2*s23 + (s + t)**2))/(2*Q**2 + s + t + sqrt(4*Q**2*s23 + (s + t)**2))) + (36*Q**2 + 18*s + 18*t)/sqrt(4*Q**2*s23 + (s + t)**2) + (-4*Q**2*s23 - 2*s*(s23 + t) + 2*t*(s23 - t))*(24 - 4*(2*Q**2*s23 + s*(s23 + t) + t*(-s23 + t))**2/((s23 - t)**2*(4*Q**2*s23 + (s + t)**2)) - (54*Q**2 + 27*s + 27*t)*(2*Q**2*s23 + s*(s23 + t) + t*(-s23 + t))/((-s23 + t)*(4*Q**2*s23 + (s + t)**2)) + 3*(-3 + 5*(2*Q**2*s23 + s*(s23 + t) + t*(-s23 + t))**2/((s23 - t)**2*(4*Q**2*s23 + (s + t)**2)))*(Q**2 + 0.5*s + 0.5*t)**2/(s23*(Q**2 + 0.25*(s + t)**2/s23)))/((s23 - t)*sqrt(4*Q**2*s23 + (s + t)**2)))*(-0.0146484375*log(mu)/pi**5 - 0.0146484375*log(2)/pi**5 - 0.00732421875*log(pi)/pi**5 - 0.000732421875/pi**5 + 0.00732421875*EulerGamma/pi**5)\n",
      "-0.00732421875*((-3 - 3*(2*Q**2 + s + t)*(2*Q**2*s23 + s*(s23 + t) + t*(-s23 + t))/((s23 - t)*(4*Q**2*s23 + (s + t)**2)))*(5 - 3*(2*Q**2 + s + t)**2/(4*Q**2*s23 + (s + t)**2) + 2*(10*Q**4 + 2*Q**2*(5*s - 3*s23 + 5*t) + (s + t)**2)*(2*Q**2*s23 + s*(s23 + t) + t*(-s23 + t))**2/((s23 - t)**2*(4*Q**2*s23 + (s + t)**2)**2) - (8*Q**2 + 4*s + 4*t)*(2*Q**2*s23 + s*(s23 + t) + t*(-s23 + t))/((-s23 + t)*(4*Q**2*s23 + (s + t)**2)))*log((2*Q**2 + s + t - sqrt(4*Q**2*s23 + (s + t)**2))/(2*Q**2 + s + t + sqrt(4*Q**2*s23 + (s + t)**2))) + (36*Q**2 + 18*s + 18*t)/sqrt(4*Q**2*s23 + (s + t)**2) + (-4*Q**2*s23 - 2*s*(s23 + t) + 2*t*(s23 - t))*(24 - 4*(2*Q**2*s23 + s*(s23 + t) + t*(-s23 + t))**2/((s23 - t)**2*(4*Q**2*s23 + (s + t)**2)) - (54*Q**2 + 27*s + 27*t)*(2*Q**2*s23 + s*(s23 + t) + t*(-s23 + t))/((-s23 + t)*(4*Q**2*s23 + (s + t)**2)) + 3*(-3 + 5*(2*Q**2*s23 + s*(s23 + t) + t*(-s23 + t))**2/((s23 - t)**2*(4*Q**2*s23 + (s + t)**2)))*(Q**2 + 0.5*s + 0.5*t)**2/(s23*(Q**2 + 0.25*(s + t)**2/s23)))/((s23 - t)*sqrt(4*Q**2*s23 + (s + t)**2)))*log(B)/pi**5\n",
      "0.000244140625*(8640*Q**2*s23*(Q**2*s23 + s*t)*(2*Q**4*s23 + Q**2*(s*(2*s23 + t) + 2*s23**2 - 2*s23*t + t**2) + s*s23*(s + t))*(Q**2 + s - s23 + t)**2*log((2*Q**2 + s + t + sqrt(4*Q**2*s23 + (s + t)**2))/(2*Q**2 + s + t - sqrt(4*Q**2*s23 + (s + t)**2)))/((s23 - t)**3*(4*Q**2*s23 + (s + t)**2)**3) - 5*(-39 + 8*(2*Q**2*s23 + s*(s23 + t) + t*(-s23 + t))**2/((s23 - t)**2*(4*Q**2*s23 + (s + t)**2)))*(-32*Q**2*s23 - 16*s*(s23 + t) + 16*t*(s23 - t))/((s23 - t)*sqrt(4*Q**2*s23 + (s + t)**2)) - 5*(-9 - 9*(2*Q**2 + s + t)*(2*Q**2*s23 + s*(s23 + t) + t*(-s23 + t))/((s23 - t)*(4*Q**2*s23 + (s + t)**2)))*(4*PolyLOG(2, 2/(1 + (2*Q**2 + s + t)/sqrt(4*Q**2*s23 + (s + t)**2))) + log((2*Q**2 + s + t - sqrt(4*Q**2*s23 + (s + t)**2))/(2*Q**2 + s + t + sqrt(4*Q**2*s23 + (s + t)**2)))**2)*(5 - 3*(2*Q**2 + s + t)**2/(4*Q**2*s23 + (s + t)**2) + 2*(10*Q**4 + 2*Q**2*(5*s - 3*s23 + 5*t) + (s + t)**2)*(2*Q**2*s23 + s*(s23 + t) + t*(-s23 + t))**2/((s23 - t)**2*(4*Q**2*s23 + (s + t)**2)**2) - (8*Q**2 + 4*s + 4*t)*(2*Q**2*s23 + s*(s23 + t) + t*(-s23 + t))/((-s23 + t)*(4*Q**2*s23 + (s + t)**2))) - 5*(-3 + 7*(2*Q**2*s23 + s*(s23 + t) + t*(-s23 + t))**2/((s23 - t)**2*(4*Q**2*s23 + (s + t)**2)))*(216*Q**2 + 108.0*s + 108.0*t)/sqrt(4*Q**2*s23 + (s + t)**2) - 180*(9 - 13*(2*Q**2*s23 + s*(s23 + t) + t*(-s23 + t))**2/((s23 - t)**2*(4*Q**2*s23 + (s + t)**2)))*(Q**2 + 0.5*s + 0.5*t)**2*(-2*Q**2*s23 - s*(s23 + t) + t*(s23 - t))/(s23*(Q**2 + 0.25*(s + t)**2/s23)*(s23 - t)*sqrt(4*Q**2*s23 + (s + t)**2)))/pi**5\n",
      "1/(Q**2 + 0.25*(s + t)**2/s23)\n"
     ]
    }
   ],
   "source": [
    "for term in lexp2:\n",
    "    term0=term.subs(s23,0)\n",
    "    if 'zoo' in str(sp.N(evaluate(term0.replace(PolyLOG(a,b),sp.polylog(a,b)),0.000001))):\n",
    "        for f in term.as_ordered_factors():\n",
    "            f0=f.subs(s23,0)\n",
    "            if 'zoo' in str(sp.N(evaluate(f0.replace(PolyLOG(a,b),sp.polylog(a,b)),0.000001))):\n",
    "                for t in f.as_ordered_terms():\n",
    "                    t0=t.subs(s23,0)\n",
    "                    if 'zoo' in str(sp.N(evaluate(t0.replace(PolyLOG(a,b),sp.polylog(a,b)),0.000001))):\n",
    "                        print t"
   ]
  },
  {
   "cell_type": "code",
   "execution_count": null,
   "metadata": {
    "collapsed": true
   },
   "outputs": [],
   "source": []
  },
  {
   "cell_type": "code",
   "execution_count": 187,
   "metadata": {
    "collapsed": false,
    "scrolled": false
   },
   "outputs": [
    {
     "data": {
      "text/latex": [
       "$$\\frac{1}{\\pi^{5}} \\left(- 0.046875 \\operatorname{PolyLOG}{\\left (2,\\frac{2 Q^{2} + 2 s + 2 t}{2 Q^{2} + s + t + \\sqrt{\\left(s + t\\right)^{2}}} \\right )} + 0.046875 \\operatorname{PolyLOG}{\\left (2,- \\frac{s t + t \\left(t + \\sqrt{\\left(s + t\\right)^{2}}\\right)}{t \\left(2 Q^{2} + s + t - \\sqrt{\\left(s + t\\right)^{2}}\\right)} \\right )} - 0.046875 \\log{\\left (0.5 \\left|{\\frac{2 Q^{2} + s + t - \\sqrt{\\left(s + t\\right)^{2}}}{Q^{2} + s + t}}\\right| \\right )} \\log{\\left (2 \\left|{\\frac{Q^{2} + s + t}{\\sqrt{\\left(s + t\\right)^{2}}}}\\right| \\right )} - 0.046875 \\log{\\left (2 \\left|{\\frac{Q^{2} + s + t}{2 Q^{2} + s + t + \\sqrt{\\left(s + t\\right)^{2}}}}\\right| \\right )} \\log{\\left (\\left|{1 + \\frac{- s t - t^{2}}{t \\sqrt{\\left(s + t\\right)^{2}}}}\\right| \\right )} + 0.01171875 \\log{\\left (\\left|{\\frac{2 Q^{2} + s + t - \\sqrt{\\left(s + t\\right)^{2}}}{2 Q^{2} + s + t + \\sqrt{\\left(s + t\\right)^{2}}}}\\right| \\right )} \\log{\\left (\\left|{\\frac{1}{\\left(s + t\\right)^{4}} \\left(2 Q^{2} + s + t - \\sqrt{\\left(s + t\\right)^{2}}\\right) \\left(2 Q^{2} + s + t + \\sqrt{\\left(s + t\\right)^{2}}\\right)^{3}}\\right| \\right )} + 0.0078125 \\pi^{2}\\right)$$"
      ],
      "text/plain": [
       "<IPython.core.display.Math object>"
      ]
     },
     "metadata": {},
     "output_type": "display_data"
    },
    {
     "name": "stdout",
     "output_type": "stream",
     "text": [
      "zoo\n"
     ]
    }
   ],
   "source": [
    "lexp20=exp20.as_ordered_terms()\n",
    "for term in lexp20:\n",
    "    eterm=sp.N(evaluate(term.replace(PolyLOG(a,b),sp.polylog(a,b)),0.000001))\n",
    "    if eterm==sp.zoo: \n",
    "        for f in term.as_ordered_factors():\n",
    "            if sp.N(evaluate(f.replace(PolyLOG(a,b),sp.polylog(a,b)),0.000001))==sp.zoo:\n",
    "                for ff in f.as_ordered_terms():\n",
    "                    if sp.N(evaluate(ff.replace(PolyLOG(a,b),sp.polylog(a,b)),0.00001))==sp.zoo:\n",
    "                        lprint(ff)\n",
    "                        print sp.N(evaluate(ff.replace(PolyLOG(a,b),sp.polylog(a,b)),0.00001))"
   ]
  },
  {
   "cell_type": "code",
   "execution_count": 183,
   "metadata": {
    "collapsed": false
   },
   "outputs": [
    {
     "data": {
      "image/png": "[encoded data removed]",
      "text/latex": [
       "$$\\frac{\\pi^{2}}{6}$$"
      ],
      "text/plain": [
       " 2\n",
       "π \n",
       "──\n",
       "6 "
      ]
     },
     "execution_count": 183,
     "metadata": {},
     "output_type": "execute_result"
    }
   ],
   "source": [
    "sp.polylog(2,1)"
   ]
  },
  {
   "cell_type": "code",
   "execution_count": null,
   "metadata": {
    "collapsed": true
   },
   "outputs": [],
   "source": []
  },
  {
   "cell_type": "code",
   "execution_count": 116,
   "metadata": {
    "collapsed": false
   },
   "outputs": [
    {
     "name": "stdout",
     "output_type": "stream",
     "text": [
      "proceesing [58/58]\n"
     ]
    }
   ],
   "source": [
    "exp20=get_s23zero_limit2(exp2)"
   ]
  },
  {
   "cell_type": "code",
   "execution_count": 164,
   "metadata": {
    "collapsed": false
   },
   "outputs": [
    {
     "name": "stdout",
     "output_type": "stream",
     "text": [
      "zoo\n"
     ]
    }
   ],
   "source": [
    "print sp.N(evaluate(exp20.replace(PolyLOG(a,b),sp.polylog(a,b)),0.000001))\n"
   ]
  },
  {
   "cell_type": "code",
   "execution_count": null,
   "metadata": {
    "collapsed": true
   },
   "outputs": [],
   "source": []
  },
  {
   "cell_type": "code",
   "execution_count": null,
   "metadata": {
    "collapsed": true
   },
   "outputs": [],
   "source": []
  },
  {
   "cell_type": "code",
   "execution_count": 159,
   "metadata": {
    "collapsed": false,
    "scrolled": true
   },
   "outputs": [
    {
     "name": "stdout",
     "output_type": "stream",
     "text": [
      "==================================================\n",
      "-t**3*(-4.0*(-0.00439453125*t**3*(t + 10.0)**5*(t + 35.0)**3*(4*PolyLOG(2, 2*sqrt((t + 10.0)**2)/(t + sqrt((t + 10.0)**2) + 60.0)) + log(Abs((t - sqrt((t + 10.0)**2) + 60.0)/(t + sqrt((t + 10.0)**2) + 60.0)))**2)*((t + 10.0)**2)**(9/2) - 0.0001220703125*t*(t + 10.0)**14*(27.0*t + 1620.0)*(3*t**2*(t + 10.0)**2 - 7*(t**2 + 10.0*t)**2) - 0.00439453125*(0.5*t + 30.0)**2*(t + 10.0)**12*(t**2 + 10.0*t)*(9*t**2*(t + 10.0)**2 - 13*(t**2 + 10.0*t)**2) + 0.00048828125*(t + 10.0)**14*(t**2 + 10.0*t)*(39*t**2*(t + 10.0)**2 - 8*(t**2 + 10.0*t)**2))/(pi**5*t**3*(t + 10.0)**2*((t + 10.0)**2)**(15/2)) - 4.0*(6.0*t**3*(t + 10.0)**13*(t + 35.0)**3*log(Abs((t - sqrt((t + 10.0)**2) + 60.0)/(t + sqrt((t + 10.0)**2) + 60.0))) - 2.25*t**3*(t + 10.0)**2*(t + 60.0)*((t + 10.0)**2)**(13/2) - (t**2 + 10.0*t)*(-6.0*t**2*(t + 10.0)**4 - 6.75*t*(t + 10.0)**2*(t + 60.0)*(t**2 + 10.0*t) + (0.5*t + 30.0)**2*(9*t**2*(t + 10.0)**2 - 15*(t**2 + 10.0*t)**2) + (t + 10.0)**2*(t**2 + 10.0*t)**2)*((t + 10.0)**2)**(11/2))*(0.0029296875*log(Abs(mu)) - 0.00146484375*EulerGamma + log(pi**0.00146484375) + 0.00203070463054669)/(pi**5*t**3*(t + 10.0)**16) + 0.005859375*(6.0*t**3*(t + 10.0)**13*(t + 35.0)**3*log(Abs((t - sqrt((t + 10.0)**2) + 60.0)/(t + sqrt((t + 10.0)**2) + 60.0))) - 2.25*t**3*(t + 10.0)**2*(t + 60.0)*((t + 10.0)**2)**(13/2) - (t**2 + 10.0*t)*(-6.0*t**2*(t + 10.0)**4 - 6.75*t*(t + 10.0)**2*(t + 60.0)*(t**2 + 10.0*t) + (0.5*t + 30.0)**2*(9*t**2*(t + 10.0)**2 - 15*(t**2 + 10.0*t)**2) + (t + 10.0)**2*(t**2 + 10.0*t)**2)*((t + 10.0)**2)**(11/2))*log(Abs(B))/(pi**5*t**3*(t + 10.0)**16))/((-3.0*t - 105.0)*sqrt(t**2 + 20.0*t + 100.0))\n",
      "::::::::::::::::::::::::::::::::::::::::::::::::::\n",
      "-t**3*(-0.0130710545722135*(-0.00439453125*t**3*(t + 10.0)**5*(t + 35.0)**3*(4*PolyLOG(2, 2*sqrt((t + 10.0)**2)/(t + sqrt((t + 10.0)**2) + 60.0)) + log(Abs((t - sqrt((t + 10.0)**2) + 60.0)/(t + sqrt((t + 10.0)**2) + 60.0)))**2)*((t + 10.0)**2)**(9/2) - 0.0001220703125*t*(t + 10.0)**14*(27.0*t + 1620.0)*(3*t**2*(t + 10.0)**2 - 7*(t**2 + 10.0*t)**2) - 0.00439453125*(0.5*t + 30.0)**2*(t + 10.0)**12*(t**2 + 10.0*t)*(9*t**2*(t + 10.0)**2 - 13*(t**2 + 10.0*t)**2) + 0.00048828125*(t + 10.0)**14*(t**2 + 10.0*t)*(39*t**2*(t + 10.0)**2 - 8*(t**2 + 10.0*t)**2))/(t**3*(t + 10.0)**2*((t + 10.0)**2)**(15/2)) - 0.0130710545722135*(6.0*t**3*(t + 10.0)**13*(t + 35.0)**3*log(Abs((t - sqrt((t + 10.0)**2) + 60.0)/(t + sqrt((t + 10.0)**2) + 60.0))) - 2.25*t**3*(t + 10.0)**2*(t + 60.0)*((t + 10.0)**2)**(13/2) - (t**2 + 10.0*t)*(-6.0*t**2*(t + 10.0)**4 - 6.75*t*(t + 10.0)**2*(t + 60.0)*(t**2 + 10.0*t) + (0.5*t + 30.0)**2*(9*t**2*(t + 10.0)**2 - 15*(t**2 + 10.0*t)**2) + (t + 10.0)**2*(t**2 + 10.0*t)**2)*((t + 10.0)**2)**(11/2))*(0.0029296875*log(Abs(mu)) - 0.00146484375*EulerGamma + 0.0037075550492713)/(t**3*(t + 10.0)**16) + 1.91470525960159e-5*(6.0*t**3*(t + 10.0)**13*(t + 35.0)**3*log(Abs((t - sqrt((t + 10.0)**2) + 60.0)/(t + sqrt((t + 10.0)**2) + 60.0))) - 2.25*t**3*(t + 10.0)**2*(t + 60.0)*((t + 10.0)**2)**(13/2) - (t**2 + 10.0*t)*(-6.0*t**2*(t + 10.0)**4 - 6.75*t*(t + 10.0)**2*(t + 60.0)*(t**2 + 10.0*t) + (0.5*t + 30.0)**2*(9*t**2*(t + 10.0)**2 - 15*(t**2 + 10.0*t)**2) + (t + 10.0)**2*(t**2 + 10.0*t)**2)*((t + 10.0)**2)**(11/2))*log(Abs(B))/(t**3*(t + 10.0)**16))/((-3.0*t - 105.0)*sqrt(t**2 + 20.0*t + 100.0))\n",
      "==================================================\n",
      "-t**3*(-4.0*(-0.00030517578125*t*(t + 10.0)**24*(108.0*t + 6480.0)*(3*t**2*(t + 10.0)**2 - 7*(t**2 + 10.0*t)**2) + 0.0439453125*(0.5*t + 30.0)**2*(t + 10.0)**22*(t**2 + 10.0*t)*(9*t**2*(t + 10.0)**2 - 13*(t**2 + 10.0*t)**2) - 0.0048828125*(t + 10.0)**24*(t**2 + 10.0*t)*(39*t**2*(t + 10.0)**2 - 8*(t**2 + 10.0*t)**2) + 0.00274658203125*(t + 10.0)**2*(-t*(t + 10.0)**2 + (t + 60.0)*(t**2 + 10.0*t))*(4*PolyLOG(2, 2*sqrt((t + 10.0)**2)/(t + sqrt((t + 10.0)**2) + 60.0)) + log(Abs((t - sqrt((t + 10.0)**2) + 60.0)/(t + sqrt((t + 10.0)**2) + 60.0)))**2)*(5*t**2*(t + 10.0)**4 - 3*t**2*(t + 10.0)**2*(t + 60.0)**2 - 4*t*(t + 10.0)**2*(t + 60.0)*(t**2 + 10.0*t) + 2*(t**2 + 10.0*t)**2*(250.0*t + (t + 10.0)**2 + 8750.0))*((t + 10.0)**2)**(19/2))/(pi**5*t**3*(t + 10.0)**2*((t + 10.0)**2)**(25/2)) - 0.029296875*(4.5*t**3*(t + 10.0)**2*(t + 60.0)*((t + 10.0)**2)**(17/2) + 0.75*(t + 10.0)**14*(-t*(t + 10.0)**2 + (t + 60.0)*(t**2 + 10.0*t))*(5*t**2*(t + 10.0)**4 - 3*t**2*(t + 10.0)**2*(t + 60.0)**2 - 4*t*(t + 10.0)**2*(t + 60.0)*(t**2 + 10.0*t) + 2*(t**2 + 10.0*t)**2*(250.0*t + (t + 10.0)**2 + 8750.0))*log(Abs((t - sqrt((t + 10.0)**2) + 60.0)/(t + sqrt((t + 10.0)**2) + 60.0))) + 2*(t**2 + 10.0*t)*(6.0*t**2*(t + 10.0)**4 - 6.75*t*(t + 10.0)**2*(t + 60.0)*(t**2 + 10.0*t) + 3*(0.5*t + 30.0)**2*(-3*t**2*(t + 10.0)**2 + 5*(t**2 + 10.0*t)**2) - 1.0*(t + 10.0)**2*(t**2 + 10.0*t)**2)*((t + 10.0)**2)**(15/2))*log(Abs(B))/(pi**5*t**3*(t + 10.0)**20) + 4.0*(4.5*t**3*(t + 10.0)**2*(t + 60.0)*((t + 10.0)**2)**(17/2) + 0.75*(t + 10.0)**14*(-t*(t + 10.0)**2 + (t + 60.0)*(t**2 + 10.0*t))*(5*t**2*(t + 10.0)**4 - 3*t**2*(t + 10.0)**2*(t + 60.0)**2 - 4*t*(t + 10.0)**2*(t + 60.0)*(t**2 + 10.0*t) + 2*(t**2 + 10.0*t)**2*(250.0*t + (t + 10.0)**2 + 8750.0))*log(Abs((t - sqrt((t + 10.0)**2) + 60.0)/(t + sqrt((t + 10.0)**2) + 60.0))) + 2*(t**2 + 10.0*t)*(6.0*t**2*(t + 10.0)**4 - 6.75*t*(t + 10.0)**2*(t + 60.0)*(t**2 + 10.0*t) - 3*(0.5*t + 30.0)**2*(3*t**2*(t + 10.0)**2 - 5*(t**2 + 10.0*t)**2) - 1.0*(t + 10.0)**2*(t**2 + 10.0*t)**2)*((t + 10.0)**2)**(15/2))*(0.0146484375*log(Abs(mu)) - 0.00732421875*EulerGamma + log(pi**0.00732421875) + 0.0108859450277336)/(pi**5*t**3*(t + 10.0)**20))/((-27.0*t - 945.0)*sqrt(t**2 + 20.0*t + 100.0))\n",
      "::::::::::::::::::::::::::::::::::::::::::::::::::\n",
      "-t**3*(-0.0130710545722135*(-0.00030517578125*t*(t + 10.0)**24*(108.0*t + 6480.0)*(3*t**2*(t + 10.0)**2 - 7*(t**2 + 10.0*t)**2) + 0.0439453125*(0.5*t + 30.0)**2*(t + 10.0)**22*(t**2 + 10.0*t)*(9*t**2*(t + 10.0)**2 - 13*(t**2 + 10.0*t)**2) - 0.0048828125*(t + 10.0)**24*(t**2 + 10.0*t)*(39*t**2*(t + 10.0)**2 - 8*(t**2 + 10.0*t)**2) + 0.00274658203125*(t + 10.0)**2*(-t*(t + 10.0)**2 + (t + 60.0)*(t**2 + 10.0*t))*(4*PolyLOG(2, 2*sqrt((t + 10.0)**2)/(t + sqrt((t + 10.0)**2) + 60.0)) + log(Abs((t - sqrt((t + 10.0)**2) + 60.0)/(t + sqrt((t + 10.0)**2) + 60.0)))**2)*(5*t**2*(t + 10.0)**4 - 3*t**2*(t + 10.0)**2*(t + 60.0)**2 - 4*t*(t + 10.0)**2*(t + 60.0)*(t**2 + 10.0*t) + 2*(t**2 + 10.0*t)**2*(250.0*t + (t + 10.0)**2 + 8750.0))*((t + 10.0)**2)**(19/2))/(t**3*(t + 10.0)**2*((t + 10.0)**2)**(25/2)) - 9.57352629800797e-5*(4.5*t**3*(t + 10.0)**2*(t + 60.0)*((t + 10.0)**2)**(17/2) + 0.75*(t + 10.0)**14*(-t*(t + 10.0)**2 + (t + 60.0)*(t**2 + 10.0*t))*(5*t**2*(t + 10.0)**4 - 3*t**2*(t + 10.0)**2*(t + 60.0)**2 - 4*t*(t + 10.0)**2*(t + 60.0)*(t**2 + 10.0*t) + 2*(t**2 + 10.0*t)**2*(250.0*t + (t + 10.0)**2 + 8750.0))*log(Abs((t - sqrt((t + 10.0)**2) + 60.0)/(t + sqrt((t + 10.0)**2) + 60.0))) + 2*(t**2 + 10.0*t)*(6.0*t**2*(t + 10.0)**4 - 6.75*t*(t + 10.0)**2*(t + 60.0)*(t**2 + 10.0*t) + 3*(0.5*t + 30.0)**2*(-3*t**2*(t + 10.0)**2 + 5*(t**2 + 10.0*t)**2) - 1.0*(t + 10.0)**2*(t**2 + 10.0*t)**2)*((t + 10.0)**2)**(15/2))*log(Abs(B))/(t**3*(t + 10.0)**20) + 0.0130710545722135*(4.5*t**3*(t + 10.0)**2*(t + 60.0)*((t + 10.0)**2)**(17/2) + 0.75*(t + 10.0)**14*(-t*(t + 10.0)**2 + (t + 60.0)*(t**2 + 10.0*t))*(5*t**2*(t + 10.0)**4 - 3*t**2*(t + 10.0)**2*(t + 60.0)**2 - 4*t*(t + 10.0)**2*(t + 60.0)*(t**2 + 10.0*t) + 2*(t**2 + 10.0*t)**2*(250.0*t + (t + 10.0)**2 + 8750.0))*log(Abs((t - sqrt((t + 10.0)**2) + 60.0)/(t + sqrt((t + 10.0)**2) + 60.0))) + 2*(t**2 + 10.0*t)*(6.0*t**2*(t + 10.0)**4 - 6.75*t*(t + 10.0)**2*(t + 60.0)*(t**2 + 10.0*t) - 3*(0.5*t + 30.0)**2*(3*t**2*(t + 10.0)**2 - 5*(t**2 + 10.0*t)**2) - 1.0*(t + 10.0)**2*(t**2 + 10.0*t)**2)*((t + 10.0)**2)**(15/2))*(0.0146484375*log(Abs(mu)) - 0.00732421875*EulerGamma + 0.019270197121357)/(t**3*(t + 10.0)**20))/((-27.0*t - 945.0)*sqrt(t**2 + 20.0*t + 100.0))\n",
      "==================================================\n",
      "0.00130208333333333*t**2*(6*log(Abs(B)) - 12*log(Abs(mu)) - 13 - 12*log(2) - 6*log(pi) + 6*EulerGamma)/(pi**5*(-t - 35.0))\n",
      "::::::::::::::::::::::::::::::::::::::::::::::::::\n",
      "4.25490057689243e-6*t**2*(6*log(Abs(B)) - 12*log(Abs(mu)) - 19.8683793150964 - 12*log(2) + 6*EulerGamma)/(-t - 35.0)\n",
      "==================================================\n",
      "0.000651041666666667*t/pi**5\n",
      "::::::::::::::::::::::::::::::::::::::::::::::::::\n",
      "2.12745028844621e-6*t\n",
      "==================================================\n",
      "7.2337962962963e-5*t*(162*t*log(Abs(B)) - 324*t*log(Abs(mu)) - 357*t - 324*t*log(2) - 162*t*log(pi) + 162*EulerGamma*t + 1680.0*log(Abs(B)) - 3360.0*log(Abs(mu)) - 3640.0 - 3360.0*log(2) - 1680.0*log(pi) + 1680.0*EulerGamma)/(pi**5*(t + 35.0))\n",
      "::::::::::::::::::::::::::::::::::::::::::::::::::\n",
      "2.36383365382913e-7*t*(162*t*log(Abs(B)) - 324*t*log(Abs(mu)) - 542.446241507603*t - 324*t*log(2) + 162*EulerGamma*t + 1680.0*log(Abs(B)) - 3360.0*log(Abs(mu)) - 5563.14620822699 - 3360.0*log(2) + 1680.0*EulerGamma)/(t + 35.0)\n",
      "==================================================\n",
      "-0.00217013888888889*t/(pi**5*(t + 35.0))\n",
      "::::::::::::::::::::::::::::::::::::::::::::::::::\n",
      "-7.09150096148738e-6*t/(t + 35.0)\n",
      "==================================================\n",
      "t*(-0.000244140625*(12*t**2 + 290.0*t + 4550.0)*((3*t + 180.0)/sqrt((t + 10.0)**2) - 12*(t + 35.0)**2*log(Abs((t - sqrt((t + 10.0)**2) + 60.0)/(t + sqrt((t + 10.0)**2) + 60.0)))/(t + 10.0)**2 - (12*t**2 + 120.0*t)/(t*sqrt((t + 10.0)**2)) - (9*t + 540.0)*(t**2 + 10.0*t)**2*((t + 10.0)**2)**(-1.5)/t**2)*log(Abs(B))/pi**5 + 0.000244140625*(12*t**2 + 290.0*t + 4550.0)*((9*t + 540.0)/sqrt((t + 10.0)**2) + 2*(t + 35.0)**2*(-12*PolyLOG(2, (t - sqrt((t + 10.0)**2) + 60.0)/(t + sqrt((t + 10.0)**2) + 60.0)) + 3*log(Abs((t - sqrt((t + 10.0)**2) + 60.0)/(t + sqrt((t + 10.0)**2) + 60.0)))*log(0.0625*Abs((t - sqrt((t + 10.0)**2) + 60.0)*(t + sqrt((t + 10.0)**2) + 60.0)**3/(t + 10.0)**4)) + 2*pi**2)/(t + 10.0)**2 - (24*t**2 + 240.0*t)/(t*sqrt((t + 10.0)**2)) - (21*t + 1260.0)*(t**2 + 10.0*t)**2*((t + 10.0)**2)**(-1.5)/t**2)/pi**5 - ((3*t + 180.0)/sqrt((t + 10.0)**2) - 12*(t + 35.0)**2*log(Abs((t - sqrt((t + 10.0)**2) + 60.0)/(t + sqrt((t + 10.0)**2) + 60.0)))/(t + 10.0)**2 - (12*t**2 + 120.0*t)/(t*sqrt((t + 10.0)**2)) - (9*t + 540.0)*(t**2 + 10.0*t)**2*((t + 10.0)**2)**(-1.5)/t**2)*(-0.00048828125*(12*t**2 + 290.0*t + 4550.0)*log(Abs(mu))/pi**5 - (0.000244140625*log(pi)/pi**5 + 0.00048828125*log(2)/pi**5)*(12*t**2 + 290.0*t + 4550.0) - 0.000244140625*(12*t**2 + 290.0*t + 4550.0)/pi**5 + 0.000244140625*EulerGamma*(12*t**2 + 290.0*t + 4550.0)/pi**5 + 0.000244140625*(14*t**2 + 240.0*t - 3850.0)/pi**5))/((-t - 35.0)*sqrt(t**2 + 20.0*t + 100.0))\n",
      "::::::::::::::::::::::::::::::::::::::::::::::::::\n",
      "t*(-7.97793858167331e-7*(12*t**2 + 290.0*t + 4550.0)*((3*t + 180.0)/sqrt((t + 10.0)**2) - 12*(t + 35.0)**2*log(Abs((t - sqrt((t + 10.0)**2) + 60.0)/(t + sqrt((t + 10.0)**2) + 60.0)))/(t + 10.0)**2 - (12*t**2 + 120.0*t)/(t*sqrt((t + 10.0)**2)) - (9*t + 540.0)*(t**2 + 10.0*t)**2*((t + 10.0)**2)**(-1.5)/t**2)*log(Abs(B)) + 7.97793858167331e-7*(12*t**2 + 290.0*t + 4550.0)*((9*t + 540.0)/sqrt((t + 10.0)**2) + 2*(t + 35.0)**2*(-12*PolyLOG(2, (t - sqrt((t + 10.0)**2) + 60.0)/(t + sqrt((t + 10.0)**2) + 60.0)) + 3*log(Abs((t - sqrt((t + 10.0)**2) + 60.0)/(t + sqrt((t + 10.0)**2) + 60.0)))*log(0.0625*Abs((t - sqrt((t + 10.0)**2) + 60.0)*(t + sqrt((t + 10.0)**2) + 60.0)**3/(t + 10.0)**4)) + 19.7392088021787)/(t + 10.0)**2 - (24*t**2 + 240.0*t)/(t*sqrt((t + 10.0)**2)) - (21*t + 1260.0)*(t**2 + 10.0*t)**2*((t + 10.0)**2)**(-1.5)/t**2) - ((3*t + 180.0)/sqrt((t + 10.0)**2) - 12*(t + 35.0)**2*log(Abs((t - sqrt((t + 10.0)**2) + 60.0)/(t + sqrt((t + 10.0)**2) + 60.0)))/(t + 10.0)**2 - (12*t**2 + 120.0*t)/(t*sqrt((t + 10.0)**2)) - (9*t + 540.0)*(t**2 + 10.0*t)**2*((t + 10.0)**2)**(-1.5)/t**2)*(1.59558771633466e-6*t**2 - 3.98896929083665e-5*t - 1.59558771633466e-6*(12*t**2 + 290.0*t + 4550.0)*log(Abs(mu)) - (9.13258472191241e-7 + 1.59558771633466e-6*log(2))*(12*t**2 + 290.0*t + 4550.0) + 7.97793858167331e-7*EulerGamma*(12*t**2 + 290.0*t + 4550.0) - 0.00670146840860558))/((-t - 35.0)*sqrt(t**2 + 20.0*t + 100.0))\n",
      "==================================================\n",
      "t*(6.103515625e-5*(-4*t**2 + 3070.0*t + 45550.0)*((4*t + 240.0)/sqrt((t + 10.0)**2) - (6 - 2*(t + 60.0)**2/(t + 10.0)**2 - 2*(4*t + 240.0)*(t**2 + 10.0*t)/(t*(t + 10.0)**2) + 4*(t**2 + 10.0*t)**2*(150.0*t + (t + 10.0)**2 + 5250.0)/(t**2*(t + 10.0)**4))*log(Abs((t - sqrt((t + 10.0)**2) + 60.0)/(t + sqrt((t + 10.0)**2) + 60.0))) + (16*t**2 + 160.0*t)/(t*sqrt((t + 10.0)**2)) - (12*t + 720.0)*(t**2 + 10.0*t)**2*((t + 10.0)**2)**(-1.5)/t**2)*log(Abs(B))/pi**5 - 6.103515625e-5*(-4*t**2 + 3070.0*t + 45550.0)*((12*t + 720.0)/sqrt((t + 10.0)**2) - (-4*PolyLOG(2, (t - sqrt((t + 10.0)**2) + 60.0)/(t + sqrt((t + 10.0)**2) + 60.0)) + log(Abs((t - sqrt((t + 10.0)**2) + 60.0)/(t + sqrt((t + 10.0)**2) + 60.0)))*log(0.0625*Abs((t - sqrt((t + 10.0)**2) + 60.0)*(t + sqrt((t + 10.0)**2) + 60.0)**3/(t + 10.0)**4)) + 0.666666666666667*pi**2)*(-3 + (t + 60.0)**2/(t + 10.0)**2 + (4*t + 240.0)*(t**2 + 10.0*t)/(t*(t + 10.0)**2) - 2*(t**2 + 10.0*t)**2*(150.0*t + (t + 10.0)**2 + 5250.0)/(t**2*(t + 10.0)**4)) + (32*t**2 + 320.0*t)/(t*sqrt((t + 10.0)**2)) - (28*t + 1680.0)*(t**2 + 10.0*t)**2*((t + 10.0)**2)**(-1.5)/t**2)/pi**5 + ((4*t + 240.0)/sqrt((t + 10.0)**2) - (6 - 2*(t + 60.0)**2/(t + 10.0)**2 - 2*(4*t + 240.0)*(t**2 + 10.0*t)/(t*(t + 10.0)**2) + 4*(t**2 + 10.0*t)**2*(150.0*t + (t + 10.0)**2 + 5250.0)/(t**2*(t + 10.0)**4))*log(Abs((t - sqrt((t + 10.0)**2) + 60.0)/(t + sqrt((t + 10.0)**2) + 60.0))) + (16*t**2 + 160.0*t)/(t*sqrt((t + 10.0)**2)) - (12*t + 720.0)*(t**2 + 10.0*t)**2*((t + 10.0)**2)**(-1.5)/t**2)*(-0.0001220703125*(-4*t**2 + 3070.0*t + 45550.0)*log(Abs(mu))/pi**5 - (6.103515625e-5*log(pi)/pi**5 + 0.0001220703125*log(2)/pi**5)*(-4*t**2 + 3070.0*t + 45550.0) - 6.103515625e-5*(-4*t**2 + 3070.0*t + 45550.0)/pi**5 + 6.103515625e-5*EulerGamma*(-4*t**2 + 3070.0*t + 45550.0)/pi**5 + 6.103515625e-5*(26*t**2 + 2700.0*t - 33550.0)/pi**5))/((-3.0*t - 105.0)*sqrt(t**2 + 20.0*t + 100.0))\n",
      "::::::::::::::::::::::::::::::::::::::::::::::::::\n",
      "t*(1.99448464541833e-7*(-4*t**2 + 3070.0*t + 45550.0)*((4*t + 240.0)/sqrt((t + 10.0)**2) - (6 - 2*(t + 60.0)**2/(t + 10.0)**2 - 2*(4*t + 240.0)*(t**2 + 10.0*t)/(t*(t + 10.0)**2) + 4*(t**2 + 10.0*t)**2*(150.0*t + (t + 10.0)**2 + 5250.0)/(t**2*(t + 10.0)**4))*log(Abs((t - sqrt((t + 10.0)**2) + 60.0)/(t + sqrt((t + 10.0)**2) + 60.0))) + (16*t**2 + 160.0*t)/(t*sqrt((t + 10.0)**2)) - (12*t + 720.0)*(t**2 + 10.0*t)**2*((t + 10.0)**2)**(-1.5)/t**2)*log(Abs(B)) - 1.99448464541833e-7*(-4*t**2 + 3070.0*t + 45550.0)*((12*t + 720.0)/sqrt((t + 10.0)**2) - (-4*PolyLOG(2, (t - sqrt((t + 10.0)**2) + 60.0)/(t + sqrt((t + 10.0)**2) + 60.0)) + log(Abs((t - sqrt((t + 10.0)**2) + 60.0)/(t + sqrt((t + 10.0)**2) + 60.0)))*log(0.0625*Abs((t - sqrt((t + 10.0)**2) + 60.0)*(t + sqrt((t + 10.0)**2) + 60.0)**3/(t + 10.0)**4)) + 6.5797362673929)*(-3 + (t + 60.0)**2/(t + 10.0)**2 + (4*t + 240.0)*(t**2 + 10.0*t)/(t*(t + 10.0)**2) - 2*(t**2 + 10.0*t)**2*(150.0*t + (t + 10.0)**2 + 5250.0)/(t**2*(t + 10.0)**4)) + (32*t**2 + 320.0*t)/(t*sqrt((t + 10.0)**2)) - (28*t + 1680.0)*(t**2 + 10.0*t)**2*((t + 10.0)**2)**(-1.5)/t**2) + ((4*t + 240.0)/sqrt((t + 10.0)**2) - (6 - 2*(t + 60.0)**2/(t + 10.0)**2 - 2*(4*t + 240.0)*(t**2 + 10.0*t)/(t*(t + 10.0)**2) + 4*(t**2 + 10.0*t)**2*(150.0*t + (t + 10.0)**2 + 5250.0)/(t**2*(t + 10.0)**4))*log(Abs((t - sqrt((t + 10.0)**2) + 60.0)/(t + sqrt((t + 10.0)**2) + 60.0))) + (16*t**2 + 160.0*t)/(t*sqrt((t + 10.0)**2)) - (12*t + 720.0)*(t**2 + 10.0*t)**2*((t + 10.0)**2)**(-1.5)/t**2)*(5.98345393625498e-6*t**2 - 7.37959318804781e-5*t - 3.98896929083665e-7*(-4*t**2 + 3070.0*t + 45550.0)*log(Abs(mu)) - (2.2831461804781e-7 + 3.98896929083665e-7*log(2))*(-4*t**2 + 3070.0*t + 45550.0) + 1.99448464541833e-7*EulerGamma*(-4*t**2 + 3070.0*t + 45550.0) - 0.015776373545259))/((-3.0*t - 105.0)*sqrt(t**2 + 20.0*t + 100.0))\n",
      "==================================================\n",
      "0.0260416666666667*(2*nf - 33)*(-EulerGamma + 1 + log(4*pi))/pi**5\n",
      "::::::::::::::::::::::::::::::::::::::::::::::::::\n",
      "8.50980115378486e-5*(-EulerGamma + 3.53102424696929)*(2*nf - 33)\n",
      "==================================================\n",
      "0.0208333333333333*(20.0*log(0.1*Abs(B)) + 15.0)*(-EulerGamma + 1 + log(4*pi))/pi**5\n",
      "::::::::::::::::::::::::::::::::::::::::::::::::::\n",
      "6.80784092302789e-5*(-EulerGamma + 3.53102424696929)*(20.0*log(0.1*Abs(B)) + 15.0)\n",
      "==================================================\n",
      "-0.0260416666666667*(-2*nf + 36*log(Abs(B/t)) + 33)*(-log(4*pi) - 1 + EulerGamma)/pi**5\n",
      "::::::::::::::::::::::::::::::::::::::::::::::::::\n",
      "-8.50980115378486e-5*(-3.53102424696929 + EulerGamma)*(-2*nf + 36*log(Abs(B/t)) + 33)\n",
      "==================================================\n",
      "120.0*EulerGamma*(-0.0078125*log(Abs(mu))/pi**5 - 0.0078125*log(2)/pi**5 - 0.00390625*log(pi)/pi**5 - 0.00390625/pi**5)\n",
      "::::::::::::::::::::::::::::::::::::::::::::::::::\n",
      "120.0*EulerGamma*(-2.55294034613546e-5*log(Abs(mu)) - 2.73768372857371e-5 - 2.55294034613546e-5*log(2))\n",
      "==================================================\n",
      "-10.0*(-0.046875*log(Abs(mu))/pi**5 - 0.046875*log(2)/pi**5 - 0.0234375*log(pi)/pi**5 - 0.0234375/pi**5 + 0.0234375*EulerGamma/pi**5)*log(25.0*Abs(1/(t + 35.0)))\n",
      "::::::::::::::::::::::::::::::::::::::::::::::::::\n",
      "-10.0*(-0.000153176420768127*log(Abs(mu)) - 0.000164261023714423 - 0.000153176420768127*log(2) + 7.65882103840637e-5*EulerGamma)*log(25.0*Abs(1/(t + 35.0)))\n",
      "==================================================\n",
      "-60.0*EulerGamma*(-0.0078125*log(Abs(mu))/pi**5 - 0.0078125*log(2)/pi**5 - 0.00390625*log(pi)/pi**5 - 0.00390625/pi**5 + 0.0078125*EulerGamma/pi**5)\n",
      "::::::::::::::::::::::::::::::::::::::::::::::::::\n",
      "-60.0*EulerGamma*(-2.55294034613546e-5*log(Abs(mu)) - 2.73768372857371e-5 - 2.55294034613546e-5*log(2) + 2.55294034613546e-5*EulerGamma)\n",
      "==================================================\n",
      "10.0*(-0.046875*log(Abs(mu))/pi**5 - 0.0234375*log(25.0*Abs(1/(t + 35.0)))/pi**5 - 0.046875*log(2)/pi**5 - 0.0234375*log(pi)/pi**5 - 0.0234375/pi**5 + 0.0234375*EulerGamma/pi**5)*log(Abs(B))\n",
      "::::::::::::::::::::::::::::::::::::::::::::::::::\n",
      "10.0*(-0.000153176420768127*log(Abs(mu)) - 7.65882103840637e-5*log(25.0*Abs(1/(t + 35.0))) - 0.000164261023714423 - 0.000153176420768127*log(2) + 7.65882103840637e-5*EulerGamma)*log(Abs(B))\n",
      "==================================================\n",
      "0.0390625*(-12*PolyLOG(2, 2*(t + 35.0)/(t + sqrt((t + 10.0)**2) + 60.0)) + 12*PolyLOG(2, -(t*(t + sqrt((t + 10.0)**2)) + 10.0*t)/(t*(t - sqrt((t + 10.0)**2) + 60.0))) - 12*log(0.5*Abs((t - sqrt((t + 10.0)**2) + 60.0)/(t + 35.0)))*log(2*Abs((t + 35.0)/sqrt((t + 10.0)**2))) - 12*log(2*Abs((t + 35.0)/(t + sqrt((t + 10.0)**2) + 60.0)))*log(Abs(1 + (-t**2 - 10.0*t)/(t*sqrt((t + 10.0)**2)))) + 3*log(Abs((t - sqrt((t + 10.0)**2) + 60.0)/(t + sqrt((t + 10.0)**2) + 60.0)))*log(Abs((t - sqrt((t + 10.0)**2) + 60.0)*(t + sqrt((t + 10.0)**2) + 60.0)**3/(t + 10.0)**4)) + 2*pi**2)/pi**5\n",
      "::::::::::::::::::::::::::::::::::::::::::::::::::\n",
      "-0.00153176420768127*PolyLOG(2, 2*(t + 35.0)/(t + sqrt((t + 10.0)**2) + 60.0)) + 0.00153176420768127*PolyLOG(2, -(t*(t + sqrt((t + 10.0)**2)) + 10.0*t)/(t*(t - sqrt((t + 10.0)**2) + 60.0))) - 0.00153176420768127*log(0.5*Abs((t - sqrt((t + 10.0)**2) + 60.0)/(t + 35.0)))*log(2*Abs((t + 35.0)/sqrt((t + 10.0)**2))) - 0.00153176420768127*log(2*Abs((t + 35.0)/(t + sqrt((t + 10.0)**2) + 60.0)))*log(Abs(1 + (-t**2 - 10.0*t)/(t*sqrt((t + 10.0)**2)))) + 0.000382941051920319*log(Abs((t - sqrt((t + 10.0)**2) + 60.0)/(t + sqrt((t + 10.0)**2) + 60.0)))*log(Abs((t - sqrt((t + 10.0)**2) + 60.0)*(t + sqrt((t + 10.0)**2) + 60.0)**3/(t + 10.0)**4)) + 0.00251965112759371\n",
      "==================================================\n",
      "-0.1171875*(-4*PolyLOG(2, 1) - 8*log(Abs(B))**2 + 16*log(Abs(B))*log(Abs(mu)) - 8*log(Abs(B))*log(0.1*Abs((t + 35.0)/t)) - 8*EulerGamma*log(Abs(B)) + 8*log(Abs(B)) + 8*log(pi)*log(Abs(B)) + 16*log(2)*log(Abs(B)) - 8*log(Abs(mu))**2 + 8*log(Abs(mu))*log(0.1*Abs((t + 35.0)/t)) - 16*log(2)*log(Abs(mu)) - 8*log(pi)*log(Abs(mu)) - 8*log(Abs(mu)) + 8*EulerGamma*log(Abs(mu)) - 2*log(0.1*Abs((t + 35.0)/t))**2 - 4*EulerGamma*log(0.1*Abs((t + 35.0)/t)) + 4*log(0.1*Abs((t + 35.0)/t)) + 4*log(pi)*log(0.1*Abs((t + 35.0)/t)) + 8*log(2)*log(0.1*Abs((t + 35.0)/t)) - 8*log(2)*log(pi) - 8*log(2) - 4*log(pi) - 4 - 8*log(2)**2 - 2*log(pi)**2 - 2*EulerGamma**2 + 4*EulerGamma + 4*EulerGamma*log(pi) + 8*EulerGamma*log(2) + pi**2)/pi**5\n",
      "::::::::::::::::::::::::::::::::::::::::::::::::::\n",
      "0.00153176420768127*PolyLOG(2, 1) + 0.00306352841536255*log(Abs(B))**2 - 0.0061270568307251*log(Abs(B))*log(Abs(mu)) + 0.00306352841536255*log(Abs(B))*log(0.1*Abs((t + 35.0)/t)) - 0.00657044094857691*log(Abs(B)) - 0.0061270568307251*log(2)*log(Abs(B)) + 0.00306352841536255*EulerGamma*log(Abs(B)) + 0.00306352841536255*log(Abs(mu))**2 - 0.00306352841536255*log(Abs(mu))*log(0.1*Abs((t + 35.0)/t)) - 0.00306352841536255*EulerGamma*log(Abs(mu)) + 0.0061270568307251*log(2)*log(Abs(mu)) + 0.00657044094857691*log(Abs(mu)) + 0.000765882103840637*log(0.1*Abs((t + 35.0)/t))**2 - 0.00328522047428846*log(0.1*Abs((t + 35.0)/t)) - 0.00306352841536255*log(2)*log(0.1*Abs((t + 35.0)/t)) + 0.00153176420768127*EulerGamma*log(0.1*Abs((t + 35.0)/t)) - 0.00328522047428846*EulerGamma - 0.00306352841536255*EulerGamma*log(2) + 0.000765882103840637*EulerGamma**2 + 0.000509360678855469 + 0.00306352841536255*log(2)**2 + 0.00657044094857691*log(2)\n",
      "==================================================\n",
      "0.1171875*log(Abs(B))**2/pi**5\n",
      "::::::::::::::::::::::::::::::::::::::::::::::::::\n",
      "0.000382941051920319*log(Abs(B))**2\n",
      "==================================================\n",
      "0.46875*log(Abs(mu))**2/pi**5\n",
      "::::::::::::::::::::::::::::::::::::::::::::::::::\n",
      "0.00153176420768127*log(Abs(mu))**2\n",
      "==================================================\n",
      "-120.0*(-0.0078125*log(2)/pi**5 - 0.00390625*log(pi)/pi**5 - 0.00390625/pi**5)*log(Abs(mu))\n",
      "::::::::::::::::::::::::::::::::::::::::::::::::::\n",
      "-120.0*(-2.73768372857371e-5 - 2.55294034613546e-5*log(2))*log(Abs(mu))\n",
      "==================================================\n",
      "0.0260416666666667*log(0.1*Abs(mu**2))**2/pi**5\n",
      "::::::::::::::::::::::::::::::::::::::::::::::::::\n",
      "8.50980115378486e-5*log(0.1*Abs(mu**2))**2\n",
      "==================================================\n",
      "-0.0520833333333333*(-log(4*pi) - 2 + EulerGamma)*log(0.1*Abs(mu**2))/pi**5\n",
      "::::::::::::::::::::::::::::::::::::::::::::::::::\n",
      "-0.000170196023075697*(-4.53102424696929 + EulerGamma)*log(0.1*Abs(mu**2))\n",
      "==================================================\n",
      "-0.0130208333333333*log(10.0*Abs(1/t))**2/pi**5\n",
      "::::::::::::::::::::::::::::::::::::::::::::::::::\n",
      "-4.25490057689243e-5*log(10.0*Abs(1/t))**2\n",
      "==================================================\n",
      "-0.234375*log(Abs(mu**2/t))**2/pi**5\n",
      "::::::::::::::::::::::::::::::::::::::::::::::::::\n",
      "-0.000765882103840637*log(Abs(mu**2/t))**2\n",
      "==================================================\n",
      "-0.234375*log(Abs(mu**2/(t + 35.0)))**2/pi**5\n",
      "::::::::::::::::::::::::::::::::::::::::::::::::::\n",
      "-0.000765882103840637*log(Abs(mu**2/(t + 35.0)))**2\n",
      "==================================================\n",
      "0.234375*log(Abs(t/(t + 35.0)))**2/pi**5\n",
      "::::::::::::::::::::::::::::::::::::::::::::::::::\n",
      "0.000765882103840637*log(Abs(t/(t + 35.0)))**2\n",
      "==================================================\n",
      "-0.0130208333333333*log(10.0*Abs(1/(t + 35.0)))**2/pi**5\n",
      "::::::::::::::::::::::::::::::::::::::::::::::::::\n",
      "-4.25490057689243e-5*log(10.0*Abs(1/(t + 35.0)))**2\n",
      "==================================================\n",
      "0.234375*(-0.333333333333333*pi**2 + 2*EulerGamma**2)/pi**5\n",
      "::::::::::::::::::::::::::::::::::::::::::::::::::\n",
      "-0.00251965112759371 + 0.00153176420768127*EulerGamma**2\n",
      "==================================================\n",
      "0.1171875*log(pi)**2/pi**5\n",
      "::::::::::::::::::::::::::::::::::::::::::::::::::\n",
      "0.000501808447978789\n",
      "==================================================\n",
      "0.46875*log(2)**2/pi**5\n",
      "::::::::::::::::::::::::::::::::::::::::::::::::::\n",
      "0.00153176420768127*log(2)**2\n",
      "==================================================\n",
      "0.1171875*(EulerGamma**2 + 0.166666666666667*pi**2)/pi**5\n",
      "::::::::::::::::::::::::::::::::::::::::::::::::::\n",
      "0.000382941051920319*EulerGamma**2 + 0.000629912781898428\n",
      "==================================================\n",
      "0.234375*log(pi)/pi**5\n",
      "::::::::::::::::::::::::::::::::::::::::::::::::::\n",
      "0.000876728133303591\n",
      "==================================================\n",
      "0.275245183730035/pi**5\n",
      "::::::::::::::::::::::::::::::::::::::::::::::::::\n",
      "0.000899436204318556\n",
      "==================================================\n",
      "0.46875*log(2)/pi**5\n",
      "::::::::::::::::::::::::::::::::::::::::::::::::::\n",
      "0.00153176420768127*log(2)\n",
      "==================================================\n",
      "0.46875*log(2)*log(pi)/pi**5\n",
      "::::::::::::::::::::::::::::::::::::::::::::::::::\n",
      "0.00175345626660718*log(2)\n",
      "==================================================\n",
      "10.0*(0.0078125*t/pi**5 + 2*t*(0.00390625*log(pi)/pi**5 + 0.0078125*log(2)/pi**5) - 0.0078125*(t + 35.0)*PolyLOG(2, 0)/pi**5 - 0.00390625*(t + 35.0)*log(Abs(B))**2/pi**5 - 0.015625*(t + 35.0)*log(Abs(mu))**2/pi**5 - 0.0078125*(t + 35.0)/pi**5 - 0.00390625*(EulerGamma**2 + 0.166666666666667*pi**2)*(t + 35.0)/pi**5 - 0.0078125*(-0.333333333333333*pi**2 + 2*EulerGamma**2)*(t + 35.0)/pi**5 - (2*t + 70.0)*(0.001953125*log(pi)**2/pi**5 + 0.0078125*log(2)**2/pi**5 + 0.0078125*log(2)*log(pi)/pi**5) - (2*t + 70.0)*(0.00390625*log(pi)/pi**5 + 0.0078125*log(2)/pi**5) + 2*(0.0078125*t/pi**5 - 0.0078125*(t + 35.0)/pi**5 - (2*t + 70.0)*(0.00390625*log(pi)/pi**5 + 0.0078125*log(2)/pi**5))*log(Abs(mu)) - 2*EulerGamma*(0.0078125*t/pi**5 - 0.015625*(t + 35.0)*log(Abs(mu))/pi**5 - 0.0078125*(t + 35.0)/pi**5 - (2*t + 70.0)*(0.00390625*log(pi)/pi**5 + 0.0078125*log(2)/pi**5)) - (0.0078125*t/pi**5 - 0.015625*(t + 35.0)*log(Abs(mu))/pi**5 - 0.0078125*(t + 35.0)/pi**5 + 0.0078125*EulerGamma*(t + 35.0)/pi**5 - (2*t + 70.0)*(0.00390625*log(pi)/pi**5 + 0.0078125*log(2)/pi**5))*log(Abs(B)) + EulerGamma*(0.0078125*t/pi**5 - 0.015625*(t + 35.0)*log(Abs(mu))/pi**5 - 0.0078125*(t + 35.0)/pi**5 + 0.015625*EulerGamma*(t + 35.0)/pi**5 - (2*t + 70.0)*(0.00390625*log(pi)/pi**5 + 0.0078125*log(2)/pi**5)))/(3.0*t + 105.0)\n",
      "::::::::::::::::::::::::::::::::::::::::::::::::::\n",
      "10.0*(2*t*(1.46121355550599e-5 + 2.55294034613546e-5*log(2)) - 2.55294034613546e-5*(t + 35.0)*PolyLOG(2, 0) - 1.27647017306773e-5*(t + 35.0)*log(Abs(B))**2 - 5.10588069227092e-5*(t + 35.0)*log(Abs(mu))**2 - 1.27647017306773e-5*(EulerGamma**2 + 1.64493406684823)*(t + 35.0) - 2.55294034613546e-5*(-3.28986813369645 + 2*EulerGamma**2)*(t + 35.0) - (2*t + 70.0)*(8.36347413297981e-6 + 2.55294034613546e-5*log(2)**2 + 2.92242711101197e-5*log(2)) - (1.46121355550599e-5 + 2.55294034613546e-5*log(2))*(2*t + 70.0) + 2*(-(1.46121355550599e-5 + 2.55294034613546e-5*log(2))*(2*t + 70.0) - 0.00089352912114741)*log(Abs(mu)) - 2*EulerGamma*(-5.10588069227092e-5*(t + 35.0)*log(Abs(mu)) - (1.46121355550599e-5 + 2.55294034613546e-5*log(2))*(2*t + 70.0) - 0.00089352912114741) - (-5.10588069227092e-5*(t + 35.0)*log(Abs(mu)) + 2.55294034613546e-5*EulerGamma*(t + 35.0) - (1.46121355550599e-5 + 2.55294034613546e-5*log(2))*(2*t + 70.0) - 0.00089352912114741)*log(Abs(B)) + EulerGamma*(-5.10588069227092e-5*(t + 35.0)*log(Abs(mu)) + 5.10588069227092e-5*EulerGamma*(t + 35.0) - (1.46121355550599e-5 + 2.55294034613546e-5*log(2))*(2*t + 70.0) - 0.00089352912114741) - 0.00089352912114741)/(3.0*t + 105.0)\n",
      "==================================================\n",
      "0.0144675925925926*(6*log(Abs(B)) - 12*log(Abs(mu)) - 19 - 12*log(2) - 6*log(pi) + 6*EulerGamma)/(pi**5*(t + 35.0))\n",
      "::::::::::::::::::::::::::::::::::::::::::::::::::\n",
      "4.72766730765825e-5*(6*log(Abs(B)) - 12*log(Abs(mu)) - 25.8683793150964 - 12*log(2) + 6*EulerGamma)/(t + 35.0)\n",
      "==================================================\n",
      "-3.33333333333333*(0.0078125*t/pi**5 + 2*t*(0.00390625*log(pi)/pi**5 + 0.0078125*log(2)/pi**5) - 0.00390625*(t + 35.0)*log(Abs(B))**2/pi**5 - 0.015625*(t + 35.0)*log(Abs(mu))**2/pi**5 - 0.0078125*(t + 35.0)/pi**5 - 0.0078125*(-0.0833333333333333*pi**2 + 0.5*EulerGamma**2)*(t + 35.0)/pi**5 + 0.00130208333333333*(t + 35.0)/pi**3 - (2*t + 70.0)*(0.001953125*log(pi)**2/pi**5 + 0.0078125*log(2)**2/pi**5 + 0.0078125*log(2)*log(pi)/pi**5) - (2*t + 70.0)*(0.00390625*log(pi)/pi**5 + 0.0078125*log(2)/pi**5) + 2*(0.0078125*t/pi**5 - 0.0078125*(t + 35.0)/pi**5 - (2*t + 70.0)*(0.00390625*log(pi)/pi**5 + 0.0078125*log(2)/pi**5))*log(Abs(mu)) + EulerGamma*(-0.0078125*t/pi**5 + 0.015625*(t + 35.0)*log(Abs(mu))/pi**5 + 0.0078125*(t + 35.0)/pi**5 + (2*t + 70.0)*(0.00390625*log(pi)/pi**5 + 0.0078125*log(2)/pi**5)) + (-0.0078125*t/pi**5 + 0.015625*(t + 35.0)*log(Abs(mu))/pi**5 - 0.0078125*EulerGamma*(t + 35.0)/pi**5 + 0.0078125*(t + 35.0)/pi**5 + (2*t + 70.0)*(0.00390625*log(pi)/pi**5 + 0.0078125*log(2)/pi**5))*log(Abs(B)))/(t + 35.0)\n",
      "::::::::::::::::::::::::::::::::::::::::::::::::::\n",
      "-3.33333333333333*(4.19941854598952e-5*t + 2*t*(1.46121355550599e-5 + 2.55294034613546e-5*log(2)) - 1.27647017306773e-5*(t + 35.0)*log(Abs(B))**2 - 5.10588069227092e-5*(t + 35.0)*log(Abs(mu))**2 - 2.55294034613546e-5*(-0.822467033424113 + 0.5*EulerGamma**2)*(t + 35.0) - (2*t + 70.0)*(8.36347413297981e-6 + 2.55294034613546e-5*log(2)**2 + 2.92242711101197e-5*log(2)) - (1.46121355550599e-5 + 2.55294034613546e-5*log(2))*(2*t + 70.0) + 2*(-(1.46121355550599e-5 + 2.55294034613546e-5*log(2))*(2*t + 70.0) - 0.00089352912114741)*log(Abs(mu)) + EulerGamma*(5.10588069227092e-5*(t + 35.0)*log(Abs(mu)) + (1.46121355550599e-5 + 2.55294034613546e-5*log(2))*(2*t + 70.0) + 0.00089352912114741) + (5.10588069227092e-5*(t + 35.0)*log(Abs(mu)) - 2.55294034613546e-5*EulerGamma*(t + 35.0) + (1.46121355550599e-5 + 2.55294034613546e-5*log(2))*(2*t + 70.0) + 0.00089352912114741)*log(Abs(B)) + 0.000576267369948921)/(t + 35.0)\n",
      "==================================================\n",
      "-0.0260416666666667*(t*(t*(-18*EulerGamma + 31 + 18*log(4*pi)) + 40.0) + 1425.0*t - 25.0*t*(-36*log(4*pi) + 36*EulerGamma) - 11250.0*EulerGamma + 18250.0 + 11250.0*log(4*pi))*log(Abs(mu**2/t))/(pi**5*(t + 25.0)**2)\n",
      "::::::::::::::::::::::::::::::::::::::::::::::::::\n",
      "-8.50980115378486e-5*(t*(t*(-18*EulerGamma + 76.5584364454472) + 40.0) + 1425.0*t - 25.0*t*(-91.1168728908945 + 36*EulerGamma) - 11250.0*EulerGamma + 46724.0227784045)*log(Abs(mu**2/t))/(t + 25.0)**2\n",
      "==================================================\n",
      "0.00434027777777778*(102*t**2*PolyLOG(2, (t + 10.0)/(t + 35.0)) - 684*t**2 + t**2*(-348*log(4*pi) + 348*EulerGamma) - 102*t**2*(-log(4*pi) + EulerGamma)**2 + 29*pi**2*t**2 + 3570.0*t*PolyLOG(2, (t + 10.0)/(t + 35.0)) - 23940.0*t + 35.0*t*(-348*log(4*pi) + 348*EulerGamma) - 3570.0*t*(-log(4*pi) + EulerGamma)**2 + 1015.0*pi**2*t + (t + 10.0)*(12*t + 300.0)*PolyLOG(2, 0.285714285714286) + (t + 10.0)*(102*t + 2550.0)*PolyLOG(2, (t + 25.0)/t) + 25500.0*PolyLOG(2, (t + 10.0)/(t + 35.0)) - 87000.0*log(4*pi) - 174600.0 - 25500.0*(-log(4*pi) + EulerGamma)**2 + 87000.0*EulerGamma + 7250.0*pi**2)/(pi**5*(t + 10.0)*(t + 25.0))\n",
      "::::::::::::::::::::::::::::::::::::::::::::::::::\n",
      "1.41830019229748e-5*(102*t**2*PolyLOG(2, (t + 10.0)/(t + 35.0)) + t**2*(-880.796437945313 + 348*EulerGamma) - 397.781472368409*t**2 - 102*t**2*(-2.53102424696929 + EulerGamma)**2 + 3570.0*t*PolyLOG(2, (t + 10.0)/(t + 35.0)) + 35.0*t*(-880.796437945313 + 348*EulerGamma) - 13922.3515328943*t - 3570.0*t*(-2.53102424696929 + EulerGamma)**2 + (t + 10.0)*(12*t + 300.0)*PolyLOG(2, 0.285714285714286) + (t + 10.0)*(102*t + 2550.0)*PolyLOG(2, (t + 25.0)/t) + 25500.0*PolyLOG(2, (t + 10.0)/(t + 35.0)) - 323244.47757843 - 25500.0*(-2.53102424696929 + EulerGamma)**2 + 87000.0*EulerGamma)/((t + 10.0)*(t + 25.0))\n",
      "==================================================\n",
      "0.0260416666666667*(-125.0*t + (t + 10.0)*(t*(-18*log(4*pi) - 31 + 18*EulerGamma) - 180.0*log(4*pi) - 270.0 + 180.0*EulerGamma) - 2250.0)*log(Abs(mu**2/(t + 35.0)))/(pi**5*(t + 10.0)**2)\n",
      "::::::::::::::::::::::::::::::::::::::::::::::::::\n",
      "8.50980115378486e-5*(-125.0*t + (t + 10.0)*(t*(-76.5584364454472 + 18*EulerGamma) - 725.584364454472 + 180.0*EulerGamma) - 2250.0)*log(Abs(mu**2/(t + 35.0)))/(t + 10.0)**2\n",
      "==================================================\n",
      "0.0260416666666667*(2875.0*t**2 + 400.0*t*(t + 10.0) + 110625.0*t + 1043750.0)*log(0.04*Abs(mu**2))/(pi**5*(t + 10.0)**2*(t + 25.0)**2)\n",
      "::::::::::::::::::::::::::::::::::::::::::::::::::\n",
      "8.50980115378486e-5*(2875.0*t**2 + 400.0*t*(t + 10.0) + 110625.0*t + 1043750.0)*log(0.04*Abs(mu**2))/((t + 10.0)**2*(t + 25.0)**2)\n",
      "==================================================\n",
      "0.00146484375*(t + 35.0)*(5*t + 145.0)*(-2*log(Abs(B))**2 + 8*log(Abs(B))*log(Abs(mu)) - 4*EulerGamma*log(Abs(B)) + 4*log(Abs(B)) + 4*log(pi)*log(Abs(B)) + 8*log(2)*log(Abs(B)) - 8*log(Abs(mu))**2 - 16*log(2)*log(Abs(mu)) - 8*log(pi)*log(Abs(mu)) - 8*log(Abs(mu)) + 8*EulerGamma*log(Abs(mu)) - 8*log(2)*log(pi) - 8*log(2) - 4*log(pi) - 4 - 8*log(2)**2 - 2*log(pi)**2 - 2*EulerGamma**2 + 4*EulerGamma + 4*EulerGamma*log(pi) + 8*EulerGamma*log(2) + pi**2)/(pi**5*(-t - 35.0))\n",
      "::::::::::::::::::::::::::::::::::::::::::::::::::\n",
      "4.78676314900398e-6*(t + 35.0)*(5*t + 145.0)*(-2*log(Abs(B))**2 + 8*log(Abs(B))*log(Abs(mu)) - 4*EulerGamma*log(Abs(B)) + 8*log(2)*log(Abs(B)) + 8.5789195433976*log(Abs(B)) - 8*log(Abs(mu))**2 - 17.1578390867952*log(Abs(mu)) - 16*log(2)*log(Abs(mu)) + 8*EulerGamma*log(Abs(mu)) - 17.1578390867952*log(2) - 8*log(2)**2 - 1.3301281654218 - 2*EulerGamma**2 + 8*EulerGamma*log(2) + 8.5789195433976*EulerGamma)/(-t - 35.0)\n",
      "==================================================\n",
      "-(-0.000244140625*((-12*t**2 - 120.0*t)/(t*sqrt((t + 10.0)**2)) - (300.0*t**2 + 12*t*(t + 10.0)**2 + 3000.0*t)*log(Abs((t - sqrt((t + 10.0)**2) + 60.0)/(t + sqrt((t + 10.0)**2) + 60.0)))/(t*(t + 10.0)**2))*(14*t**3 + 630.0*t**2 + 11200.0*t + 73500.0)*log(Abs(B))/pi**5 - ((-12*t**2 - 120.0*t)/(t*sqrt((t + 10.0)**2)) - (300.0*t**2 + 12*t*(t + 10.0)**2 + 3000.0*t)*log(Abs((t - sqrt((t + 10.0)**2) + 60.0)/(t + sqrt((t + 10.0)**2) + 60.0)))/(t*(t + 10.0)**2))*(-0.00048828125*(14*t**3 + 630.0*t**2 + 11200.0*t + 73500.0)*log(Abs(mu))/pi**5 - (0.000244140625*log(pi)/pi**5 + 0.00048828125*log(2)/pi**5)*(14*t**3 + 630.0*t**2 + 11200.0*t + 73500.0) - 0.000244140625*(14*t**3 + 630.0*t**2 + 11200.0*t + 73500.0)/pi**5 + 0.000244140625*EulerGamma*(14*t**3 + 630.0*t**2 + 11200.0*t + 73500.0)/pi**5 + 0.000244140625*(18*t**3 + 660.0*t**2 - 3850.0*t - 171500.0)/pi**5) + 0.000244140625*(2*pi**2 + (2*t**2 + 20.0*t)*(pi**2*(t + 60.0) - 12*sqrt((t + 10.0)**2))/(t*(t + 10.0)**2) + (150.0*t**2 + 6*t*(t + 10.0)**2 + 1500.0*t)*log(Abs((t - sqrt((t + 10.0)**2) + 60.0)/(t + sqrt((t + 10.0)**2) + 60.0)))*log(0.0625*Abs((t - sqrt((t + 10.0)**2) + 60.0)*(t + sqrt((t + 10.0)**2) + 60.0)**3/(t + 10.0)**4))/(t*(t + 10.0)**2) - (600.0*t**2 + 24*t*(t + 10.0)**2 + 6000.0*t)*PolyLOG(2, (t - sqrt((t + 10.0)**2) + 60.0)/(t + sqrt((t + 10.0)**2) + 60.0))/(t*(t + 10.0)**2))*(14*t**3 + 630.0*t**2 + 11200.0*t + 73500.0)/pi**5)/((-t - 35.0)*sqrt(t**2 + 20.0*t + 100.0))\n",
      "::::::::::::::::::::::::::::::::::::::::::::::::::\n",
      "-(-7.97793858167331e-7*((-12*t**2 - 120.0*t)/(t*sqrt((t + 10.0)**2)) - (300.0*t**2 + 12*t*(t + 10.0)**2 + 3000.0*t)*log(Abs((t - sqrt((t + 10.0)**2) + 60.0)/(t + sqrt((t + 10.0)**2) + 60.0)))/(t*(t + 10.0)**2))*(14*t**3 + 630.0*t**2 + 11200.0*t + 73500.0)*log(Abs(B)) - ((-12*t**2 - 120.0*t)/(t*sqrt((t + 10.0)**2)) - (300.0*t**2 + 12*t*(t + 10.0)**2 + 3000.0*t)*log(Abs((t - sqrt((t + 10.0)**2) + 60.0)/(t + sqrt((t + 10.0)**2) + 60.0)))/(t*(t + 10.0)**2))*(3.19117543266932e-6*t**3 + 2.393381574502e-5*t**2 - 0.0120067975654183*t - 1.59558771633466e-6*(14*t**3 + 630.0*t**2 + 11200.0*t + 73500.0)*log(Abs(mu)) - (9.13258472191241e-7 + 1.59558771633466e-6*log(2))*(14*t**3 + 630.0*t**2 + 11200.0*t + 73500.0) + 7.97793858167331e-7*EulerGamma*(14*t**3 + 630.0*t**2 + 11200.0*t + 73500.0) - 0.195459495250996) + 7.97793858167331e-7*(19.7392088021787 + (2*t**2 + 20.0*t)*(9.86960440108936*t - 12*sqrt((t + 10.0)**2) + 592.176264065361)/(t*(t + 10.0)**2) + (150.0*t**2 + 6*t*(t + 10.0)**2 + 1500.0*t)*log(Abs((t - sqrt((t + 10.0)**2) + 60.0)/(t + sqrt((t + 10.0)**2) + 60.0)))*log(0.0625*Abs((t - sqrt((t + 10.0)**2) + 60.0)*(t + sqrt((t + 10.0)**2) + 60.0)**3/(t + 10.0)**4))/(t*(t + 10.0)**2) - (600.0*t**2 + 24*t*(t + 10.0)**2 + 6000.0*t)*PolyLOG(2, (t - sqrt((t + 10.0)**2) + 60.0)/(t + sqrt((t + 10.0)**2) + 60.0))/(t*(t + 10.0)**2))*(14*t**3 + 630.0*t**2 + 11200.0*t + 73500.0))/((-t - 35.0)*sqrt(t**2 + 20.0*t + 100.0))\n",
      "==================================================\n",
      "((-6*t**2 - 510.0*t)*(0.0009765625*log(pi)/pi**5 + 0.001953125*log(2)/pi**5) + 0.001953125*(-5*t**2 - 500.0*t)/pi**5 - 0.001953125*(-3*t**2 - 255.0*t)*log(Abs(B))/pi**5 + 0.00390625*(-3*t**2 - 255.0*t)*log(Abs(mu))/pi**5 - 0.001953125*EulerGamma*(-3*t**2 - 255.0*t)/pi**5)/(-3.0*t - 105.0)\n",
      "::::::::::::::::::::::::::::::::::::::::::::::::::\n",
      "(-3.19117543266932e-5*t**2 - 0.00319117543266932*t + (3.65303388876496e-6 + 6.38235086533864e-6*log(2))*(-6*t**2 - 510.0*t) - 6.38235086533864e-6*(-3*t**2 - 255.0*t)*log(Abs(B)) + 1.27647017306773e-5*(-3*t**2 - 255.0*t)*log(Abs(mu)) - 6.38235086533864e-6*EulerGamma*(-3*t**2 - 255.0*t))/(-3.0*t - 105.0)\n",
      "==================================================\n",
      "-(0.00048828125*(176*t**2 + 3640.0*t)/pi**5 - 0.00048828125*(-208*t**2 - 3500.0*t - 40600.0)*log(Abs(B))/pi**5 + 0.0009765625*(-208*t**2 - 3500.0*t - 40600.0)*log(Abs(mu))/pi**5 - 0.00048828125*EulerGamma*(-208*t**2 - 3500.0*t - 40600.0)/pi**5 + 0.5*(0.0009765625*log(pi)/pi**5 + 0.001953125*log(2)/pi**5)*(-208*t**2 - 3500.0*t - 40600.0) + 0.00146484375*(-208*t**2 - 3500.0*t - 40600.0)/pi**5)/(-3.0*t - 105.0)\n",
      "::::::::::::::::::::::::::::::::::::::::::::::::::\n",
      "-(-0.000714823296917928*t**2 - 0.0109457317340558*t - 1.59558771633466e-6*(-208*t**2 - 3500.0*t - 40600.0)*log(Abs(B)) + 3.19117543266932e-6*(-208*t**2 - 3500.0*t - 40600.0)*log(Abs(mu)) - 1.59558771633466e-6*EulerGamma*(-208*t**2 - 3500.0*t - 40600.0) + 0.5*(3.65303388876496e-6 + 6.38235086533864e-6*log(2))*(-208*t**2 - 3500.0*t - 40600.0) - 0.194342583849562)/(-3.0*t - 105.0)\n",
      "==================================================\n",
      "-(0.00048828125*(-26*t**2 + 3260.0*t + 92050.0)*log(Abs(B))/pi**5 - 0.0009765625*(-26*t**2 + 3260.0*t + 92050.0)*log(Abs(mu))/pi**5 - 0.5*(0.0009765625*log(pi)/pi**5 + 0.001953125*log(2)/pi**5)*(-26*t**2 + 3260.0*t + 92050.0) - 0.00048828125*(-26*t**2 + 3260.0*t + 92050.0)/pi**5 + 0.00048828125*EulerGamma*(-26*t**2 + 3260.0*t + 92050.0)/pi**5 + 0.0009765625*(26*t**2 - 3260.0*t - 92050.0)/pi**5 + 0.00048828125*(44*t**2 + 5430.0*t + 2450.0)/pi**5)/(-3.0*t - 105.0)\n",
      "::::::::::::::::::::::::::::::::::::::::::::::::::\n",
      "-(0.000194661701392829*t**2 - 0.00694080656605578*t + 1.59558771633466e-6*(-26*t**2 + 3260.0*t + 92050.0)*log(Abs(B)) - 3.19117543266932e-6*(-26*t**2 + 3260.0*t + 92050.0)*log(Abs(mu)) - 0.5*(3.65303388876496e-6 + 6.38235086533864e-6*log(2))*(-26*t**2 + 3260.0*t + 92050.0) + 1.59558771633466e-6*EulerGamma*(-26*t**2 + 3260.0*t + 92050.0) - 0.436712357960797)/(-3.0*t - 105.0)\n",
      "==================================================\n",
      "-(-0.000244140625*((12*t**2 + 120.0*t)/(t*sqrt((t + 10.0)**2)) + 300.0*(t**2 + 10.0*t)*log(Abs((t - sqrt((t + 10.0)**2) + 60.0)/(t + sqrt((t + 10.0)**2) + 60.0)))/(t*(t + 10.0)**2))*(14*t**3 + 430.0*t**2 + 39200.0*t + 822500.0)*log(Abs(B))/pi**5 - ((12*t**2 + 120.0*t)/(t*sqrt((t + 10.0)**2)) + 300.0*(t**2 + 10.0*t)*log(Abs((t - sqrt((t + 10.0)**2) + 60.0)/(t + sqrt((t + 10.0)**2) + 60.0)))/(t*(t + 10.0)**2))*(-0.00048828125*(14*t**3 + 430.0*t**2 + 39200.0*t + 822500.0)*log(Abs(mu))/pi**5 - (0.000244140625*log(pi)/pi**5 + 0.00048828125*log(2)/pi**5)*(14*t**3 + 430.0*t**2 + 39200.0*t + 822500.0) - 0.000244140625*(14*t**3 + 430.0*t**2 + 39200.0*t + 822500.0)/pi**5 + 0.000244140625*EulerGamma*(14*t**3 + 430.0*t**2 + 39200.0*t + 822500.0)/pi**5 + 0.000244140625*(14*t**3 + 1520.0*t**2 + 47150.0*t - 1715000.0)/pi**5) + 0.000244140625*(2*pi**2 + 600.0*(t**2 + 10.0*t)*PolyLOG(2, (t - sqrt((t + 10.0)**2) + 60.0)/(t + sqrt((t + 10.0)**2) + 60.0))/(t*(t + 10.0)**2) - 150.0*(t**2 + 10.0*t)*log(Abs((t - sqrt((t + 10.0)**2) + 60.0)/(t + sqrt((t + 10.0)**2) + 60.0)))*log(0.0625*Abs((t - sqrt((t + 10.0)**2) + 60.0)*(t + sqrt((t + 10.0)**2) + 60.0)**3/(t + 10.0)**4))/(t*(t + 10.0)**2) - (2*t**2 + 20.0*t)*(pi**2*(t + 60.0) - 12*sqrt((t + 10.0)**2))/(t*(t + 10.0)**2))*(14*t**3 + 430.0*t**2 + 39200.0*t + 822500.0)/pi**5)/((-9.0*t - 315.0)*sqrt(t**2 + 20.0*t + 100.0))\n",
      "::::::::::::::::::::::::::::::::::::::::::::::::::\n",
      "-(-7.97793858167331e-7*((12*t**2 + 120.0*t)/(t*sqrt((t + 10.0)**2)) + 300.0*(t**2 + 10.0*t)*log(Abs((t - sqrt((t + 10.0)**2) + 60.0)/(t + sqrt((t + 10.0)**2) + 60.0)))/(t*(t + 10.0)**2))*(14*t**3 + 430.0*t**2 + 39200.0*t + 822500.0)*log(Abs(B)) - ((12*t**2 + 120.0*t)/(t*sqrt((t + 10.0)**2)) + 300.0*(t**2 + 10.0*t)*log(Abs((t - sqrt((t + 10.0)**2) + 60.0)/(t + sqrt((t + 10.0)**2) + 60.0)))/(t*(t + 10.0)**2))*(0.00086959530540239*t**2 + 0.00634246117243028*t - 1.59558771633466e-6*(14*t**3 + 430.0*t**2 + 39200.0*t + 822500.0)*log(Abs(mu)) - (9.13258472191241e-7 + 1.59558771633466e-6*log(2))*(14*t**3 + 430.0*t**2 + 39200.0*t + 822500.0) + 7.97793858167331e-7*EulerGamma*(14*t**3 + 430.0*t**2 + 39200.0*t + 822500.0) - 2.0244019150996) + 7.97793858167331e-7*(19.7392088021787 + 600.0*(t**2 + 10.0*t)*PolyLOG(2, (t - sqrt((t + 10.0)**2) + 60.0)/(t + sqrt((t + 10.0)**2) + 60.0))/(t*(t + 10.0)**2) - 150.0*(t**2 + 10.0*t)*log(Abs((t - sqrt((t + 10.0)**2) + 60.0)/(t + sqrt((t + 10.0)**2) + 60.0)))*log(0.0625*Abs((t - sqrt((t + 10.0)**2) + 60.0)*(t + sqrt((t + 10.0)**2) + 60.0)**3/(t + 10.0)**4))/(t*(t + 10.0)**2) - (2*t**2 + 20.0*t)*(9.86960440108936*t - 12*sqrt((t + 10.0)**2) + 592.176264065361)/(t*(t + 10.0)**2))*(14*t**3 + 430.0*t**2 + 39200.0*t + 822500.0))/((-9.0*t - 315.0)*sqrt(t**2 + 20.0*t + 100.0))\n",
      "==================================================\n",
      "(-0.005859375*EulerGamma*(10.0*t + 850.0)/pi**5 - 0.001953125*(30.0*t + 2550.0)*log(Abs(B))/pi**5 + 0.00390625*(30.0*t + 2550.0)*log(Abs(mu))/pi**5 - (30.0*t + 2550.0)*(-0.00390625*log(2)/pi**5 - 0.001953125*log(pi)/pi**5 - 0.001953125/pi**5) + 0.001953125*(50.0*t + 5000.0)/pi**5)/(-27.0*t - 945.0)\n",
      "::::::::::::::::::::::::::::::::::::::::::::::::::\n",
      "(0.000319117543266932*t - 1.91470525960159e-5*EulerGamma*(10.0*t + 850.0) - 6.38235086533864e-6*(30.0*t + 2550.0)*log(Abs(B)) + 1.27647017306773e-5*(30.0*t + 2550.0)*log(Abs(mu)) - (-1.36884186428686e-5 - 1.27647017306773e-5*log(2))*(30.0*t + 2550.0) + 0.0319117543266932)/(-27.0*t - 945.0)\n",
      "==================================================\n",
      "-1000.0*(0.0009765625*(0.1*(-39 + 0.08*(10.0*t + 100.0)**2/(t + 10.0)**2)*(-20.0*t - 200.0)/sqrt((t + 10.0)**2) + (-3 + 0.07*(10.0*t + 100.0)**2/(t + 10.0)**2)*(13.5*t + 810.0)/sqrt((t + 10.0)**2) + 0.018*(t + 60.0)**2*(10.0*t + 100.0)*(100.0*t**2 + 2000.0*t + 10000.0)*((t + 10.0)**2)**(-2.5) - 0.018*(t + 35.0)**3*(10.0*t + 100.0)*(4*PolyLOG(2, 2/((t + 60.0)/sqrt((t + 10.0)**2) + 1)) + log(Abs((t - sqrt((t + 10.0)**2) + 60.0)/(t + sqrt((t + 10.0)**2) + 60.0)))**2)*(100.0*t**2 + 2000.0*t + 10000.0)/(t + 10.0)**6)/pi**5 + 0.004*(6.0*(t + 10.0)**10*(t + 35.0)**3*(10.0*t + 100.0)*(100.0*t**2 + 2000.0*t + 10000.0)*log(Abs((t - sqrt((t + 10.0)**2) + 60.0)/(t + sqrt((t + 10.0)**2) + 60.0))) - 2250.0*(t + 10.0)**2*(t + 60.0)*((t + 10.0)**2)**(13/2) + (10.0*t + 100.0)*(3*(0.5*t + 30.0)**2*(-300.0*(t + 10.0)**2 + 5*(10.0*t + 100.0)**2) + 600.0*(t + 10.0)**4 + 67.5*(t + 10.0)**2*(t + 60.0)*(10.0*t + 100.0) - 1.0*(t + 10.0)**2*(10.0*t + 100.0)**2)*((t + 10.0)**2)**(11/2))*(0.0029296875*log(Abs(mu)) - 0.00146484375*EulerGamma + log(pi**0.00146484375) + 0.00349554838054669)/(pi**5*(t + 10.0)**16) - 5.859375e-6*(6.0*(t + 10.0)**10*(t + 35.0)**3*(10.0*t + 100.0)*(100.0*t**2 + 2000.0*t + 10000.0)*log(Abs((t - sqrt((t + 10.0)**2) + 60.0)/(t + sqrt((t + 10.0)**2) + 60.0))) - 2250.0*(t + 10.0)**2*(t + 60.0)*((t + 10.0)**2)**(13/2) + (10.0*t + 100.0)*(-3*(0.5*t + 30.0)**2*(300.0*(t + 10.0)**2 - 5*(10.0*t + 100.0)**2) + 600.0*(t + 10.0)**4 + 67.5*(t + 10.0)**2*(t + 60.0)*(10.0*t + 100.0) - 1.0*(t + 10.0)**2*(10.0*t + 100.0)**2)*((t + 10.0)**2)**(11/2))*log(Abs(B))/(pi**5*(t + 10.0)**16))/((-27.0*t - 945.0)*sqrt(t**2 + 20.0*t + 100.0))\n",
      "::::::::::::::::::::::::::::::::::::::::::::::::::\n",
      "-1000.0*(3.19117543266932e-7*(-39 + 0.08*(10.0*t + 100.0)**2/(t + 10.0)**2)*(-20.0*t - 200.0)/sqrt((t + 10.0)**2) + 3.19117543266932e-6*(-3 + 0.07*(10.0*t + 100.0)**2/(t + 10.0)**2)*(13.5*t + 810.0)/sqrt((t + 10.0)**2) + 5.74411577880478e-8*(t + 60.0)**2*(10.0*t + 100.0)*(100.0*t**2 + 2000.0*t + 10000.0)*((t + 10.0)**2)**(-2.5) - 5.74411577880478e-8*(t + 35.0)**3*(10.0*t + 100.0)*(4*PolyLOG(2, 2/((t + 60.0)/sqrt((t + 10.0)**2) + 1)) + log(Abs((t - sqrt((t + 10.0)**2) + 60.0)/(t + sqrt((t + 10.0)**2) + 60.0)))**2)*(100.0*t**2 + 2000.0*t + 10000.0)/(t + 10.0)**6 + 1.30710545722135e-5*(6.0*(t + 10.0)**10*(t + 35.0)**3*(10.0*t + 100.0)*(100.0*t**2 + 2000.0*t + 10000.0)*log(Abs((t - sqrt((t + 10.0)**2) + 60.0)/(t + sqrt((t + 10.0)**2) + 60.0))) - 2250.0*(t + 10.0)**2*(t + 60.0)*((t + 10.0)**2)**(13/2) + (10.0*t + 100.0)*(3*(0.5*t + 30.0)**2*(-300.0*(t + 10.0)**2 + 5*(10.0*t + 100.0)**2) + 600.0*(t + 10.0)**4 + 67.5*(t + 10.0)**2*(t + 60.0)*(10.0*t + 100.0) - 1.0*(t + 10.0)**2*(10.0*t + 100.0)**2)*((t + 10.0)**2)**(11/2))*(0.0029296875*log(Abs(mu)) - 0.00146484375*EulerGamma + 0.0051723987992713)/(t + 10.0)**16 - 1.91470525960159e-8*(6.0*(t + 10.0)**10*(t + 35.0)**3*(10.0*t + 100.0)*(100.0*t**2 + 2000.0*t + 10000.0)*log(Abs((t - sqrt((t + 10.0)**2) + 60.0)/(t + sqrt((t + 10.0)**2) + 60.0))) - 2250.0*(t + 10.0)**2*(t + 60.0)*((t + 10.0)**2)**(13/2) + (10.0*t + 100.0)*(-3*(0.5*t + 30.0)**2*(300.0*(t + 10.0)**2 - 5*(10.0*t + 100.0)**2) + 600.0*(t + 10.0)**4 + 67.5*(t + 10.0)**2*(t + 60.0)*(10.0*t + 100.0) - 1.0*(t + 10.0)**2*(10.0*t + 100.0)**2)*((t + 10.0)**2)**(11/2))*log(Abs(B))/(t + 10.0)**16)/((-27.0*t - 945.0)*sqrt(t**2 + 20.0*t + 100.0))\n",
      "==================================================\n",
      "0.333333333333333*(-0.0390625*t*log(Abs(B))/pi**5 + 0.078125*t*log(Abs(mu))/pi**5 - 0.0390625*EulerGamma*t/pi**5 + 0.0390625*t/pi**5 + 10.0*t*(0.00390625/pi**5 + 0.00390625*log(pi)/pi**5 + 0.0078125*log(2)/pi**5))/t\n",
      "::::::::::::::::::::::::::::::::::::::::::::::::::\n",
      "0.333333333333333*(-0.000127647017306773*t*log(Abs(B)) + 0.000255294034613546*t*log(Abs(mu)) - 0.000127647017306773*EulerGamma*t + 0.000127647017306773*t + 10.0*t*(2.55294034613546e-5*log(2) + 2.73768372857371e-5))/t\n",
      "==================================================\n",
      "15*(-0.01953125*t*log(Abs(B))/pi**5 + 0.0390625*t*log(Abs(mu))/pi**5 - 0.01953125*EulerGamma*t/pi**5 + 0.01953125*t/pi**5 + 10.0*t*(0.001953125*log(pi)/pi**5 + 0.00390625*log(2)/pi**5 + 0.00390625/pi**5))/t\n",
      "::::::::::::::::::::::::::::::::::::::::::::::::::\n",
      "15*(-6.38235086533864e-5*t*log(Abs(B)) + 0.000127647017306773*t*log(Abs(mu)) - 6.38235086533864e-5*EulerGamma*t + 6.38235086533864e-5*t + 10.0*t*(1.27647017306773e-5*log(2) + 2.00707695082072e-5))/t\n",
      "==================================================\n",
      "0.00333333333333333*(-0.00390625*(100.0*t**2 + 7000.0*t + 122500.0)*log(Abs(B))/pi**5 + 0.0078125*(100.0*t**2 + 7000.0*t + 122500.0)*log(Abs(mu))/pi**5 - 0.00390625*EulerGamma*(100.0*t**2 + 7000.0*t + 122500.0)/pi**5 + (200.0*t**2 + 14000.0*t + 245000.0)*(0.001953125*log(pi)/pi**5 + 0.00390625*log(2)/pi**5 + 0.00390625/pi**5) + 0.001953125*(300.0*t**2 + 16000.0*t + 130000.0)/pi**5)/t\n",
      "::::::::::::::::::::::::::::::::::::::::::::::::::\n",
      "0.00333333333333333*(0.00191470525960159*t**2 + 0.102117613845418*t - 1.27647017306773e-5*(100.0*t**2 + 7000.0*t + 122500.0)*log(Abs(B)) + 2.55294034613546e-5*(100.0*t**2 + 7000.0*t + 122500.0)*log(Abs(mu)) - 1.27647017306773e-5*EulerGamma*(100.0*t**2 + 7000.0*t + 122500.0) + (1.27647017306773e-5*log(2) + 2.00707695082072e-5)*(200.0*t**2 + 14000.0*t + 245000.0) + 0.829705612494024)/t\n",
      "==================================================\n",
      "0.0333333333333333*(0.0078125*(t + 25.0)*(10.0*t + 100.0)/pi**5 + 0.001953125*(t + 25.0)*(10.0*t + 350.0)*log(Abs(B))**2/pi**5 + 0.0078125*(t + 25.0)*(10.0*t + 350.0)*log(Abs(mu))**2/pi**5 + 0.00390625*(-0.333333333333333*pi**2 + 2*EulerGamma**2)*(t + 25.0)*(10.0*t + 350.0)/pi**5 + 0.001953125*(EulerGamma**2 + 0.166666666666667*pi**2)*(t + 25.0)*(10.0*t + 350.0)/pi**5 + (10.0*t + 100.0)*(0.00390625*(t + 25.0)/pi**5 + (2*t + 50.0)*(0.001953125*log(pi)/pi**5 + 0.00390625*log(2)/pi**5) - 0.001953125*(8*t + 190.0)/pi**5) + (10.0*t + 350.0)*(0.00390625*(t + 25.0)/pi**5 - 0.0078125*(t + 35.0)/pi**5 + (2*t + 50.0)*(0.001953125*log(pi)/pi**5 + 0.00390625*log(2)/pi**5) + (2*t + 50.0)*(0.0009765625*log(pi)**2/pi**5 + 0.00390625*log(2)**2/pi**5 + 0.00390625*log(2)*log(pi)/pi**5) - (8*t + 190.0)*(0.001953125*log(pi)/pi**5 + 0.00390625*log(2)/pi**5) - 0.001953125*(8*t + 190.0)/pi**5) + 2*(0.00390625*(t + 25.0)*(10.0*t + 100.0)/pi**5 + (10.0*t + 350.0)*(0.00390625*(t + 25.0)/pi**5 + (2*t + 50.0)*(0.001953125*log(pi)/pi**5 + 0.00390625*log(2)/pi**5) - 0.001953125*(8*t + 190.0)/pi**5))*log(Abs(mu)) - 2*EulerGamma*(0.00390625*(t + 25.0)*(10.0*t + 100.0)/pi**5 + 0.0078125*(t + 25.0)*(10.0*t + 350.0)*log(Abs(mu))/pi**5 + (10.0*t + 350.0)*(0.00390625*(t + 25.0)/pi**5 + (2*t + 50.0)*(0.001953125*log(pi)/pi**5 + 0.00390625*log(2)/pi**5) - 0.001953125*(8*t + 190.0)/pi**5)) + EulerGamma*(0.00390625*(t + 25.0)*(10.0*t + 100.0)/pi**5 + 0.0078125*(t + 25.0)*(10.0*t + 350.0)*log(Abs(mu))/pi**5 - 0.0078125*EulerGamma*(t + 25.0)*(10.0*t + 350.0)/pi**5 + (10.0*t + 350.0)*(0.00390625*(t + 25.0)/pi**5 + (2*t + 50.0)*(0.001953125*log(pi)/pi**5 + 0.00390625*log(2)/pi**5) - 0.001953125*(8*t + 190.0)/pi**5)) - (0.00390625*(t + 25.0)*(10.0*t + 100.0)/pi**5 + 0.0078125*(t + 25.0)*(10.0*t + 350.0)*log(Abs(mu))/pi**5 - 0.00390625*EulerGamma*(t + 25.0)*(10.0*t + 350.0)/pi**5 + (10.0*t + 350.0)*(0.00390625*(t + 25.0)/pi**5 + (2*t + 50.0)*(0.001953125*log(pi)/pi**5 + 0.00390625*log(2)/pi**5) - 0.001953125*(8*t + 190.0)/pi**5))*log(Abs(B)))/t\n",
      "::::::::::::::::::::::::::::::::::::::::::::::::::\n",
      "0.0333333333333333*(2.55294034613546e-5*(t + 25.0)*(10.0*t + 100.0) + 6.38235086533864e-6*(t + 25.0)*(10.0*t + 350.0)*log(Abs(B))**2 + 2.55294034613546e-5*(t + 25.0)*(10.0*t + 350.0)*log(Abs(mu))**2 + 1.27647017306773e-5*(-3.28986813369645 + 2*EulerGamma**2)*(t + 25.0)*(10.0*t + 350.0) + 6.38235086533864e-6*(EulerGamma**2 + 1.64493406684823)*(t + 25.0)*(10.0*t + 350.0) + (10.0*t + 100.0)*(-3.82941051920319e-5*t + (7.30606777752993e-6 + 1.27647017306773e-5*log(2))*(2*t + 50.0) - 0.00089352912114741) + (10.0*t + 350.0)*(-6.38235086533864e-5*t + (7.30606777752993e-6 + 1.27647017306773e-5*log(2))*(2*t + 50.0) + (2*t + 50.0)*(4.18173706648991e-6 + 1.27647017306773e-5*log(2)**2 + 1.46121355550599e-5*log(2)) - (7.30606777752993e-6 + 1.27647017306773e-5*log(2))*(8*t + 190.0) - 0.00178705824229482) + 2*(1.27647017306773e-5*(t + 25.0)*(10.0*t + 100.0) + (10.0*t + 350.0)*(-3.82941051920319e-5*t + (7.30606777752993e-6 + 1.27647017306773e-5*log(2))*(2*t + 50.0) - 0.00089352912114741))*log(Abs(mu)) - 2*EulerGamma*(1.27647017306773e-5*(t + 25.0)*(10.0*t + 100.0) + 2.55294034613546e-5*(t + 25.0)*(10.0*t + 350.0)*log(Abs(mu)) + (10.0*t + 350.0)*(-3.82941051920319e-5*t + (7.30606777752993e-6 + 1.27647017306773e-5*log(2))*(2*t + 50.0) - 0.00089352912114741)) + EulerGamma*(1.27647017306773e-5*(t + 25.0)*(10.0*t + 100.0) + 2.55294034613546e-5*(t + 25.0)*(10.0*t + 350.0)*log(Abs(mu)) - 2.55294034613546e-5*EulerGamma*(t + 25.0)*(10.0*t + 350.0) + (10.0*t + 350.0)*(-3.82941051920319e-5*t + (7.30606777752993e-6 + 1.27647017306773e-5*log(2))*(2*t + 50.0) - 0.00089352912114741)) - (1.27647017306773e-5*(t + 25.0)*(10.0*t + 100.0) + 2.55294034613546e-5*(t + 25.0)*(10.0*t + 350.0)*log(Abs(mu)) - 1.27647017306773e-5*EulerGamma*(t + 25.0)*(10.0*t + 350.0) + (10.0*t + 350.0)*(-3.82941051920319e-5*t + (7.30606777752993e-6 + 1.27647017306773e-5*log(2))*(2*t + 50.0) - 0.00089352912114741))*log(Abs(B)))/t\n",
      "==================================================\n",
      "-0.00108506944444444*(-24*t*PolyLOG(2, 2*(t + 35.0)/(t + sqrt((t + 10.0)**2) + 60.0)) + 24*t*PolyLOG(2, -0.1*(10.0*t + 10.0*sqrt((t + 10.0)**2) + 100.0)/(t - sqrt((t + 10.0)**2) + 60.0)) + 6*t*log(Abs(B))**2 - 24*t*log(Abs(B))*log(Abs(mu)) - 12*t*log(Abs(B))*log(25.0*Abs(1/(t + 35.0))) - 24*t*log(2)*log(Abs(B)) - 12*t*log(pi)*log(Abs(B)) + 12*EulerGamma*t*log(Abs(B)) + 24*t*log(Abs(mu))**2 + 24*t*log(Abs(mu))*log(25.0*Abs(1/(t + 35.0))) - 24*EulerGamma*t*log(Abs(mu)) + 24*t*log(pi)*log(Abs(mu)) + 48*t*log(2)*log(Abs(mu)) - 24*t*log(0.5*Abs((t - sqrt((t + 10.0)**2) + 60.0)/(t + 35.0)))*log(2*Abs((t + 35.0)/sqrt((t + 10.0)**2))) - 24*t*log(2*Abs((t + 35.0)/(t + sqrt((t + 10.0)**2) + 60.0)))*log(Abs(0.1*(-10.0*t - 100.0)/sqrt((t + 10.0)**2) + 1)) + 6*t*log(Abs((t - sqrt((t + 10.0)**2) + 60.0)/(t + sqrt((t + 10.0)**2) + 60.0)))*log(Abs((t - sqrt((t + 10.0)**2) + 60.0)*(t + sqrt((t + 10.0)**2) + 60.0)**3/(t + 10.0)**4)) - 12*EulerGamma*t*log(25.0*Abs(1/(t + 35.0))) + 12*t*log(pi)*log(25.0*Abs(1/(t + 35.0))) + 24*t*log(2)*log(25.0*Abs(1/(t + 35.0))) - 24*EulerGamma*t*log(2) - 12*EulerGamma*t*log(pi) + 6*EulerGamma**2*t + 6*t*log(pi)**2 + pi**2*t + 24*t*log(2)**2 + 24*t*log(2)*log(pi) + 420.0*log(Abs(B)) - 840.0*log(Abs(mu)) - 420.0*log(25.0*Abs(1/(t + 35.0))) - 840.0*log(2) - 420.0*log(pi) - 420.0 + 420.0*EulerGamma)/(pi**5*t)\n",
      "::::::::::::::::::::::::::::::::::::::::::::::::::\n",
      "-3.54575048074369e-6*(-24*t*PolyLOG(2, 2*(t + 35.0)/(t + sqrt((t + 10.0)**2) + 60.0)) + 24*t*PolyLOG(2, -0.1*(10.0*t + 10.0*sqrt((t + 10.0)**2) + 100.0)/(t - sqrt((t + 10.0)**2) + 60.0)) + 6*t*log(Abs(B))**2 - 24*t*log(Abs(B))*log(Abs(mu)) - 12*t*log(Abs(B))*log(25.0*Abs(1/(t + 35.0))) - 24*t*log(2)*log(Abs(B)) - 13.7367586301928*t*log(Abs(B)) + 12*EulerGamma*t*log(Abs(B)) + 24*t*log(Abs(mu))**2 + 24*t*log(Abs(mu))*log(25.0*Abs(1/(t + 35.0))) - 24*EulerGamma*t*log(Abs(mu)) + 27.4735172603856*t*log(Abs(mu)) + 48*t*log(2)*log(Abs(mu)) - 24*t*log(0.5*Abs((t - sqrt((t + 10.0)**2) + 60.0)/(t + 35.0)))*log(2*Abs((t + 35.0)/sqrt((t + 10.0)**2))) - 24*t*log(2*Abs((t + 35.0)/(t + sqrt((t + 10.0)**2) + 60.0)))*log(Abs(0.1*(-10.0*t - 100.0)/sqrt((t + 10.0)**2) + 1)) + 6*t*log(Abs((t - sqrt((t + 10.0)**2) + 60.0)/(t + sqrt((t + 10.0)**2) + 60.0)))*log(Abs((t - sqrt((t + 10.0)**2) + 60.0)*(t + sqrt((t + 10.0)**2) + 60.0)**3/(t + 10.0)**4)) - 12*EulerGamma*t*log(25.0*Abs(1/(t + 35.0))) + 13.7367586301928*t*log(25.0*Abs(1/(t + 35.0))) + 24*t*log(2)*log(25.0*Abs(1/(t + 35.0))) - 24*EulerGamma*t*log(2) - 13.7367586301928*EulerGamma*t + 6*EulerGamma**2*t + 24*t*log(2)**2 + 17.73204347043*t + 27.4735172603856*t*log(2) + 420.0*log(Abs(B)) - 840.0*log(Abs(mu)) - 420.0*log(25.0*Abs(1/(t + 35.0))) - 900.786552056748 - 840.0*log(2) + 420.0*EulerGamma)/t\n",
      "==================================================\n",
      "0.0333333333333333*(0.01953125*t*(4*t**2 + 300.0*t + 4900.0)*log(Abs(B))/pi**5 - 0.0390625*t*(4*t**2 + 300.0*t + 4900.0)*log(Abs(mu))/pi**5 - 0.01953125*t*(4*t**2 + 300.0*t + 4900.0)/pi**5 + 0.01953125*EulerGamma*t*(4*t**2 + 300.0*t + 4900.0)/pi**5 - 10.0*t*(0.00390625*(-2*t**2 - 105.0*t - 1225.0)/pi**5 + 0.00390625*(4*t**2 + 300.0*t + 4900.0)/pi**5 + (0.001953125*log(pi)/pi**5 + 0.00390625*log(2)/pi**5)*(4*t**2 + 300.0*t + 4900.0)))/(t*(t + 35.0))\n",
      "::::::::::::::::::::::::::::::::::::::::::::::::::\n",
      "0.0333333333333333*(6.38235086533864e-5*t*(4*t**2 + 300.0*t + 4900.0)*log(Abs(B)) - 0.000127647017306773*t*(4*t**2 + 300.0*t + 4900.0)*log(Abs(mu)) - 6.38235086533864e-5*t*(4*t**2 + 300.0*t + 4900.0) + 6.38235086533864e-5*EulerGamma*t*(4*t**2 + 300.0*t + 4900.0) - 10.0*t*(2.55294034613546e-5*t**2 + 0.00248911683748207*t + (7.30606777752993e-6 + 1.27647017306773e-5*log(2))*(4*t**2 + 300.0*t + 4900.0) + 0.046910278860239))/(t*(t + 35.0))\n",
      "==================================================\n",
      "0.0333333333333333*(0.01953125*t*(t**2 + 70.0*t + 1225.0)*log(Abs(B))**2/pi**5 + 0.078125*t*(t**2 + 70.0*t + 1225.0)*log(Abs(mu))**2/pi**5 + 0.078125*t*(t**2 + 70.0*t + 1225.0)*log(Abs(mu))/pi**5 - 0.0390625*t*(t**2 + 70.0*t + 1225.0)/pi**5 + 0.0390625*t*(-0.0833333333333333*pi**2 + 0.5*EulerGamma**2)*(t**2 + 70.0*t + 1225.0)/pi**5 - 0.00651041666666667*t*(-12 + pi**2)*(t**2 + 70.0*t + 1225.0)/pi**5 + 10.0*t*(0.078125*t/pi**5 + 20.0*t*(0.001953125*log(pi)/pi**5 + 0.00390625*log(2)/pi**5) + (2*t**2 + 140.0*t + 2450.0)*(0.0009765625*log(pi)**2/pi**5 + 0.00390625*log(2)**2/pi**5 + 0.00390625*log(2)*log(pi)/pi**5) + 2*(0.001953125*log(pi)/pi**5 + 0.00390625*log(2)/pi**5)*(2*t**2 + 140.0*t + 2450.0) + 0.00390625*(3*t**2 + 210.0*t + 3675.0)/pi**5) + 2*(-0.0390625*t*(t**2 + 70.0*t + 1225.0)/pi**5 + 10.0*t*(0.0390625*t/pi**5 + 0.0078125*(t**2 + 70.0*t + 1225.0)/pi**5 + (0.001953125*log(pi)/pi**5 + 0.00390625*log(2)/pi**5)*(2*t**2 + 140.0*t + 2450.0)))*log(Abs(mu)) + EulerGamma*(-0.078125*t*(t**2 + 70.0*t + 1225.0)*log(Abs(mu))/pi**5 - 10.0*t*(0.0390625*t/pi**5 + 0.0078125*(t**2 + 70.0*t + 1225.0)/pi**5 + (0.001953125*log(pi)/pi**5 + 0.00390625*log(2)/pi**5)*(2*t**2 + 140.0*t + 2450.0))) + (-0.078125*t*(t**2 + 70.0*t + 1225.0)*log(Abs(mu))/pi**5 + 0.0390625*EulerGamma*t*(t**2 + 70.0*t + 1225.0)/pi**5 - 10.0*t*(0.0390625*t/pi**5 + 0.0078125*(t**2 + 70.0*t + 1225.0)/pi**5 + (0.001953125*log(pi)/pi**5 + 0.00390625*log(2)/pi**5)*(2*t**2 + 140.0*t + 2450.0)))*log(Abs(B)))/(t*(t + 35.0))\n",
      "::::::::::::::::::::::::::::::::::::::::::::::::::\n",
      "0.0333333333333333*(6.38235086533864e-5*t*(t**2 + 70.0*t + 1225.0)*log(Abs(B))**2 + 0.000255294034613546*t*(t**2 + 70.0*t + 1225.0)*log(Abs(mu))**2 + 0.000255294034613546*t*(t**2 + 70.0*t + 1225.0)*log(Abs(mu)) + 0.000127647017306773*t*(-0.822467033424113 + 0.5*EulerGamma**2)*(t**2 + 70.0*t + 1225.0) - 8.2323909992703e-5*t*(t**2 + 70.0*t + 1225.0) + 10.0*t*(3.82941051920319e-5*t**2 + 20.0*t*(7.30606777752993e-6 + 1.27647017306773e-5*log(2)) + 0.00293588139805578*t + (4.18173706648991e-6 + 1.27647017306773e-5*log(2)**2 + 1.46121355550599e-5*log(2))*(2*t**2 + 140.0*t + 2450.0) + 2*(7.30606777752993e-6 + 1.27647017306773e-5*log(2))*(2*t**2 + 140.0*t + 2450.0) + 0.046910278860239) + 2*(-0.000127647017306773*t*(t**2 + 70.0*t + 1225.0) + 10.0*t*(2.55294034613546e-5*t**2 + 0.00191470525960159*t + (7.30606777752993e-6 + 1.27647017306773e-5*log(2))*(2*t**2 + 140.0*t + 2450.0) + 0.0312735192401594))*log(Abs(mu)) + EulerGamma*(-0.000255294034613546*t*(t**2 + 70.0*t + 1225.0)*log(Abs(mu)) - 10.0*t*(2.55294034613546e-5*t**2 + 0.00191470525960159*t + (7.30606777752993e-6 + 1.27647017306773e-5*log(2))*(2*t**2 + 140.0*t + 2450.0) + 0.0312735192401594)) + (-0.000255294034613546*t*(t**2 + 70.0*t + 1225.0)*log(Abs(mu)) + 0.000127647017306773*EulerGamma*t*(t**2 + 70.0*t + 1225.0) - 10.0*t*(2.55294034613546e-5*t**2 + 0.00191470525960159*t + (7.30606777752993e-6 + 1.27647017306773e-5*log(2))*(2*t**2 + 140.0*t + 2450.0) + 0.0312735192401594))*log(Abs(B)))/(t*(t + 35.0))\n",
      "==================================================\n",
      "0.333333333333333*(-2*(0.00390625*(2*t**3 + 185.0*t**2 + 4900.0*t + 30625.0)/pi**5 + (0.0009765625*log(pi)/pi**5 + 0.001953125*log(2)/pi**5)*(8*t**3 + 740.0*t**2 + 19600.0*t + 122500.0) - 0.0009765625*(12*t**3 + 960.0*t**2 + 28700.0*t + 245000.0)/pi**5)*log(Abs(mu)) + 0.00390625*(t**3 + 105.0*t**2 + 3675.0*t + 42875.0)/pi**5 - 0.001953125*(2*t**3 + 185.0*t**2 + 4900.0*t + 30625.0)*log(Abs(B))**2/pi**5 - 0.0078125*(2*t**3 + 185.0*t**2 + 4900.0*t + 30625.0)*log(Abs(mu))**2/pi**5 - 0.00390625*(2*t**3 + 185.0*t**2 + 4900.0*t + 30625.0)/pi**5 - 0.00390625*(-0.0833333333333333*pi**2 + 0.5*EulerGamma**2)*(2*t**3 + 185.0*t**2 + 4900.0*t + 30625.0)/pi**5 + 0.000651041666666667*(2*t**3 + 185.0*t**2 + 4900.0*t + 30625.0)/pi**3 - (0.00048828125*log(pi)**2/pi**5 + 0.001953125*log(2)**2/pi**5 + 0.001953125*log(2)*log(pi)/pi**5)*(8*t**3 + 740.0*t**2 + 19600.0*t + 122500.0) - (0.0009765625*log(pi)/pi**5 + 0.001953125*log(2)/pi**5)*(8*t**3 + 740.0*t**2 + 19600.0*t + 122500.0) + 0.0009765625*(12*t**3 + 960.0*t**2 + 28700.0*t + 245000.0)/pi**5 + (0.0009765625*log(pi)/pi**5 + 0.001953125*log(2)/pi**5)*(12*t**3 + 960.0*t**2 + 28700.0*t + 245000.0) - EulerGamma*(0.00390625*(-2*t**3 - 185.0*t**2 - 4900.0*t - 30625.0)/pi**5 - 0.0078125*(2*t**3 + 185.0*t**2 + 4900.0*t + 30625.0)*log(Abs(mu))/pi**5 - (0.0009765625*log(pi)/pi**5 + 0.001953125*log(2)/pi**5)*(8*t**3 + 740.0*t**2 + 19600.0*t + 122500.0) + 0.0009765625*(12*t**3 + 960.0*t**2 + 28700.0*t + 245000.0)/pi**5) - (0.00390625*(-2*t**3 - 185.0*t**2 - 4900.0*t - 30625.0)/pi**5 - 0.0078125*(2*t**3 + 185.0*t**2 + 4900.0*t + 30625.0)*log(Abs(mu))/pi**5 + 0.00390625*EulerGamma*(2*t**3 + 185.0*t**2 + 4900.0*t + 30625.0)/pi**5 - (0.0009765625*log(pi)/pi**5 + 0.001953125*log(2)/pi**5)*(8*t**3 + 740.0*t**2 + 19600.0*t + 122500.0) + 0.0009765625*(12*t**3 + 960.0*t**2 + 28700.0*t + 245000.0)/pi**5)*log(Abs(B)))/(t*(t + 35.0))\n",
      "::::::::::::::::::::::::::::::::::::::::::::::::::\n",
      "0.333333333333333*(6.75235889212497e-5*t**3 + 0.00592681443194867*t**2 + 0.178835729674273*t - 6.38235086533864e-6*(2*t**3 + 185.0*t**2 + 4900.0*t + 30625.0)*log(Abs(B))**2 - 2.55294034613546e-5*(2*t**3 + 185.0*t**2 + 4900.0*t + 30625.0)*log(Abs(mu))**2 - 1.27647017306773e-5*(-0.822467033424113 + 0.5*EulerGamma**2)*(2*t**3 + 185.0*t**2 + 4900.0*t + 30625.0) - (2.09086853324495e-6 + 6.38235086533864e-6*log(2)**2 + 7.30606777752993e-6*log(2))*(8*t**3 + 740.0*t**2 + 19600.0*t + 122500.0) - (3.65303388876496e-6 + 6.38235086533864e-6*log(2))*(8*t**3 + 740.0*t**2 + 19600.0*t + 122500.0) + (3.65303388876496e-6 + 6.38235086533864e-6*log(2))*(12*t**3 + 960.0*t**2 + 28700.0*t + 245000.0) - 2*(-1.27647017306773e-5*t**3 - 0.000702058595187251*t**2 - 0.0290396964372908*t + (3.65303388876496e-6 + 6.38235086533864e-6*log(2))*(8*t**3 + 740.0*t**2 + 19600.0*t + 122500.0) - 0.390918990501992)*log(Abs(mu)) - EulerGamma*(1.27647017306773e-5*t**3 + 0.000702058595187251*t**2 + 0.0290396964372908*t - 2.55294034613546e-5*(2*t**3 + 185.0*t**2 + 4900.0*t + 30625.0)*log(Abs(mu)) - (3.65303388876496e-6 + 6.38235086533864e-6*log(2))*(8*t**3 + 740.0*t**2 + 19600.0*t + 122500.0) + 0.390918990501992) - (1.27647017306773e-5*t**3 + 0.000702058595187251*t**2 + 0.0290396964372908*t - 2.55294034613546e-5*(2*t**3 + 185.0*t**2 + 4900.0*t + 30625.0)*log(Abs(mu)) + 1.27647017306773e-5*EulerGamma*(2*t**3 + 185.0*t**2 + 4900.0*t + 30625.0) - (3.65303388876496e-6 + 6.38235086533864e-6*log(2))*(8*t**3 + 740.0*t**2 + 19600.0*t + 122500.0) + 0.390918990501992)*log(Abs(B)) + 1.58124154205943)/(t*(t + 35.0))\n",
      "==================================================\n",
      "3*(5*t + 105.0)*(0.00390625*(t**2 + 10.0*t)/pi**5 - (t**2 + 10.0*t)*(-0.00390625*log(2)/pi**5 - 0.001953125*log(pi)/pi**5 - 0.001953125/pi**5) + 0.0009765625*(t**2 + 35.0*t)*log(Abs(B))**2/pi**5 + 0.00390625*(t**2 + 35.0*t)*log(Abs(mu))**2/pi**5 + 0.001953125*(-0.333333333333333*pi**2 + 2*EulerGamma**2)*(t**2 + 35.0*t)/pi**5 + 0.0009765625*(EulerGamma**2 + 0.166666666666667*pi**2)*(t**2 + 35.0*t)/pi**5 - (t**2 + 35.0*t)*(-0.00390625*log(2)*log(pi)/pi**5 - 0.00390625*log(2)/pi**5 - 0.001953125*log(pi)/pi**5 - 0.001953125/pi**5 - 0.00390625*log(2)**2/pi**5 - 0.0009765625*log(pi)**2/pi**5) - 2*(0.001953125*(-t**2 - 10.0*t)/pi**5 + (t**2 + 35.0*t)*(-0.00390625*log(2)/pi**5 - 0.001953125*log(pi)/pi**5 - 0.001953125/pi**5))*log(Abs(mu)) + 2*EulerGamma*(0.001953125*(-t**2 - 10.0*t)/pi**5 - 0.00390625*(t**2 + 35.0*t)*log(Abs(mu))/pi**5 + (t**2 + 35.0*t)*(-0.00390625*log(2)/pi**5 - 0.001953125*log(pi)/pi**5 - 0.001953125/pi**5)) + (0.001953125*(-t**2 - 10.0*t)/pi**5 - 0.00390625*(t**2 + 35.0*t)*log(Abs(mu))/pi**5 + (t**2 + 35.0*t)*(-0.00390625*log(2)/pi**5 - 0.001953125*log(pi)/pi**5 - 0.001953125/pi**5) + 0.001953125*EulerGamma*(t**2 + 35.0*t)/pi**5)*log(Abs(B)) - EulerGamma*(0.001953125*(-t**2 - 10.0*t)/pi**5 - 0.00390625*(t**2 + 35.0*t)*log(Abs(mu))/pi**5 + (t**2 + 35.0*t)*(-0.00390625*log(2)/pi**5 - 0.001953125*log(pi)/pi**5 - 0.001953125/pi**5) + 0.00390625*EulerGamma*(t**2 + 35.0*t)/pi**5))/(t*(-t - 35.0))\n",
      "::::::::::::::::::::::::::::::::::::::::::::::::::\n",
      "3*(5*t + 105.0)*(1.27647017306773e-5*t**2 + 0.000127647017306773*t - (-1.36884186428686e-5 - 1.27647017306773e-5*log(2))*(t**2 + 10.0*t) + 3.19117543266932e-6*(t**2 + 35.0*t)*log(Abs(B))**2 + 1.27647017306773e-5*(t**2 + 35.0*t)*log(Abs(mu))**2 + 6.38235086533864e-6*(-3.28986813369645 + 2*EulerGamma**2)*(t**2 + 35.0*t) + 3.19117543266932e-6*(EulerGamma**2 + 1.64493406684823)*(t**2 + 35.0*t) - (t**2 + 35.0*t)*(-2.73768372857371e-5*log(2) - 1.78701557093585e-5 - 1.27647017306773e-5*log(2)**2) - 2*(-6.38235086533864e-6*t**2 - 6.38235086533864e-5*t + (-1.36884186428686e-5 - 1.27647017306773e-5*log(2))*(t**2 + 35.0*t))*log(Abs(mu)) + 2*EulerGamma*(-6.38235086533864e-6*t**2 - 6.38235086533864e-5*t - 1.27647017306773e-5*(t**2 + 35.0*t)*log(Abs(mu)) + (-1.36884186428686e-5 - 1.27647017306773e-5*log(2))*(t**2 + 35.0*t)) + (-6.38235086533864e-6*t**2 - 6.38235086533864e-5*t - 1.27647017306773e-5*(t**2 + 35.0*t)*log(Abs(mu)) + (-1.36884186428686e-5 - 1.27647017306773e-5*log(2))*(t**2 + 35.0*t) + 6.38235086533864e-6*EulerGamma*(t**2 + 35.0*t))*log(Abs(B)) - EulerGamma*(-6.38235086533864e-6*t**2 - 6.38235086533864e-5*t - 1.27647017306773e-5*(t**2 + 35.0*t)*log(Abs(mu)) + (-1.36884186428686e-5 - 1.27647017306773e-5*log(2))*(t**2 + 35.0*t) + 1.27647017306773e-5*EulerGamma*(t**2 + 35.0*t)))/(t*(-t - 35.0))\n",
      "==================================================\n",
      "0.333333333333333*(0.01953125*t*(t + 35.0)*log(Abs(B))**2/pi**5 + 0.078125*t*(t + 35.0)*log(Abs(mu))**2/pi**5 + 0.078125*t*(t + 35.0)*log(Abs(mu))/pi**5 - 0.0390625*t*(t + 35.0)/pi**5 + 0.0390625*t*(-0.0833333333333333*pi**2 + 0.5*EulerGamma**2)*(t + 35.0)/pi**5 - 0.00651041666666667*t*(-12 + pi**2)*(t + 35.0)/pi**5 + 10.0*t*(-2*t*(0.001953125*log(pi)/pi**5 + 0.00390625*log(2)/pi**5) - 0.0078125*t/pi**5 + (2*t + 70.0)*(0.0009765625*log(pi)**2/pi**5 + 0.00390625*log(2)**2/pi**5 + 0.00390625*log(2)*log(pi)/pi**5) + 2*(2*t + 70.0)*(0.001953125*log(pi)/pi**5 + 0.00390625*log(2)/pi**5) + 0.00390625*(3*t + 105.0)/pi**5) + 2*(-0.0390625*t*(t + 35.0)/pi**5 + 10.0*t*(-0.00390625*t/pi**5 + 0.0078125*(t + 35.0)/pi**5 + (2*t + 70.0)*(0.001953125*log(pi)/pi**5 + 0.00390625*log(2)/pi**5)))*log(Abs(mu)) + EulerGamma*(-0.078125*t*(t + 35.0)*log(Abs(mu))/pi**5 - 10.0*t*(-0.00390625*t/pi**5 + 0.0078125*(t + 35.0)/pi**5 + (2*t + 70.0)*(0.001953125*log(pi)/pi**5 + 0.00390625*log(2)/pi**5))) + (-0.078125*t*(t + 35.0)*log(Abs(mu))/pi**5 + 0.0390625*EulerGamma*t*(t + 35.0)/pi**5 - 10.0*t*(-0.00390625*t/pi**5 + 0.0078125*(t + 35.0)/pi**5 + (2*t + 70.0)*(0.001953125*log(pi)/pi**5 + 0.00390625*log(2)/pi**5)))*log(Abs(B)))/(t*(-t - 35.0))\n",
      "::::::::::::::::::::::::::::::::::::::::::::::::::\n",
      "0.333333333333333*(6.38235086533864e-5*t*(t + 35.0)*log(Abs(B))**2 + 0.000255294034613546*t*(t + 35.0)*log(Abs(mu))**2 + 0.000255294034613546*t*(t + 35.0)*log(Abs(mu)) + 0.000127647017306773*t*(-0.822467033424113 + 0.5*EulerGamma**2)*(t + 35.0) - 8.2323909992703e-5*t*(t + 35.0) + 10.0*t*(-2*t*(7.30606777752993e-6 + 1.27647017306773e-5*log(2)) + 1.27647017306773e-5*t + (2*t + 70.0)*(4.18173706648991e-6 + 1.27647017306773e-5*log(2)**2 + 1.46121355550599e-5*log(2)) + 2*(7.30606777752993e-6 + 1.27647017306773e-5*log(2))*(2*t + 70.0) + 0.00134029368172112) + 2*(-0.000127647017306773*t*(t + 35.0) + 10.0*t*(1.27647017306773e-5*t + (7.30606777752993e-6 + 1.27647017306773e-5*log(2))*(2*t + 70.0) + 0.00089352912114741))*log(Abs(mu)) + EulerGamma*(-0.000255294034613546*t*(t + 35.0)*log(Abs(mu)) - 10.0*t*(1.27647017306773e-5*t + (7.30606777752993e-6 + 1.27647017306773e-5*log(2))*(2*t + 70.0) + 0.00089352912114741)) + (-0.000255294034613546*t*(t + 35.0)*log(Abs(mu)) + 0.000127647017306773*EulerGamma*t*(t + 35.0) - 10.0*t*(1.27647017306773e-5*t + (7.30606777752993e-6 + 1.27647017306773e-5*log(2))*(2*t + 70.0) + 0.00089352912114741))*log(Abs(B)))/(t*(-t - 35.0))\n",
      "==================================================\n",
      "(t + 60.0)*(0.00048828125*(-122*t**2 - 1120.0*t + 20650.0)*log(Abs(B))/pi**5 - 0.0009765625*(-122*t**2 - 1120.0*t + 20650.0)*log(Abs(mu))/pi**5 - (0.00048828125*log(pi)/pi**5 + 0.0009765625*log(2)/pi**5)*(-122*t**2 - 1120.0*t + 20650.0) + 0.00048828125*EulerGamma*(-122*t**2 - 1120.0*t + 20650.0)/pi**5 - 0.00048828125*(32*t**2 - 770.0*t + 22050.0)/pi**5 + 0.00048828125*(366*t**2 + 3360.0*t - 61950.0)/pi**5)/(t*(-3.0*t - 105.0))\n",
      "::::::::::::::::::::::::::::::::::::::::::::::::::\n",
      "(t + 60.0)*(0.000532926297255777*t**2 + 0.00658977726846215*t + 1.59558771633466e-6*(-122*t**2 - 1120.0*t + 20650.0)*log(Abs(B)) - 3.19117543266932e-6*(-122*t**2 - 1120.0*t + 20650.0)*log(Abs(mu)) - (1.82651694438248e-6 + 3.19117543266932e-6*log(2))*(-122*t**2 - 1120.0*t + 20650.0) + 1.59558771633466e-6*EulerGamma*(-122*t**2 - 1120.0*t + 20650.0) - 0.134029368172112)/(t*(-3.0*t - 105.0))\n",
      "==================================================\n",
      "(2*t + 35.0)*(0.0130208333333333*t*log(Abs(B))/pi**5 - 0.0260416666666667*t*log(Abs(mu))/pi**5 - 6.66666666666667*t*(0.001953125*log(pi)/pi**5 + 0.00390625*log(2)/pi**5) - 0.0282118055555556*t/pi**5 + 0.0130208333333333*EulerGamma*t/pi**5)/(t*(-3.0*t - 105.0))\n",
      "::::::::::::::::::::::::::::::::::::::::::::::::::\n",
      "(2*t + 35.0)*(4.25490057689243e-5*t*log(Abs(B)) - 8.50980115378486e-5*t*log(Abs(mu)) - 6.66666666666667*t*(7.30606777752993e-6 + 1.27647017306773e-5*log(2)) - 9.2189512499336e-5*t + 4.25490057689243e-5*EulerGamma*t)/(t*(-3.0*t - 105.0))\n",
      "==================================================\n",
      "10.0*(0.00048828125*(-8*t**2 + 490.0*t + 22050.0)/pi**5 - 0.00048828125*(-4*t**2 + 210.0*t + 12250.0)*log(Abs(B))/pi**5 + 0.0009765625*(-4*t**2 + 210.0*t + 12250.0)*log(Abs(mu))/pi**5 - 0.00048828125*EulerGamma*(-4*t**2 + 210.0*t + 12250.0)/pi**5 + 0.5*(0.0009765625*log(pi)/pi**5 + 0.001953125*log(2)/pi**5)*(-4*t**2 + 210.0*t + 12250.0) + 0.00146484375*(-4*t**2 + 210.0*t + 12250.0)/pi**5)/(t*(-3.0*t - 105.0))\n",
      "::::::::::::::::::::::::::::::::::::::::::::::::::\n",
      "10.0*(-3.19117543266932e-5*t**2 + 0.00178705824229482*t - 1.59558771633466e-6*(-4*t**2 + 210.0*t + 12250.0)*log(Abs(B)) + 3.19117543266932e-6*(-4*t**2 + 210.0*t + 12250.0)*log(Abs(mu)) - 1.59558771633466e-6*EulerGamma*(-4*t**2 + 210.0*t + 12250.0) + 0.5*(3.65303388876496e-6 + 6.38235086533864e-6*log(2))*(-4*t**2 + 210.0*t + 12250.0) + 0.0938205577204781)/(t*(-3.0*t - 105.0))\n",
      "==================================================\n",
      "(0.0009765625*(-690*t**3 - 26760.0*t**2 - 279600.0*t + 1863750.0)/pi**5 - 0.0009765625*(-230*t**3 - 8920.0*t**2 - 93200.0*t + 621250.0)*log(Abs(B))/pi**5 + 0.001953125*(-230*t**3 - 8920.0*t**2 - 93200.0*t + 621250.0)*log(Abs(mu))/pi**5 - 0.0009765625*EulerGamma*(-230*t**3 - 8920.0*t**2 - 93200.0*t + 621250.0)/pi**5 + (0.0009765625*log(pi)/pi**5 + 0.001953125*log(2)/pi**5)*(-230*t**3 - 8920.0*t**2 - 93200.0*t + 621250.0) + 0.0009765625*(108*t**3 + 3240.0*t**2 - 49250.0*t + 628250.0)/pi**5)/(t*(-3.0*t - 105.0))\n",
      "::::::::::::::::::::::::::::::::::::::::::::::::::\n",
      "(-0.00185726410181355*t**3 - 0.0750564461763825*t**2 - 1.04941804103331*t - 3.19117543266932e-6*(-230*t**3 - 8920.0*t**2 - 93200.0*t + 621250.0)*log(Abs(B)) + 6.38235086533864e-6*(-230*t**3 - 8920.0*t**2 - 93200.0*t + 621250.0)*log(Abs(mu)) - 3.19117543266932e-6*EulerGamma*(-230*t**3 - 8920.0*t**2 - 93200.0*t + 621250.0) + (3.65303388876496e-6 + 6.38235086533864e-6*log(2))*(-230*t**3 - 8920.0*t**2 - 93200.0*t + 621250.0) + 7.95240917821195)/(t*(-3.0*t - 105.0))\n",
      "==================================================\n",
      "10.0*(0.00048828125*(-38*t**2 - 910.0*t + 7000.0)*log(Abs(B))/pi**5 - 0.0009765625*(-38*t**2 - 910.0*t + 7000.0)*log(Abs(mu))/pi**5 - 0.5*(0.0009765625*log(pi)/pi**5 + 0.001953125*log(2)/pi**5)*(-38*t**2 - 910.0*t + 7000.0) + 0.00048828125*EulerGamma*(-38*t**2 - 910.0*t + 7000.0)/pi**5 - 0.00048828125*(-24*t**2 - 1140.0*t - 700.0)/pi**5 + 0.00146484375*(38*t**2 + 910.0*t - 7000.0)/pi**5)/(t*(-3.0*t - 105.0))\n",
      "::::::::::::::::::::::::::::::::::::::::::::::::::\n",
      "10.0*(0.000220191104854183*t**2 + 0.00617492446221514*t + 1.59558771633466e-6*(-38*t**2 - 910.0*t + 7000.0)*log(Abs(B)) - 3.19117543266932e-6*(-38*t**2 - 910.0*t + 7000.0)*log(Abs(mu)) - 0.5*(3.65303388876496e-6 + 6.38235086533864e-6*log(2))*(-38*t**2 - 910.0*t + 7000.0) + 1.59558771633466e-6*EulerGamma*(-38*t**2 - 910.0*t + 7000.0) - 0.0323904306415936)/(t*(-3.0*t - 105.0))\n",
      "==================================================\n",
      "(-0.00651041666666667*t*(20*t + 630.0)*log(Abs(B))/pi**5 + 0.0130208333333333*t*(20*t + 630.0)*log(Abs(mu))/pi**5 - 0.00651041666666667*EulerGamma*t*(20*t + 630.0)/pi**5 + 0.009765625*t*(20*t + 630.0)/pi**5 + 0.00217013888888889*t*(100*t + 3150.0)/pi**5 + 3.33333333333333*t*(0.00390625*(-9*t - 315.0)/pi**5 + (20*t + 630.0)*(0.001953125*log(pi)/pi**5 + 0.00390625*log(2)/pi**5)))/(t*(-3.0*t - 105.0))\n",
      "::::::::::::::::::::::::::::::::::::::::::::::::::\n",
      "(-2.12745028844621e-5*t*(20*t + 630.0)*log(Abs(B)) + 4.25490057689243e-5*t*(20*t + 630.0)*log(Abs(mu)) - 2.12745028844621e-5*EulerGamma*t*(20*t + 630.0) + 3.19117543266932e-5*t*(20*t + 630.0) + 7.09150096148738e-6*t*(100*t + 3150.0) + 3.33333333333333*t*(-0.000114882315576096*t + (7.30606777752993e-6 + 1.27647017306773e-5*log(2))*(20*t + 630.0) - 0.00402088104516335))/(t*(-3.0*t - 105.0))\n",
      "==================================================\n",
      "(0.00048828125*(-12*PolyLOG(2, (t - sqrt(t**2 + 20.0*t + 100.0) + 60.0)/(t + sqrt(t**2 + 20.0*t + 100.0) + 60.0)) + 3*log(Abs((t - sqrt(t**2 + 20.0*t + 100.0) + 60.0)/(t + sqrt(t**2 + 20.0*t + 100.0) + 60.0)))*log(Abs((t - sqrt(t**2 + 20.0*t + 100.0) + 60.0)*(t + sqrt(t**2 + 20.0*t + 100.0) + 60.0)**3/(t**2 + 20.0*t + 100.0)**2)) - 3*log(16)*log(Abs((t - sqrt(t**2 + 20.0*t + 100.0) + 60.0)/(t + sqrt(t**2 + 20.0*t + 100.0) + 60.0))) + 2*pi**2)*(54*t**4 + 2520.0*t**3 + 28650.0*t**2 + 245000.0*t + 490000.0)/pi**5 + 0.0009765625*(-162*t**4 - 7560.0*t**3 - 85950.0*t**2 - 735000.0*t - 1470000.0)*log(Abs(B))*log(Abs((t + sqrt(t**2 + 20.0*t + 100.0) + 60.0)/(t - sqrt(t**2 + 20.0*t + 100.0) + 60.0)))/pi**5 - (-0.005859375*(54*t**4 + 2520.0*t**3 + 28650.0*t**2 + 245000.0*t + 490000.0)*log(Abs(mu))/pi**5 - 6*(0.00048828125*log(pi)/pi**5 + 0.0009765625*log(2)/pi**5)*(54*t**4 + 2520.0*t**3 + 28650.0*t**2 + 245000.0*t + 490000.0) - 0.0029296875*(54*t**4 + 2520.0*t**3 + 28650.0*t**2 + 245000.0*t + 490000.0)/pi**5 + 0.0029296875*EulerGamma*(54*t**4 + 2520.0*t**3 + 28650.0*t**2 + 245000.0*t + 490000.0)/pi**5 + 0.0029296875*(72*t**4 + 3960.0*t**3 + 13700.0*t**2 - 1438500.0*t + 4410000.0)/pi**5)*log(Abs((t + sqrt(t**2 + 20.0*t + 100.0) + 60.0)/(t - sqrt(t**2 + 20.0*t + 100.0) + 60.0))))/(t*(-9.0*t - 315.0)*sqrt(t**2 + 20.0*t + 100.0))\n",
      "::::::::::::::::::::::::::::::::::::::::::::::::::\n",
      "(1.59558771633466e-6*(-12*PolyLOG(2, (t - sqrt(t**2 + 20.0*t + 100.0) + 60.0)/(t + sqrt(t**2 + 20.0*t + 100.0) + 60.0)) + 3*log(Abs((t - sqrt(t**2 + 20.0*t + 100.0) + 60.0)/(t + sqrt(t**2 + 20.0*t + 100.0) + 60.0)))*log(Abs((t - sqrt(t**2 + 20.0*t + 100.0) + 60.0)*(t + sqrt(t**2 + 20.0*t + 100.0) + 60.0)**3/(t**2 + 20.0*t + 100.0)**2)) - 3*log(16)*log(Abs((t - sqrt(t**2 + 20.0*t + 100.0) + 60.0)/(t + sqrt(t**2 + 20.0*t + 100.0) + 60.0))) + 19.7392088021787)*(54*t**4 + 2520.0*t**3 + 28650.0*t**2 + 245000.0*t + 490000.0) + 3.19117543266932e-6*(-162*t**4 - 7560.0*t**3 - 85950.0*t**2 - 735000.0*t - 1470000.0)*log(Abs(B))*log(Abs((t + sqrt(t**2 + 20.0*t + 100.0) + 60.0)/(t - sqrt(t**2 + 20.0*t + 100.0) + 60.0))) - (0.000172323473364143*t**4 + 0.0137858778691315*t**3 - 0.143124218155219*t**2 - 16.1170315226964*t - 1.91470525960159e-5*(54*t**4 + 2520.0*t**3 + 28650.0*t**2 + 245000.0*t + 490000.0)*log(Abs(mu)) - 6*(1.82651694438248e-6 + 3.19117543266932e-6*log(2))*(54*t**4 + 2520.0*t**3 + 28650.0*t**2 + 245000.0*t + 490000.0) + 9.57352629800797e-6*EulerGamma*(54*t**4 + 2520.0*t**3 + 28650.0*t**2 + 245000.0*t + 490000.0) + 37.5282230881912)*log(Abs((t + sqrt(t**2 + 20.0*t + 100.0) + 60.0)/(t - sqrt(t**2 + 20.0*t + 100.0) + 60.0))))/(t*(-9.0*t - 315.0)*sqrt(t**2 + 20.0*t + 100.0))\n",
      "==================================================\n",
      "-10.0*(-0.0009765625*(0.1*(-120.0*t - 1200.0)/sqrt((t + 10.0)**2) - 0.1*(3000.0*t + 120.0*(t + 10.0)**2 + 30000.0)*log(Abs((t - sqrt((t + 10.0)**2) + 60.0)/(t + sqrt((t + 10.0)**2) + 60.0)))/(t + 10.0)**2)*(t**3 + 25.0*t**2 - 250.0*t + 15750.0)*log(Abs(B))/pi**5 + (0.1*(-120.0*t - 1200.0)/sqrt((t + 10.0)**2) - 0.1*(3000.0*t + 120.0*(t + 10.0)**2 + 30000.0)*log(Abs((t - sqrt((t + 10.0)**2) + 60.0)/(t + sqrt((t + 10.0)**2) + 60.0)))/(t + 10.0)**2)*(0.0009765625*(-t**3 - 95.0*t**2 - 2375.0*t - 9625.0)/pi**5 + 0.001953125*(t**3 + 25.0*t**2 - 250.0*t + 15750.0)*log(Abs(mu))/pi**5 - 0.0009765625*EulerGamma*(t**3 + 25.0*t**2 - 250.0*t + 15750.0)/pi**5 + 0.0009765625*(t**3 + 25.0*t**2 - 250.0*t + 15750.0)/pi**5 + (0.000244140625*log(pi)/pi**5 + 0.00048828125*log(2)/pi**5)*(4*t**3 + 100.0*t**2 - 1000.0*t + 63000.0)) + 0.0009765625*(2*pi**2 + 0.1*(20.0*t + 200.0)*(pi**2*(t + 60.0) - 12*sqrt((t + 10.0)**2))/(t + 10.0)**2 + 0.1*(1500.0*t + 60.0*(t + 10.0)**2 + 15000.0)*log(Abs((t - sqrt((t + 10.0)**2) + 60.0)/(t + sqrt((t + 10.0)**2) + 60.0)))*log(0.0625*Abs((t - sqrt((t + 10.0)**2) + 60.0)*(t + sqrt((t + 10.0)**2) + 60.0)**3/(t + 10.0)**4))/(t + 10.0)**2 - 0.1*(6000.0*t + 240.0*(t + 10.0)**2 + 60000.0)*PolyLOG(2, (t - sqrt((t + 10.0)**2) + 60.0)/(t + sqrt((t + 10.0)**2) + 60.0))/(t + 10.0)**2)*(t**3 + 25.0*t**2 - 250.0*t + 15750.0)/pi**5)/(t*(-9.0*t - 315.0)*sqrt(t**2 + 20.0*t + 100.0))\n",
      "::::::::::::::::::::::::::::::::::::::::::::::::::\n",
      "-10.0*(-3.19117543266932e-6*(0.1*(-120.0*t - 1200.0)/sqrt((t + 10.0)**2) - 0.1*(3000.0*t + 120.0*(t + 10.0)**2 + 30000.0)*log(Abs((t - sqrt((t + 10.0)**2) + 60.0)/(t + sqrt((t + 10.0)**2) + 60.0)))/(t + 10.0)**2)*(t**3 + 25.0*t**2 - 250.0*t + 15750.0)*log(Abs(B)) + (0.1*(-120.0*t - 1200.0)/sqrt((t + 10.0)**2) - 0.1*(3000.0*t + 120.0*(t + 10.0)**2 + 30000.0)*log(Abs((t - sqrt((t + 10.0)**2) + 60.0)/(t + sqrt((t + 10.0)**2) + 60.0)))/(t + 10.0)**2)*(-0.000223382280286853*t**2 - 0.00837683551075697*t + 6.38235086533864e-6*(t**3 + 25.0*t**2 - 250.0*t + 15750.0)*log(Abs(mu)) - 3.19117543266932e-6*EulerGamma*(t**3 + 25.0*t**2 - 250.0*t + 15750.0) + (9.13258472191241e-7 + 1.59558771633466e-6*log(2))*(4*t**3 + 100.0*t**2 - 1000.0*t + 63000.0) + 0.0195459495250996) + 3.19117543266932e-6*(19.7392088021787 + 0.1*(20.0*t + 200.0)*(9.86960440108936*t - 12*sqrt((t + 10.0)**2) + 592.176264065361)/(t + 10.0)**2 + 0.1*(1500.0*t + 60.0*(t + 10.0)**2 + 15000.0)*log(Abs((t - sqrt((t + 10.0)**2) + 60.0)/(t + sqrt((t + 10.0)**2) + 60.0)))*log(0.0625*Abs((t - sqrt((t + 10.0)**2) + 60.0)*(t + sqrt((t + 10.0)**2) + 60.0)**3/(t + 10.0)**4))/(t + 10.0)**2 - 0.1*(6000.0*t + 240.0*(t + 10.0)**2 + 60000.0)*PolyLOG(2, (t - sqrt((t + 10.0)**2) + 60.0)/(t + sqrt((t + 10.0)**2) + 60.0))/(t + 10.0)**2)*(t**3 + 25.0*t**2 - 250.0*t + 15750.0))/(t*(-9.0*t - 315.0)*sqrt(t**2 + 20.0*t + 100.0))\n",
      "==================================================\n",
      "100.0*(-0.0009765625*(-t**2 - 70.0*t + 350.0)*((3*t + 180.0)/sqrt((t + 10.0)**2) - 0.01*(9*t + 540.0)*(10.0*t + 100.0)**2*((t + 10.0)**2)**(-1.5) - 0.1*(120.0*t + 1200.0)/sqrt((t + 10.0)**2) - 0.12*(t + 35.0)**2*(100.0*t**2 + 2000.0*t + 10000.0)*log(Abs((t - sqrt((t + 10.0)**2) + 60.0)/(t + sqrt((t + 10.0)**2) + 60.0)))/(t + 10.0)**4)*log(Abs(B))/pi**5 + 0.0009765625*(-t**2 - 70.0*t + 350.0)*((9*t + 540.0)/sqrt((t + 10.0)**2) - 0.01*(10.0*t + 100.0)**2*(21*t + 1260.0)*((t + 10.0)**2)**(-1.5) - 0.1*(240.0*t + 2400.0)/sqrt((t + 10.0)**2) + 0.02*(t + 35.0)**2*(100.0*t**2 + 2000.0*t + 10000.0)*(-12*PolyLOG(2, (t - sqrt((t + 10.0)**2) + 60.0)/(t + sqrt((t + 10.0)**2) + 60.0)) + 3*log(Abs((t - sqrt((t + 10.0)**2) + 60.0)/(t + sqrt((t + 10.0)**2) + 60.0)))*log(0.0625*Abs((t - sqrt((t + 10.0)**2) + 60.0)*(t + sqrt((t + 10.0)**2) + 60.0)**3/(t + 10.0)**4)) + 2*pi**2)/(t + 10.0)**4)/pi**5 - ((3*t + 180.0)/sqrt((t + 10.0)**2) - 0.01*(9*t + 540.0)*(10.0*t + 100.0)**2*((t + 10.0)**2)**(-1.5) - 0.1*(120.0*t + 1200.0)/sqrt((t + 10.0)**2) - 0.12*(t + 35.0)**2*(100.0*t**2 + 2000.0*t + 10000.0)*log(Abs((t - sqrt((t + 10.0)**2) + 60.0)/(t + sqrt((t + 10.0)**2) + 60.0)))/(t + 10.0)**4)*(-(0.000244140625*log(pi)/pi**5 + 0.00048828125*log(2)/pi**5)*(-4*t**2 - 280.0*t + 1400.0) - 0.001953125*(-t**2 - 70.0*t + 350.0)*log(Abs(mu))/pi**5 - 0.0009765625*(-t**2 - 70.0*t + 350.0)/pi**5 + 0.0009765625*EulerGamma*(-t**2 - 70.0*t + 350.0)/pi**5 + 0.000244140625*(8*t**2 + 220.0*t - 2100.0)/pi**5))/(t*(-9.0*t - 315.0)*sqrt(t**2 + 20.0*t + 100.0))\n",
      "::::::::::::::::::::::::::::::::::::::::::::::::::\n",
      "100.0*(-3.19117543266932e-6*(-t**2 - 70.0*t + 350.0)*((3*t + 180.0)/sqrt((t + 10.0)**2) - 0.01*(9*t + 540.0)*(10.0*t + 100.0)**2*((t + 10.0)**2)**(-1.5) - 0.1*(120.0*t + 1200.0)/sqrt((t + 10.0)**2) - 0.12*(t + 35.0)**2*(100.0*t**2 + 2000.0*t + 10000.0)*log(Abs((t - sqrt((t + 10.0)**2) + 60.0)/(t + sqrt((t + 10.0)**2) + 60.0)))/(t + 10.0)**4)*log(Abs(B)) + 3.19117543266932e-6*(-t**2 - 70.0*t + 350.0)*((9*t + 540.0)/sqrt((t + 10.0)**2) - 0.01*(10.0*t + 100.0)**2*(21*t + 1260.0)*((t + 10.0)**2)**(-1.5) - 0.1*(240.0*t + 2400.0)/sqrt((t + 10.0)**2) + 0.02*(t + 35.0)**2*(100.0*t**2 + 2000.0*t + 10000.0)*(-12*PolyLOG(2, (t - sqrt((t + 10.0)**2) + 60.0)/(t + sqrt((t + 10.0)**2) + 60.0)) + 3*log(Abs((t - sqrt((t + 10.0)**2) + 60.0)/(t + sqrt((t + 10.0)**2) + 60.0)))*log(0.0625*Abs((t - sqrt((t + 10.0)**2) + 60.0)*(t + sqrt((t + 10.0)**2) + 60.0)**3/(t + 10.0)**4)) + 19.7392088021787)/(t + 10.0)**4) - ((3*t + 180.0)/sqrt((t + 10.0)**2) - 0.01*(9*t + 540.0)*(10.0*t + 100.0)**2*((t + 10.0)**2)**(-1.5) - 0.1*(120.0*t + 1200.0)/sqrt((t + 10.0)**2) - 0.12*(t + 35.0)**2*(100.0*t**2 + 2000.0*t + 10000.0)*log(Abs((t - sqrt((t + 10.0)**2) + 60.0)/(t + sqrt((t + 10.0)**2) + 60.0)))/(t + 10.0)**4)*(9.57352629800797e-6*t**2 + 0.000398896929083665*t - (9.13258472191241e-7 + 1.59558771633466e-6*log(2))*(-4*t**2 - 280.0*t + 1400.0) - 6.38235086533864e-6*(-t**2 - 70.0*t + 350.0)*log(Abs(mu)) + 3.19117543266932e-6*EulerGamma*(-t**2 - 70.0*t + 350.0) - 0.00279227850358566))/(t*(-9.0*t - 315.0)*sqrt(t**2 + 20.0*t + 100.0))\n",
      "==================================================\n",
      "(17*t + 280.0)*(0.001953125*(-13*t**2 - 580.0*t)/pi**5 + (-12*t**2 - 570.0*t)*(0.0009765625*log(pi)/pi**5 + 0.001953125*log(2)/pi**5) - 0.001953125*(-6*t**2 - 285.0*t)*log(Abs(B))/pi**5 + 0.00390625*(-6*t**2 - 285.0*t)*log(Abs(mu))/pi**5 - 0.001953125*EulerGamma*(-6*t**2 - 285.0*t)/pi**5)/(t*(-27.0*t - 945.0))\n",
      "::::::::::::::::::::::::::::::::::::::::::::::::::\n",
      "(17*t + 280.0)*(-8.29705612494024e-5*t**2 - 0.00370176350189641*t + (3.65303388876496e-6 + 6.38235086533864e-6*log(2))*(-12*t**2 - 570.0*t) - 6.38235086533864e-6*(-6*t**2 - 285.0*t)*log(Abs(B)) + 1.27647017306773e-5*(-6*t**2 - 285.0*t)*log(Abs(mu)) - 6.38235086533864e-6*EulerGamma*(-6*t**2 - 285.0*t))/(t*(-27.0*t - 945.0))\n"
     ]
    }
   ],
   "source": [
    "test=exp20.subs(g,1)\n",
    "test=test.subs(s,10.0)\n",
    "test=test.subs(Q,5.0)\n",
    "#test=test.subs(t,-1.)\n",
    "#test=test.subs(sp.pi,3.14)\n",
    "ltest=test.as_ordered_terms()\n",
    "for term in ltest:\n",
    "    print \"=\"*50\n",
    "    print term\n",
    "    print \":\"*50\n",
    "    print term.subs(sp.pi,np.pi)"
   ]
  },
  {
   "cell_type": "code",
   "execution_count": 128,
   "metadata": {
    "collapsed": false
   },
   "outputs": [
    {
     "name": "stdout",
     "output_type": "stream",
     "text": [
      "proceesing [44/44]\n"
     ]
    }
   ],
   "source": [
    "exp30=get_s23zero_limit2(exp3)"
   ]
  },
  {
   "cell_type": "code",
   "execution_count": 130,
   "metadata": {
    "collapsed": false
   },
   "outputs": [],
   "source": [
    "#print exp30"
   ]
  },
  {
   "cell_type": "code",
   "execution_count": 131,
   "metadata": {
    "collapsed": false
   },
   "outputs": [
    {
     "name": "stdout",
     "output_type": "stream",
     "text": [
      "proceesing [14/14]\n"
     ]
    }
   ],
   "source": [
    "exp40=get_s23zero_limit2(exp4)"
   ]
  },
  {
   "cell_type": "code",
   "execution_count": 132,
   "metadata": {
    "collapsed": false
   },
   "outputs": [
    {
     "name": "stdout",
     "output_type": "stream",
     "text": [
      "0.209635416666667*g**2*s/pi**5 + 0.00130208333333333*g**2*s*(Q**2 + s + t)/(pi**5*(-Q**2 - s - t)) + 0.00130208333333333*g**2*(Q**4 + 2*Q**2*s + 2*Q**2*t + s**2 + 2*s*t + t**2)/(pi**5*(Q**2 + s + t)) - 0.005859375*g**2*(Q**2 + s + t)*(3*Q**2 + 7*s + 5*t)/(pi**5*(-Q**2 - s - t)) - 0.00130208333333333*g**2*(Q**6 + 2*Q**4*s + 4*Q**4*t + Q**2*s**2 + 8*Q**2*s*t + 5*Q**2*t**2 + 4*s**2*t + 6*s*t**2 + 2*t**3)/(pi**5*t*(Q**2 + s + t)) + 0.005859375*g**2*(3*Q**2 + 3*s + 5*t)*(Q**2*t + s*t + t**2)/(pi**5*t*(-Q**2 - s - t)) + 0.00130208333333333*g**2*(Q**2 + t)*(Q**2*s + s**2 + s*t)/(pi**5*s*t)\n"
     ]
    }
   ],
   "source": [
    "print exp40"
   ]
  },
  {
   "cell_type": "code",
   "execution_count": null,
   "metadata": {
    "collapsed": true
   },
   "outputs": [],
   "source": []
  },
  {
   "cell_type": "code",
   "execution_count": 33,
   "metadata": {
    "collapsed": true
   },
   "outputs": [],
   "source": [
    "gen_code(chn,exp1,exp20,exp3,exp30,exp4,exp40)"
   ]
  },
  {
   "cell_type": "code",
   "execution_count": null,
   "metadata": {
    "collapsed": true
   },
   "outputs": [],
   "source": []
  },
  {
   "cell_type": "code",
   "execution_count": null,
   "metadata": {
    "collapsed": true
   },
   "outputs": [],
   "source": []
  },
  {
   "cell_type": "code",
   "execution_count": 83,
   "metadata": {
    "collapsed": false
   },
   "outputs": [
    {
     "name": "stdout",
     "output_type": "stream",
     "text": [
      "0.358702070396228\n"
     ]
    }
   ],
   "source": [
    "print sp.N(evaluate(exp1,0.2))\n",
    "#print sp.N(evaluate(exp4.replace(PolyLOG(a,b),sp.polylog(a,b)),0.0001))\n",
    "#print sp.N(evaluate(exp1B.replace(PolyLOG(a,b),sp.polylog(a,b)),1e-10))"
   ]
  },
  {
   "cell_type": "code",
   "execution_count": null,
   "metadata": {
    "collapsed": true
   },
   "outputs": [],
   "source": []
  },
  {
   "cell_type": "code",
   "execution_count": null,
   "metadata": {
    "collapsed": true
   },
   "outputs": [],
   "source": []
  },
  {
   "cell_type": "code",
   "execution_count": null,
   "metadata": {
    "collapsed": true
   },
   "outputs": [],
   "source": []
  }
 ],
 "metadata": {
  "kernelspec": {
   "display_name": "Python 2",
   "language": "python",
   "name": "python2"
  },
  "language_info": {
   "codemirror_mode": {
    "name": "ipython",
    "version": 2
   },
   "file_extension": ".py",
   "mimetype": "text/x-python",
   "name": "python",
   "nbconvert_exporter": "python",
   "pygments_lexer": "ipython2",
   "version": "2.7.14"
  }
 },
 "nbformat": 4,
 "nbformat_minor": 2
}
